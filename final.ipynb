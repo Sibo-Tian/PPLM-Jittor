{
 "cells": [
  {
   "cell_type": "code",
   "execution_count": 16,
   "metadata": {},
   "outputs": [],
   "source": [
    "import argparse\n",
    "from tqdm import trange\n",
    "from operator import add\n",
    "\n",
    "import torch\n",
    "import transformers\n",
    "\n",
    "import jittor as jt\n",
    "from jittor import nn\n",
    "import gpt2"
   ]
  },
  {
   "cell_type": "code",
   "execution_count": 17,
   "metadata": {},
   "outputs": [],
   "source": [
    "class myClassificationHead(jt.nn.Module):\n",
    "    def __init__(self, class_size=5, embed_size=2048):\n",
    "        super().__init__()\n",
    "        self.class_size = class_size\n",
    "        self.embed_size = embed_size\n",
    "        self.mlp = jt.nn.Linear(embed_size, class_size)\n",
    "    def execute(self, hidden_state):\n",
    "        lm_logits = self.mlp(hidden_state)\n",
    "        return lm_logits\n",
    "\n",
    "class myDiscriminator2mean(jt.nn.Module):\n",
    "    def __init__(self, class_size=5, embed_size=1024, head=None, model=None):\n",
    "        super().__init__()\n",
    "        if head == None:\n",
    "            self.classifierhead = myClassificationHead(class_size=class_size, embed_size=embed_size)\n",
    "        else:\n",
    "            self.classifierhead = head\n",
    "        self.model = model\n",
    "        self.embed_size = embed_size\n",
    "    \n",
    "    def get_classifier(self):\n",
    "        return self.classifierhead\n",
    "\n",
    "    def train_custom(self):\n",
    "        for param in self.model.parameters():\n",
    "            param.requires_grad = False\n",
    "        pass\n",
    "        self.classifierhead.train()\n",
    "\n",
    "    def execute(self, x):\n",
    "        mask_src = 1 - x.equal(0).unsqueeze(1).detach()\n",
    "        mask_src = mask_src.repeat(1, self.embed_size, 1) #batch_size, 1024, length (repeat each sentence for 1024 times)\n",
    "\n",
    "        x = x.tolist()\n",
    "        x = jt.array(x,dtype=torch.long)\n",
    "        output_dict = self.model(x, output_hidden_states=True)\n",
    "        hidden = output_dict.hidden_states[-1]\n",
    "        # x = model.forward_embed(x)\n",
    "        # hidden, x = model.forward_transformer_embed(x)\n",
    "        #  Hidden has shape batch_size x length x embed-dim\n",
    "        hidden = hidden.tolist()\n",
    "        hidden = jt.array(hidden)\n",
    "\n",
    "        hidden = hidden.permute(0, 2, 1)\n",
    "        _, _, batch_length = hidden.shape\n",
    "        hidden = hidden * mask_src  # / torch.sum(mask_src, dim=-1).unsqueeze(2).repeat(1, 1, batch_length)\n",
    "        #\n",
    "        hidden = hidden.permute(0, 2, 1)\n",
    "        x =  jt.sum(hidden, dim=1)/(jt.sum(mask_src, dim=-1).detach() + 1e-10)\n",
    "        x = self.classifierhead(x)\n",
    "        x = jt.nn.log_softmax(x, dim=-1)\n",
    "        return x"
   ]
  },
  {
   "cell_type": "code",
   "execution_count": 18,
   "metadata": {},
   "outputs": [],
   "source": [
    "SmallConst = 1e-15\n",
    "copy_model = transformers.GPT2LMHeadModel.from_pretrained('gpt2-medium')\n",
    "enc = transformers.GPT2Tokenizer.from_pretrained('gpt2-medium')\n",
    "config = gpt2.GPT2Config()\n",
    "m = gpt2.GPT2Model(config)\n",
    "m.load_state_dict(copy_model.transformer.state_dict())\n",
    "l = jt.nn.Linear(config.n_embd, config.vocab_size, bias=False)\n",
    "l.load_state_dict(copy_model.lm_head.state_dict())\n",
    "model = gpt2.GPT2LMHeadModel(config, m, l)"
   ]
  },
  {
   "cell_type": "code",
   "execution_count": 19,
   "metadata": {},
   "outputs": [],
   "source": [
    "# classifier = myClassificationHead(class_size=5, embed_size=1024)\n",
    "# classifier.load_state_dict(torch.load(\"discrim_models/sentiment_classifierhead.pt\",map_location=torch.device('cpu')))\n",
    "# classifier.eval()\n",
    "# input_ids = jt.array([50256]+enc.encode('Hello guys')).astype(jt.int64).unsqueeze(dim=0)\n",
    "# prev = input_ids[:,-1:]\n",
    "\n",
    "# fuck=model(input_ids)\n",
    "# true_past = fuck.past_key_values\n",
    "# origin_prob = (fuck.logits)\n",
    "\n",
    "# fine = model(input_ids[:,:-1])\n",
    "# past = fine.past_key_values\n",
    "\n",
    "# args.loss_type=2\n",
    "# pertrubed,a,b,c = perturb_past(past=past, model=model, prev=prev, args=args, classifier=classifier, true_past=true_past, original_probs=origin_prob)"
   ]
  },
  {
   "cell_type": "code",
   "execution_count": 20,
   "metadata": {},
   "outputs": [
    {
     "data": {
      "text/plain": [
       "(jt.Var([1.        3.6055512 6.4031243], dtype=float32),\n",
       " jt.Var([1.        3.6055512 6.4031243], dtype=float32))"
      ]
     },
     "execution_count": 20,
     "metadata": {},
     "output_type": "execute_result"
    }
   ],
   "source": [
    "p=jt.arange(6).reshape((3,2))\n",
    "jt.norm(p)+SmallConst,jt.norm(p)"
   ]
  },
  {
   "cell_type": "code",
   "execution_count": 21,
   "metadata": {},
   "outputs": [],
   "source": [
    "def latent_perturb(model, args, context=None, sample=True):\n",
    "    #==================================================prepare the discriminator/bag of words==============================================\n",
    "    if args.discrim == 'clickbait':\n",
    "        classifier = myClassificationHead(class_size=2, embed_size=1024)\n",
    "        classifier.load_state_dict(torch.load(\"discrim_models/clickbait_classifierhead.pt\"))\n",
    "        classifier.eval()\n",
    "        args.label_class = 1 # clickbaity\n",
    "    #TODO map_location=torch.device('cpu')\n",
    "    elif args.discrim == 'sentiment':\n",
    "        classifier = myClassificationHead(class_size=5, embed_size=1024)\n",
    "        classifier.load_state_dict(torch.load(\"discrim_models/sentiment_classifierhead.pt\",map_location=torch.device('cpu')))\n",
    "        classifier.eval()\n",
    "        if args.label_class < 0:\n",
    "            raise Exception('Wrong class for sentiment, use --label-class 2 for *very positive*, 3 for *very negative*')\n",
    "        #args.label_class = 2 # very pos\n",
    "        #args.label_class = 3 # very neg\n",
    "\n",
    "    elif args.discrim == 'toxicity':\n",
    "        classifier = myClassificationHead(class_size=2, embed_size=1024)\n",
    "        classifier.load_state_dict(torch.load(\"discrim_models/toxicity_classifierhead.pt\"))\n",
    "        classifier.eval()\n",
    "        args.label_class = 0 # not toxic\n",
    "    else:\n",
    "        classifier = None\n",
    "    \n",
    "    # Get tokens for the list of positive words\n",
    "    def list_tokens(word_list):\n",
    "        token_list = []\n",
    "        for word in word_list:\n",
    "            token_list.append(enc.encode(\" \" + word))\n",
    "        return token_list\n",
    "\n",
    "    good_index = []\n",
    "    if args.bag_of_words:\n",
    "        bags_of_words = args.bag_of_words.split(\";\")\n",
    "        for wordlist in bags_of_words:\n",
    "            with open(wordlist, \"r\") as f:\n",
    "                words = f.read()\n",
    "                words = words.split('\\n')\n",
    "            good_index.append(list_tokens(words)) # good_index is the encode of the words\n",
    "        \n",
    "    if args.bag_of_words and classifier:\n",
    "        print('Both PPLM-BoW and PPLM-Discrim are on. This is not optimized.')\n",
    "        args.loss_type = 3\n",
    "\n",
    "    elif args.bag_of_words:\n",
    "        args.loss_type = 1\n",
    "        print('Using PPLM-BoW')\n",
    "\n",
    "    elif classifier is not None:\n",
    "        args.loss_type = 2\n",
    "        print('Using PPLM-Discrim')\n",
    "\n",
    "    else:\n",
    "        raise Exception('Supply either --bag-of-words (-B) or --discrim -D')\n",
    "    \n",
    "    #==================================================generate non perturbed words=======================================================\n",
    "    original, _, _ = sample_from_hidden(model=model, args=args, context=context,\n",
    "                                  perturb=False, good_index=good_index, classifier=classifier)\n",
    "\n",
    "    #==================================================generate perturbed words============================================================\n",
    "    perturbed_list = []\n",
    "    discrim_loss_list = []\n",
    "    loss_in_time_list = []\n",
    "\n",
    "    for i in range(args.num_samples): #num_samples : how many output words\n",
    "        perturbed, discrim_loss, loss_in_time = sample_from_hidden(model=model, args=args, context=context,\n",
    "                                                        perturb=True, good_index=good_index,\n",
    "                                                         classifier=classifier)\n",
    "        perturbed_list.append(perturbed)\n",
    "        if classifier is not None:\n",
    "            discrim_loss_list.append(discrim_loss)\n",
    "        loss_in_time_list.append(loss_in_time)\n",
    "    \n",
    "    return original, perturbed_list, discrim_loss_list, loss_in_time_list\n"
   ]
  },
  {
   "cell_type": "code",
   "execution_count": 22,
   "metadata": {},
   "outputs": [],
   "source": [
    "def sample_from_hidden(model, args, classifier, context=None, past=None,\n",
    "                       sample=False, perturb=True, good_index=None):\n",
    "    \n",
    "    output = jt.int64(context).unsqueeze(0) if context else None\n",
    "    #output: 2-d list, with jt.int64 element, the format required by gpt (input_id)\n",
    "    grad_norms = None\n",
    "    loss_in_time = []\n",
    "    #iteration for args.length times, the output sentence's length = original + args.length\n",
    "    for i in trange(args.length, ascii=True):\n",
    "\n",
    "        # Get past/probs for current output, except for last word\n",
    "        # Note that GPT takes 2 inputs: past + current-token\n",
    "        # Therefore, use everything from before current i/p token to generate relevant past\n",
    "\n",
    "        if past is None and output is not None:\n",
    "            #=======================devide the output(context) into 2 parts : past and one word for query=======================\n",
    "            prev = output[:, -1:]\n",
    "            res =  model(output[:, :-1])\n",
    "            past = res['past_key_values']\n",
    "\n",
    "            res = model(output)\n",
    "            original_probs, true_past = res['logits'], res['past_key_values']\n",
    "            true_hidden = res['hidden_states'][-1]\n",
    "\n",
    "        else:\n",
    "            res = model(output)\n",
    "            original_probs, true_past = res['logits'], res['past_key_values']\n",
    "            true_hidden = res['hidden_states'][-1]\n",
    "\n",
    "        #TODO\n",
    "        if i >= args.grad_length:\n",
    "            current_stepsize = args.stepsize * 0\n",
    "        else:\n",
    "            current_stepsize = args.stepsize\n",
    "\n",
    "        #not perturb\n",
    "        if not perturb or args.num_iterations == 0:\n",
    "            perturbed_past = past\n",
    "\n",
    "        #perturb\n",
    "        else:\n",
    "        #==============================================perturb the past==============================================\n",
    "            accumulated_hidden = true_hidden[:, :-1, :] #all hidden states except query word\n",
    "            accumulated_hidden = jt.sum(accumulated_hidden, dim=1)\n",
    "            perturbed_past, _, grad_norms, loss_per_iter = perturb_past(past, model, prev, args,\n",
    "                                                                        classifier=classifier,\n",
    "                                                                        good_index=good_index, stepsize=current_stepsize,\n",
    "                                                                        original_probs=original_probs,\n",
    "                                                                        true_past=true_past,\n",
    "                                                                        accumulated_hidden=accumulated_hidden,\n",
    "                                                                        grad_norms=grad_norms)\n",
    "            loss_in_time.append(loss_per_iter)\n",
    "        #==============================================use the query word to 'query' past=============================\n",
    "        res = model(prev, past_key_values=perturbed_past)\n",
    "        test_logits, past, hidden = res['logits'], res['past_key_values'], res['hidden_states'][-1]\n",
    "         \n",
    "        # test_logits = F.softmax(test_logits[:, -1, :], dim=-1)\n",
    "        # likelywords = torch.topk(test_logits, k=10, dim=-1)\n",
    "        # print(enc.decode(likelywords[1].tolist()[0]))\n",
    "\n",
    "        if classifier is not None:\n",
    "            ce_loss = jt.nn.CrossEntropyLoss()\n",
    "            predicted_sentiment = classifier(jt.mean(true_hidden, dim=1))\n",
    "            label = jt.int64([args.label_class])\n",
    "            true_discrim_loss = ce_loss(predicted_sentiment, label)\n",
    "            print(\"true discrim loss\", true_discrim_loss)\n",
    "        else:\n",
    "            true_discrim_loss = 0 \n",
    "\n",
    "        \n",
    "        logits = test_logits\n",
    "        logits = logits[:, -1, :] / args.temperature  # + SmallConst\n",
    "\n",
    "        log_probs = jt.nn.softmax(logits, dim=-1)\n",
    "\n",
    "        # Fuse the modified model and original model\n",
    "        if perturb:\n",
    "            original_probs = jt.nn.softmax(original_probs[:, -1, :], dim=-1)\n",
    "            gm_scale = args.fusion_gm_scale\n",
    "            log_probs = ((log_probs ** gm_scale) * (original_probs ** (1 - gm_scale)))  # + SmallConst\n",
    "            log_probs = top_k_logits(log_probs, k=args.top_k, probs=True)  # + SmallConst\n",
    "\n",
    "            if jt.sum(log_probs) <= 1:\n",
    "                log_probs = log_probs / jt.sum(log_probs)\n",
    "        \n",
    "        else:\n",
    "            # logits = top_k_logits(logits, k=args.top_k)  # + SmallConst\n",
    "            log_probs = jt.nn.softmax(logits, dim=-1)\n",
    "            \n",
    "        #==============================================from [50256] -> [1]==============================================\n",
    "        if sample:\n",
    "            # likelywords = jt.topk(log_probs, k=args.top_k, dim=-1)\n",
    "            # print(enc.decode(likelywords[1].tolist()[0]))\n",
    "            # print(likelywords[0].tolist())\n",
    "            # np.random.choice()\n",
    "            #TODO\n",
    "            prev = jt.multinomial(log_probs, num_samples=1)\n",
    "        else:\n",
    "            _, prev = jt.topk(log_probs, k=1, dim=-1)\n",
    "\n",
    "        output = prev if output is None else jt.concat((output, prev), dim=1)  # update output\n",
    "        print(enc.decode(output.tolist()[0]))\n",
    "\n",
    "    return output, true_discrim_loss, loss_in_time"
   ]
  },
  {
   "cell_type": "code",
   "execution_count": 23,
   "metadata": {},
   "outputs": [],
   "source": [
    "def perturb_past(past, model, prev, args, classifier, true_past, original_probs,stepsize=0.01, vocab_size=50257, \n",
    "                good_index=None,accumulated_hidden=None,  grad_norms=None):\n",
    "    #prev: 2d jt.array\n",
    "    #past: tuple(tuple(tuple(2d jt.array)))\n",
    "    #==============================================use prev to query past in model==============================================\n",
    "    gm_scale, kl_scale = args.fusion_gm_scale, args.fusion_kl_scale\n",
    "    one_hot_vectors = []\n",
    "    if good_index is not None:\n",
    "        for good_list in good_index:\n",
    "            good_list = list(filter(lambda x: len(x) <= 1, good_list))\n",
    "            good_list = jt.array(good_list)\n",
    "            num_good = good_list.shape[0]\n",
    "            one_hot_good = jt.zeros(num_good, vocab_size)\n",
    "            one_hot_good.scatter_(1, good_list, 1)\n",
    "            one_hot_vectors.append(one_hot_good)\n",
    "\n",
    "    # Generate inital perturbed past, we accumulate grad on this\n",
    "    past_perturb_orig = []\n",
    "    for layer in past:\n",
    "        past_perturb_orig.append([jt.zeros_like(x).astype(jt.float32) for x in layer])\n",
    "\n",
    "    if accumulated_hidden is None:\n",
    "        accumulated_hidden = 0\n",
    "\n",
    "    # ==============================================Generate a mask is gradient perturbated is based on a past window=============================================\n",
    "    # window mask is all you need: it combines decay mask and window_length(naive window mask)\n",
    "    window_length = args.window_length\n",
    "    _, _, current_length, _ = past[0][0].shape\n",
    "    #mask-part1-decay mask\n",
    "    if args.decay:\n",
    "        decay_mask = jt.arange(0., 1.0 + SmallConst, 1.0/(window_length))[1:]\n",
    "    else:\n",
    "        decay_mask = 1.0\n",
    "    #mask-part2\n",
    "    if current_length > window_length and window_length > 0:\n",
    "        ones_key_val_shape = tuple(past[0][0].shape[:-2]) + tuple([window_length]) + tuple(\n",
    "            past[0][0].shape[-1:]) #(batch_size, num_heads) + (seq_length) + (n_embd)\n",
    "\n",
    "        zeros_key_val_shape = tuple(past[0][0].shape[:-2]) + tuple([current_length - window_length]) + tuple(\n",
    "            past[0][0].shape[-1:])\n",
    "\n",
    "        ones_mask = jt.ones(ones_key_val_shape)\n",
    "        ones_mask = decay_mask*ones_mask.permute(0, 1, 3, 2)\n",
    "        ones_mask = ones_mask.permute(0, 1, 3, 2)\n",
    "\n",
    "        window_mask = jt.concat((ones_mask, jt.zeros(zeros_key_val_shape)), dim=-2)\n",
    "    else:\n",
    "        window_mask = jt.ones_like(past[0][0])\n",
    "    #====================================perturb the past for args.num_iteration times, which is similar to do 'optimizer step' for several times=================\n",
    "    def key_values_add(x,y):\n",
    "            return list(map(add, x,y))\n",
    "    loss_per_iter = []\n",
    "    for i in range(args.num_iterations):\n",
    "        perturbed_past = list(map(key_values_add, past, past_perturb_orig))\n",
    "        _, _, current_length, _ = past_perturb_orig[0][0].shape\n",
    "        # Compute hidden using perturbed past\n",
    "        result = model(prev, past_key_values=perturbed_past)\n",
    "        hidden = result['hidden_states'][-1] #(batch_size, 1, 1024)\n",
    "        new_accumulated_hidden = accumulated_hidden + jt.sum(hidden, dim=1) #(batch_size, 1024)\n",
    "\n",
    "        # TODO: Check the layer-norm consistency of this with trained discriminator\n",
    "        #TODO\n",
    "        logits = result['logits']\n",
    "        logits = logits[:, -1, :]\n",
    "        probabs = jt.nn.softmax(logits, dim=-1)\n",
    "        #TODO\n",
    "        #========================================================================calculate the loss================================================================\n",
    "        loss = 0.0\n",
    "        loss_list = []\n",
    "        #bag of words\n",
    "        if args.loss_type == 1 or args.loss_type == 3:\n",
    "            for one_hot_good in one_hot_vectors:\n",
    "                good_logits = jt.matmul(probabs, jt.transpose(one_hot_good))\n",
    "                loss_word = good_logits\n",
    "                loss_word = jt.sum(loss_word)\n",
    "                loss_word = -jt.log(loss_word)\n",
    "                #loss_word = torch.sum(loss_word) /torch.sum(one_hot_good)\n",
    "                loss += loss_word\n",
    "                loss_list.append(loss_word)\n",
    "            print('words', loss)\n",
    "\n",
    "        if args.loss_type == 2 or args.loss_type == 3:\n",
    "            new_true_past = true_past\n",
    "            #after using prev to query past, then do args.horizon_length times query, to better calculate the discriminator loss\n",
    "            # for i in range(args.horizon_length):\n",
    "\n",
    "            #     future_probabs = jt.nn.softmax(logits, dim=-1)  # Get softmax\n",
    "            #     future_probabs = jt.unsqueeze(future_probabs, dim=1)\n",
    "            #     _,future_input_id = jt.topk(future_probabs, k=1, dim=-1)\n",
    "\n",
    "            #     res= model(future_input_id, past_key_values=new_true_past)\n",
    "            #     new_true_past = res['past_key_values']\n",
    "            #     future_hidden = res['hidden_states'][-1]  # Get expected hidden states\n",
    "            #     new_accumulated_hidden = new_accumulated_hidden + jt.sum(future_hidden, dim=1)\n",
    "            # predicted_sentiment = classifier(new_accumulated_hidden / (current_length + 1 + args.horizon_length))\n",
    "            predicted_sentiment = classifier(new_accumulated_hidden / (current_length + 1))\n",
    "            label = jt.array([args.label_class for i in range(predicted_sentiment.shape[0])], dtype=jt.int64)\n",
    "            discrim_loss = nn.cross_entropy_loss(predicted_sentiment, label)\n",
    "            print('discrim', discrim_loss)\n",
    "            loss += discrim_loss\n",
    "            loss_list.append(discrim_loss)\n",
    "\n",
    "\n",
    "        kl_loss = 0.0\n",
    "        if kl_scale > 0.0:\n",
    "            p = (jt.nn.softmax(original_probs[:, -1:, :], dim=-1)).squeeze(dim=1) #(batch_size, 50256)\n",
    "            #TODO correct\n",
    "            p = p + SmallConst * (p <= SmallConst)\n",
    "            correction = SmallConst * (probabs <= SmallConst)\n",
    "            corrected_probabs = probabs + correction\n",
    "            kl_loss = kl_scale * ((corrected_probabs * jt.log(corrected_probabs / p)).sum())\n",
    "            loss += kl_loss\n",
    "\n",
    "        print('Discrim Loss: ',(loss - kl_loss))\n",
    "        loss_per_iter.append(loss)\n",
    "        #========================================================================get the grad of past========================================================================\n",
    "        grad = []\n",
    "        for layer in perturbed_past:\n",
    "            grad.append([jt.grad(loss, block, retain_graph=False) for block in layer])\n",
    "\n",
    "        if grad_norms is not None and args.loss_type == 1:\n",
    "            grad_norms = [jt.max(grad_norms[index], jt.norm(p_.grad * window_mask)) for index, p_ in\n",
    "                          enumerate(past_perturb_orig)]\n",
    "        else:\n",
    "            grad_norms = []\n",
    "            for layer in enumerate(grad):\n",
    "                # grad_norms.append([(jt.norm(block * window_mask) + SmallConst) for block in layer])\n",
    "                #TODO\n",
    "                grad_norms.append([1 for block in layer])\n",
    "\n",
    "        perturb_grad = []\n",
    "        for i, layer in enumerate(past_perturb_orig):\n",
    "            perturb_grad.append([-stepsize * (grad[i][j] * window_mask / grad_norms[i][j] ** args.gamma) for j, _ in enumerate(layer)])\n",
    "        \n",
    "        past_perturb_orig = list(map(key_values_add, perturb_grad, past_perturb_orig))\n",
    "        jt.sync_all()\n",
    "        jt.display_memory_info()\n",
    "        jt.gc()\n",
    "\n",
    "    \n",
    "    perturbed_past = list(map(key_values_add, past, past_perturb_orig))\n",
    "    return perturbed_past, new_accumulated_hidden, grad_norms, loss_per_iter"
   ]
  },
  {
   "cell_type": "code",
   "execution_count": 24,
   "metadata": {},
   "outputs": [],
   "source": [
    "parser = argparse.ArgumentParser()\n",
    "# Bags of words used for PPLM-BoW. Multiple BoWs separated by ;\n",
    "parser.add_argument('--bag-of-words', '-B', type=str, default=None, \n",
    "                    help='')\n",
    "# Discriminator to use for loss-type 2\n",
    "parser.add_argument('--discrim', '-D', type=str, default='sentiment', \n",
    "                    choices=('clickbait', 'sentiment', 'toxicity'), \n",
    "                    help='')\n",
    "parser.add_argument('--label-class', type=int, default=2, help='Class label used for the discriminator')\n",
    "parser.add_argument('--stepsize', type=float, default=0.2) #0.02\n",
    "parser.add_argument(\"--length\", type=int, default=30)\n",
    "parser.add_argument(\"--seed\", type=int, default=0)\n",
    "parser.add_argument(\"--temperature\", type=float, default=1.0)\n",
    "# top-k采样\n",
    "parser.add_argument(\"--top_k\", type=int, default=10)\n",
    "# \n",
    "parser.add_argument(\"--fusion-gm-scale\", type=float, default=0.9)\n",
    "parser.add_argument(\"--fusion-kl-scale\", type=float, default=0.01)\n",
    "parser.add_argument('--nocuda', action='store_true', help='no cuda')\n",
    "# Generate from end-of-text as prefix\n",
    "parser.add_argument('--uncond', action='store_true', help='前缀为end-of-text')\n",
    "parser.add_argument(\"--cond-text\", type=str, default='The lake', help='Prefix texts to condition on')\n",
    "parser.add_argument('--num-iterations', type=int, default=3)\n",
    "parser.add_argument('--grad-length', type=int, default=10000)\n",
    "parser.add_argument('--num-samples', type=int, default=1,\n",
    "                    help='Number of samples to generate from the modified latents')\n",
    "parser.add_argument('--horizon-length', type=int, default=1, help='Length of future to optimize over')\n",
    "# parser.add_argument('--force-token', action='store_true', help='no cuda')\n",
    "parser.add_argument('--window-length', type=int, default=0,\n",
    "                    help='Length of past which is being optimizer; 0 corresponds to infinite window length')\n",
    "parser.add_argument('--decay', action='store_true', help='whether to decay or not')\n",
    "parser.add_argument('--gamma', type=float, default=1.5)\n",
    "\n",
    "args = parser.parse_args(args=[])\n",
    "# 设置随机种子\n",
    "jt.core.set_seed(args.seed)\n",
    "\n",
    "# use cuda\n",
    "if not args.nocuda: \n",
    "    jt.flags.use_cuda = 0\n",
    "\n",
    "# load_pretrained\n",
    "if args.uncond:\n",
    "    seq = [[50256, 50256]]\n",
    "\n",
    "else:\n",
    "    # 前缀词\n",
    "    raw_text = args.cond_text\n",
    "    while not raw_text:\n",
    "        print('Did you forget to add `--cond-text`? ')\n",
    "        raw_text = input(\"Model prompt >>> \")\n",
    "    seq = [[50256] + enc.encode(raw_text)]"
   ]
  },
  {
   "cell_type": "code",
   "execution_count": 25,
   "metadata": {},
   "outputs": [
    {
     "name": "stdout",
     "output_type": "stream",
     "text": [
      "======================================== Prefix of sentence ========================================\n",
      "<|endoftext|>The lake\n",
      "================================================================================\n",
      "Using PPLM-Discrim\n"
     ]
    },
    {
     "name": "stderr",
     "output_type": "stream",
     "text": [
      "  3%|3         | 1/30 [00:02<00:59,  2.07s/it]"
     ]
    },
    {
     "name": "stdout",
     "output_type": "stream",
     "text": [
      "true discrim loss jt.Var([5.9967017], dtype=float32)\n",
      "<|endoftext|>The lake is\n"
     ]
    },
    {
     "name": "stderr",
     "output_type": "stream",
     "text": [
      "  7%|6         | 2/30 [00:03<00:52,  1.88s/it]"
     ]
    },
    {
     "name": "stdout",
     "output_type": "stream",
     "text": [
      "true discrim loss jt.Var([4.5345993], dtype=float32)\n",
      "<|endoftext|>The lake is a\n",
      "true discrim loss "
     ]
    },
    {
     "name": "stderr",
     "output_type": "stream",
     "text": [
      " 13%|#3        | 4/30 [00:06<00:40,  1.57s/it]"
     ]
    },
    {
     "name": "stdout",
     "output_type": "stream",
     "text": [
      "jt.Var([3.6155896], dtype=float32)\n",
      "<|endoftext|>The lake is a popular\n",
      "true discrim loss jt.Var([2.0310307], dtype=float32)\n",
      "<|endoftext|>The lake is a popular destination\n"
     ]
    },
    {
     "name": "stderr",
     "output_type": "stream",
     "text": [
      " 17%|#6        | 5/30 [00:08<00:36,  1.47s/it]"
     ]
    },
    {
     "name": "stdout",
     "output_type": "stream",
     "text": [
      "true discrim loss jt.Var([1.4047372], dtype=float32)\n",
      "<|endoftext|>The lake is a popular destination for\n",
      "true discrim loss "
     ]
    },
    {
     "name": "stderr",
     "output_type": "stream",
     "text": [
      " 23%|##3       | 7/30 [00:11<00:38,  1.68s/it]"
     ]
    },
    {
     "name": "stdout",
     "output_type": "stream",
     "text": [
      "jt.Var([1.11956], dtype=float32)\n",
      "<|endoftext|>The lake is a popular destination for tourists\n",
      "true discrim loss jt.Var([1.0510633], dtype=float32)\n",
      "<|endoftext|>The lake is a popular destination for tourists and\n"
     ]
    },
    {
     "name": "stderr",
     "output_type": "stream",
     "text": [
      " 30%|###       | 9/30 [00:16<00:44,  2.11s/it]"
     ]
    },
    {
     "name": "stdout",
     "output_type": "stream",
     "text": [
      "true discrim loss jt.Var([1.1095855], dtype=float32)\n",
      "<|endoftext|>The lake is a popular destination for tourists and locals\n",
      "true discrim loss jt.Var([1.1078405], dtype=float32)\n",
      "<|endoftext|>The lake is a popular destination for tourists and locals alike\n"
     ]
    },
    {
     "name": "stderr",
     "output_type": "stream",
     "text": [
      " 37%|###6      | 11/30 [00:19<00:34,  1.83s/it]"
     ]
    },
    {
     "name": "stdout",
     "output_type": "stream",
     "text": [
      "true discrim loss jt.Var([0.96974504], dtype=float32)\n",
      "<|endoftext|>The lake is a popular destination for tourists and locals alike.\n",
      "true discrim loss jt.Var([0.9190442], dtype=float32)\n",
      "<|endoftext|>The lake is a popular destination for tourists and locals alike.\n",
      "\n"
     ]
    },
    {
     "name": "stderr",
     "output_type": "stream",
     "text": [
      " 40%|####      | 12/30 [00:21<00:34,  1.90s/it]"
     ]
    },
    {
     "name": "stdout",
     "output_type": "stream",
     "text": [
      "true discrim loss jt.Var([0.9339618], dtype=float32)\n",
      "<|endoftext|>The lake is a popular destination for tourists and locals alike.\n",
      "\n",
      "\n",
      "true discrim loss jt.Var([1.0164466], dtype=float32)\n",
      "<|endoftext|>The lake is a popular destination for tourists and locals alike.\n",
      "\n",
      "The\n"
     ]
    },
    {
     "name": "stderr",
     "output_type": "stream",
     "text": [
      " 43%|####3     | 13/30 [00:24<00:34,  2.03s/it]"
     ]
    },
    {
     "name": "stdout",
     "output_type": "stream",
     "text": [
      "true discrim loss "
     ]
    },
    {
     "name": "stderr",
     "output_type": "stream",
     "text": [
      " 50%|#####     | 15/30 [00:29<00:36,  2.45s/it]"
     ]
    },
    {
     "name": "stdout",
     "output_type": "stream",
     "text": [
      "jt.Var([1.0735307], dtype=float32)\n",
      "<|endoftext|>The lake is a popular destination for tourists and locals alike.\n",
      "\n",
      "The lake\n",
      "true discrim loss jt.Var([1.1173096], dtype=float32)\n",
      "<|endoftext|>The lake is a popular destination for tourists and locals alike.\n",
      "\n",
      "The lake is\n"
     ]
    },
    {
     "name": "stderr",
     "output_type": "stream",
     "text": [
      " 57%|#####6    | 17/30 [00:33<00:28,  2.20s/it]"
     ]
    },
    {
     "name": "stdout",
     "output_type": "stream",
     "text": [
      "true discrim loss jt.Var([1.1049004], dtype=float32)\n",
      "<|endoftext|>The lake is a popular destination for tourists and locals alike.\n",
      "\n",
      "The lake is a\n",
      "true discrim loss jt.Var([1.055156], dtype=float32)\n",
      "<|endoftext|>The lake is a popular destination for tourists and locals alike.\n",
      "\n",
      "The lake is a popular\n"
     ]
    },
    {
     "name": "stderr",
     "output_type": "stream",
     "text": [
      " 63%|######3   | 19/30 [00:38<00:26,  2.40s/it]"
     ]
    },
    {
     "name": "stdout",
     "output_type": "stream",
     "text": [
      "true discrim loss jt.Var([0.92058754], dtype=float32)\n",
      "<|endoftext|>The lake is a popular destination for tourists and locals alike.\n",
      "\n",
      "The lake is a popular destination\n",
      "true discrim loss jt.Var([0.88533556], dtype=float32)\n",
      "<|endoftext|>The lake is a popular destination for tourists and locals alike.\n",
      "\n",
      "The lake is a popular destination for\n"
     ]
    },
    {
     "name": "stderr",
     "output_type": "stream",
     "text": [
      " 70%|#######   | 21/30 [00:45<00:25,  2.82s/it]"
     ]
    },
    {
     "name": "stdout",
     "output_type": "stream",
     "text": [
      "true discrim loss jt.Var([0.8425057], dtype=float32)\n",
      "<|endoftext|>The lake is a popular destination for tourists and locals alike.\n",
      "\n",
      "The lake is a popular destination for tourists\n",
      "true discrim loss jt.Var([0.84112155], dtype=float32)\n",
      "<|endoftext|>The lake is a popular destination for tourists and locals alike.\n",
      "\n",
      "The lake is a popular destination for tourists and\n"
     ]
    },
    {
     "name": "stderr",
     "output_type": "stream",
     "text": [
      " 77%|#######6  | 23/30 [00:49<00:16,  2.40s/it]"
     ]
    },
    {
     "name": "stdout",
     "output_type": "stream",
     "text": [
      "true discrim loss jt.Var([0.86074257], dtype=float32)\n",
      "<|endoftext|>The lake is a popular destination for tourists and locals alike.\n",
      "\n",
      "The lake is a popular destination for tourists and locals\n",
      "true discrim loss jt.Var([0.84805804], dtype=float32)\n",
      "<|endoftext|>The lake is a popular destination for tourists and locals alike.\n",
      "\n",
      "The lake is a popular destination for tourists and locals alike\n"
     ]
    },
    {
     "name": "stderr",
     "output_type": "stream",
     "text": [
      " 83%|########3 | 25/30 [00:54<00:12,  2.52s/it]"
     ]
    },
    {
     "name": "stdout",
     "output_type": "stream",
     "text": [
      "true discrim loss jt.Var([0.7975985], dtype=float32)\n",
      "<|endoftext|>The lake is a popular destination for tourists and locals alike.\n",
      "\n",
      "The lake is a popular destination for tourists and locals alike.\n",
      "true discrim loss jt.Var([0.7873393], dtype=float32)\n",
      "<|endoftext|>The lake is a popular destination for tourists and locals alike.\n",
      "\n",
      "The lake is a popular destination for tourists and locals alike.\n",
      "\n"
     ]
    },
    {
     "name": "stderr",
     "output_type": "stream",
     "text": [
      " 90%|######### | 27/30 [01:00<00:08,  2.92s/it]"
     ]
    },
    {
     "name": "stdout",
     "output_type": "stream",
     "text": [
      "true discrim loss jt.Var([0.81335175], dtype=float32)\n",
      "<|endoftext|>The lake is a popular destination for tourists and locals alike.\n",
      "\n",
      "The lake is a popular destination for tourists and locals alike.\n",
      "\n",
      "\n",
      "true discrim loss jt.Var([0.86045355], dtype=float32)\n",
      "<|endoftext|>The lake is a popular destination for tourists and locals alike.\n",
      "\n",
      "The lake is a popular destination for tourists and locals alike.\n",
      "\n",
      "The\n"
     ]
    },
    {
     "name": "stderr",
     "output_type": "stream",
     "text": [
      " 93%|#########3| 28/30 [01:03<00:05,  2.67s/it]"
     ]
    },
    {
     "name": "stdout",
     "output_type": "stream",
     "text": [
      "true discrim loss jt.Var([0.90235794], dtype=float32)\n",
      "<|endoftext|>The lake is a popular destination for tourists and locals alike.\n",
      "\n",
      "The lake is a popular destination for tourists and locals alike.\n",
      "\n",
      "The lake\n",
      "true discrim loss jt.Var([0.93591034], dtype=float32)\n",
      "<|endoftext|>The lake is a popular destination for tourists and locals alike.\n",
      "\n",
      "The lake is a popular destination for tourists and locals alike.\n",
      "\n",
      "The lake is\n"
     ]
    },
    {
     "name": "stderr",
     "output_type": "stream",
     "text": [
      "100%|##########| 30/30 [01:08<00:00,  2.65s/it]"
     ]
    },
    {
     "name": "stdout",
     "output_type": "stream",
     "text": [
      "true discrim loss jt.Var([0.93205637], dtype=float32)\n",
      "<|endoftext|>The lake is a popular destination for tourists and locals alike.\n",
      "\n",
      "The lake is a popular destination for tourists and locals alike.\n",
      "\n",
      "The lake is a\n"
     ]
    },
    {
     "name": "stderr",
     "output_type": "stream",
     "text": [
      "100%|##########| 30/30 [01:08<00:00,  2.27s/it]\n",
      "  0%|          | 0/30 [00:00<?, ?it/s]\u001b[38;5;2m[i 1221 14:52:20.906646 00 2348885072.py:137] \n",
      "=== display_memory_info ===\n",
      " total_cpu_ram:    32GB total_device_ram:     0 B\n",
      " hold_vars: 796 lived_vars: 7569 lived_ops: 6799\n",
      " name: sfrl is_device: 0 used:  1.55GB(38.3%) unused:   2.5GB(61.7%) total:  4.05GB\n",
      " name: temp is_device: 0 used:     0 B(nan%) unused:     0 B(nan%) total:     0 B\n",
      " cpu&gpu:  4.05GB gpu:     0 B cpu:  4.05GB\n",
      " free: cpu(60.55MB) gpu(    0 B)\n",
      "===========================\n",
      "\u001b[m\n"
     ]
    },
    {
     "name": "stdout",
     "output_type": "stream",
     "text": [
      "discrim jt.Var([5.996702], dtype=float32)\n",
      "Discrim Loss:  jt.Var([5.996702], dtype=float32)\n",
      "discrim jt.Var([5.9964314], dtype=float32)\n",
      "Discrim Loss:  jt.Var([5.9964314], dtype=float32)\n"
     ]
    },
    {
     "name": "stderr",
     "output_type": "stream",
     "text": [
      "\u001b[38;5;2m[i 1221 14:52:21.706074 00 2348885072.py:137] \n",
      "=== display_memory_info ===\n",
      " total_cpu_ram:    32GB total_device_ram:     0 B\n",
      " hold_vars: 797 lived_vars: 8049 lived_ops: 7277\n",
      " name: sfrl is_device: 0 used:  1.55GB(66.3%) unused:   808MB(33.7%) total: 2.339GB\n",
      " name: temp is_device: 0 used:     0 B(nan%) unused:     0 B(nan%) total:     0 B\n",
      " cpu&gpu: 2.339GB gpu:     0 B cpu: 2.339GB\n",
      " free: cpu(80.12MB) gpu(    0 B)\n",
      "===========================\n",
      "\u001b[m\n"
     ]
    },
    {
     "name": "stdout",
     "output_type": "stream",
     "text": [
      "discrim "
     ]
    },
    {
     "name": "stderr",
     "output_type": "stream",
     "text": [
      "\u001b[38;5;2m[i 1221 14:52:22.497859 00 2348885072.py:137] \n",
      "=== display_memory_info ===\n",
      " total_cpu_ram:    32GB total_device_ram:     0 B\n",
      " hold_vars: 798 lived_vars: 8529 lived_ops: 7755\n",
      " name: sfrl is_device: 0 used:  1.55GB(66.3%) unused:   808MB(33.7%) total: 2.339GB\n",
      " name: temp is_device: 0 used:     0 B(nan%) unused:     0 B(nan%) total:     0 B\n",
      " cpu&gpu: 2.339GB gpu:     0 B cpu: 2.339GB\n",
      " free: cpu(81.12MB) gpu(    0 B)\n",
      "===========================\n",
      "\u001b[m\n"
     ]
    },
    {
     "name": "stdout",
     "output_type": "stream",
     "text": [
      "jt.Var([5.9961586], dtype=float32)\n",
      "Discrim Loss:  jt.Var([5.9961586], dtype=float32)\n",
      "true discrim loss jt.Var([5.9967017], dtype=float32)\n",
      "<|endoftext|>The lake is\n"
     ]
    },
    {
     "name": "stderr",
     "output_type": "stream",
     "text": [
      "  3%|3         | 1/30 [00:04<02:06,  4.38s/it]"
     ]
    },
    {
     "name": "stdout",
     "output_type": "stream",
     "text": [
      "discrim "
     ]
    },
    {
     "name": "stderr",
     "output_type": "stream",
     "text": [
      "\u001b[38;5;2m[i 1221 14:52:25.025619 00 2348885072.py:137] \n",
      "=== display_memory_info ===\n",
      " total_cpu_ram:    32GB total_device_ram:     0 B\n",
      " hold_vars: 1185 lived_vars: 15981 lived_ops: 14675\n",
      " name: sfrl is_device: 0 used: 1.566GB(66.9%) unused: 791.6MB(33.1%) total: 2.339GB\n",
      " name: temp is_device: 0 used:     0 B(nan%) unused:     0 B(nan%) total:     0 B\n",
      " cpu&gpu: 2.339GB gpu:     0 B cpu: 2.339GB\n",
      " free: cpu( 84.5MB) gpu(    0 B)\n",
      "===========================\n",
      "\u001b[m\n"
     ]
    },
    {
     "name": "stdout",
     "output_type": "stream",
     "text": [
      "jt.Var([4.534245], dtype=float32)\n",
      "Discrim Loss:  jt.Var([4.534245], dtype=float32)\n",
      "discrim jt.Var([4.534207], dtype=float32)\n",
      "Discrim Loss:  jt.Var([4.534207], dtype=float32)\n"
     ]
    },
    {
     "name": "stderr",
     "output_type": "stream",
     "text": [
      "\u001b[38;5;2m[i 1221 14:52:25.818365 00 2348885072.py:137] \n",
      "=== display_memory_info ===\n",
      " total_cpu_ram:    32GB total_device_ram:     0 B\n",
      " hold_vars: 1186 lived_vars: 16461 lived_ops: 15153\n",
      " name: sfrl is_device: 0 used: 1.566GB(67%) unused: 791.5MB(33%) total: 2.339GB\n",
      " name: temp is_device: 0 used:     0 B(nan%) unused:     0 B(nan%) total:     0 B\n",
      " cpu&gpu: 2.339GB gpu:     0 B cpu: 2.339GB\n",
      " free: cpu(86.34MB) gpu(    0 B)\n",
      "===========================\n",
      "\u001b[m\n"
     ]
    },
    {
     "name": "stdout",
     "output_type": "stream",
     "text": [
      "discrim "
     ]
    },
    {
     "name": "stderr",
     "output_type": "stream",
     "text": [
      "\u001b[38;5;2m[i 1221 14:52:26.612643 00 2348885072.py:137] \n",
      "=== display_memory_info ===\n",
      " total_cpu_ram:    32GB total_device_ram:     0 B\n",
      " hold_vars: 1187 lived_vars: 16941 lived_ops: 15631\n",
      " name: sfrl is_device: 0 used: 1.566GB(67%) unused: 791.4MB(33%) total: 2.339GB\n",
      " name: temp is_device: 0 used:     0 B(nan%) unused:     0 B(nan%) total:     0 B\n",
      " cpu&gpu: 2.339GB gpu:     0 B cpu: 2.339GB\n",
      " free: cpu(84.52MB) gpu(    0 B)\n",
      "===========================\n",
      "\u001b[m\n"
     ]
    },
    {
     "name": "stdout",
     "output_type": "stream",
     "text": [
      "jt.Var([4.5341697], dtype=float32)\n",
      "Discrim Loss:  jt.Var([4.5341697], dtype=float32)\n",
      "true discrim loss jt.Var([4.5345993], dtype=float32)\n",
      "<|endoftext|>The lake is a\n"
     ]
    },
    {
     "name": "stderr",
     "output_type": "stream",
     "text": [
      "  7%|6         | 2/30 [00:08<01:58,  4.22s/it]"
     ]
    },
    {
     "name": "stdout",
     "output_type": "stream",
     "text": [
      "discrim jt.Var([3.6153738], dtype=float32)\n",
      "Discrim Loss:  jt.Var([3.6153738], dtype=float32)\n"
     ]
    },
    {
     "name": "stderr",
     "output_type": "stream",
     "text": [
      "\u001b[38;5;2m[i 1221 14:52:29.446702 00 2348885072.py:137] \n",
      "=== display_memory_info ===\n",
      " total_cpu_ram:    32GB total_device_ram:     0 B\n",
      " hold_vars: 1566 lived_vars: 24205 lived_ops: 22375\n",
      " name: sfrl is_device: 0 used: 1.583GB(67.2%) unused: 789.7MB(32.8%) total: 2.354GB\n",
      " name: temp is_device: 0 used:     0 B(nan%) unused:     0 B(nan%) total:     0 B\n",
      " cpu&gpu: 2.354GB gpu:     0 B cpu: 2.354GB\n",
      " free: cpu(87.83MB) gpu(    0 B)\n",
      "===========================\n",
      "\u001b[m\n",
      "\u001b[38;5;2m[i 1221 14:52:30.243880 00 2348885072.py:137] \n",
      "=== display_memory_info ===\n",
      " total_cpu_ram:    32GB total_device_ram:     0 B\n",
      " hold_vars: 1567 lived_vars: 24685 lived_ops: 22853\n",
      " name: sfrl is_device: 0 used: 1.583GB(67.2%) unused: 790.6MB(32.8%) total: 2.355GB\n",
      " name: temp is_device: 0 used:     0 B(nan%) unused:     0 B(nan%) total:     0 B\n",
      " cpu&gpu: 2.355GB gpu:     0 B cpu: 2.355GB\n",
      " free: cpu(86.95MB) gpu(    0 B)\n",
      "===========================\n",
      "\u001b[m\n"
     ]
    },
    {
     "name": "stdout",
     "output_type": "stream",
     "text": [
      "discrim jt.Var([3.6153564], dtype=float32)\n",
      "Discrim Loss:  jt.Var([3.6153564], dtype=float32)\n",
      "discrim "
     ]
    },
    {
     "name": "stderr",
     "output_type": "stream",
     "text": [
      "\u001b[38;5;2m[i 1221 14:52:31.034650 00 2348885072.py:137] \n",
      "=== display_memory_info ===\n",
      " total_cpu_ram:    32GB total_device_ram:     0 B\n",
      " hold_vars: 1568 lived_vars: 25165 lived_ops: 23331\n",
      " name: sfrl is_device: 0 used: 1.584GB(67.2%) unused: 790.5MB(32.8%) total: 2.355GB\n",
      " name: temp is_device: 0 used:     0 B(nan%) unused:     0 B(nan%) total:     0 B\n",
      " cpu&gpu: 2.355GB gpu:     0 B cpu: 2.355GB\n",
      " free: cpu(86.67MB) gpu(    0 B)\n",
      "===========================\n",
      "\u001b[m\n"
     ]
    },
    {
     "name": "stdout",
     "output_type": "stream",
     "text": [
      "jt.Var([3.615345], dtype=float32)\n",
      "Discrim Loss:  jt.Var([3.615345], dtype=float32)\n",
      "true discrim loss jt.Var([3.6155896], dtype=float32)\n",
      "<|endoftext|>The lake is a popular\n"
     ]
    },
    {
     "name": "stderr",
     "output_type": "stream",
     "text": [
      " 10%|#         | 3/30 [00:12<01:56,  4.31s/it]\u001b[38;5;2m[i 1221 14:52:32.856368 00 2348885072.py:137] \n",
      "=== display_memory_info ===\n",
      " total_cpu_ram:    32GB total_device_ram:     0 B\n",
      " hold_vars: 1947 lived_vars: 32429 lived_ops: 30075\n",
      " name: sfrl is_device: 0 used: 1.604GB(67.6%) unused: 788.2MB(32.4%) total: 2.374GB\n",
      " name: temp is_device: 0 used:     0 B(nan%) unused:     0 B(nan%) total:     0 B\n",
      " cpu&gpu: 2.374GB gpu:     0 B cpu: 2.374GB\n",
      " free: cpu( 85.7MB) gpu(    0 B)\n",
      "===========================\n",
      "\u001b[m\n"
     ]
    },
    {
     "name": "stdout",
     "output_type": "stream",
     "text": [
      "discrim jt.Var([2.0308485], dtype=float32)\n",
      "Discrim Loss:  jt.Var([2.0308485], dtype=float32)\n",
      "discrim jt.Var([2.0308356], dtype=float32)\n",
      "Discrim Loss:  jt.Var([2.0308356], dtype=float32)\n"
     ]
    },
    {
     "name": "stderr",
     "output_type": "stream",
     "text": [
      "\u001b[38;5;2m[i 1221 14:52:33.648568 00 2348885072.py:137] \n",
      "=== display_memory_info ===\n",
      " total_cpu_ram:    32GB total_device_ram:     0 B\n",
      " hold_vars: 1948 lived_vars: 32909 lived_ops: 30553\n",
      " name: sfrl is_device: 0 used: 1.604GB(67.6%) unused: 789.1MB(32.4%) total: 2.375GB\n",
      " name: temp is_device: 0 used:     0 B(nan%) unused:     0 B(nan%) total:     0 B\n",
      " cpu&gpu: 2.375GB gpu:     0 B cpu: 2.375GB\n",
      " free: cpu(83.44MB) gpu(    0 B)\n",
      "===========================\n",
      "\u001b[m\n"
     ]
    },
    {
     "name": "stdout",
     "output_type": "stream",
     "text": [
      "discrim "
     ]
    },
    {
     "name": "stderr",
     "output_type": "stream",
     "text": [
      "\u001b[38;5;2m[i 1221 14:52:34.443459 00 2348885072.py:137] \n",
      "=== display_memory_info ===\n",
      " total_cpu_ram:    32GB total_device_ram:     0 B\n",
      " hold_vars: 1949 lived_vars: 33389 lived_ops: 31031\n",
      " name: sfrl is_device: 0 used: 1.604GB(67.6%) unused:   789MB(32.4%) total: 2.375GB\n",
      " name: temp is_device: 0 used:     0 B(nan%) unused:     0 B(nan%) total:     0 B\n",
      " cpu&gpu: 2.375GB gpu:     0 B cpu: 2.375GB\n",
      " free: cpu( 78.5MB) gpu(    0 B)\n",
      "===========================\n",
      "\u001b[m\n",
      " 13%|#3        | 4/30 [00:16<01:42,  3.96s/it]"
     ]
    },
    {
     "name": "stdout",
     "output_type": "stream",
     "text": [
      "jt.Var([2.030825], dtype=float32)\n",
      "Discrim Loss:  jt.Var([2.030825], dtype=float32)\n",
      "true discrim loss jt.Var([2.0310307], dtype=float32)\n",
      "<|endoftext|>The lake is a popular destination\n"
     ]
    },
    {
     "name": "stderr",
     "output_type": "stream",
     "text": [
      "\u001b[38;5;2m[i 1221 14:52:36.608299 00 2348885072.py:137] \n",
      "=== display_memory_info ===\n",
      " total_cpu_ram:    32GB total_device_ram:     0 B\n",
      " hold_vars: 864 lived_vars: 23812 lived_ops: 21775\n",
      " name: sfrl is_device: 0 used: 1.585GB(66.8%) unused: 808.3MB(33.2%) total: 2.374GB\n",
      " name: temp is_device: 0 used:     0 B(nan%) unused:     0 B(nan%) total:     0 B\n",
      " cpu&gpu: 2.374GB gpu:     0 B cpu: 2.374GB\n",
      " free: cpu(81.02MB) gpu(    0 B)\n",
      "===========================\n",
      "\u001b[m\n"
     ]
    },
    {
     "name": "stdout",
     "output_type": "stream",
     "text": [
      "discrim jt.Var([1.4046274], dtype=float32)\n",
      "Discrim Loss:  jt.Var([1.4046274], dtype=float32)\n",
      "discrim jt.Var([1.4046152], dtype=float32)\n",
      "Discrim Loss:  jt.Var([1.4046152], dtype=float32)\n"
     ]
    },
    {
     "name": "stderr",
     "output_type": "stream",
     "text": [
      "\u001b[38;5;2m[i 1221 14:52:37.402129 00 2348885072.py:137] \n",
      "=== display_memory_info ===\n",
      " total_cpu_ram:    32GB total_device_ram:     0 B\n",
      " hold_vars: 865 lived_vars: 24292 lived_ops: 22253\n",
      " name: sfrl is_device: 0 used: 1.585GB(66.9%) unused: 804.1MB(33.1%) total:  2.37GB\n",
      " name: temp is_device: 0 used:     0 B(nan%) unused:     0 B(nan%) total:     0 B\n",
      " cpu&gpu:  2.37GB gpu:     0 B cpu:  2.37GB\n",
      " free: cpu(86.31MB) gpu(    0 B)\n",
      "===========================\n",
      "\u001b[m\n"
     ]
    },
    {
     "name": "stdout",
     "output_type": "stream",
     "text": [
      "discrim "
     ]
    },
    {
     "name": "stderr",
     "output_type": "stream",
     "text": [
      "\u001b[38;5;2m[i 1221 14:52:38.193755 00 2348885072.py:137] \n",
      "=== display_memory_info ===\n",
      " total_cpu_ram:    32GB total_device_ram:     0 B\n",
      " hold_vars: 866 lived_vars: 24772 lived_ops: 22731\n",
      " name: sfrl is_device: 0 used: 1.585GB(66.9%) unused:   804MB(33.1%) total:  2.37GB\n",
      " name: temp is_device: 0 used:     0 B(nan%) unused:     0 B(nan%) total:     0 B\n",
      " cpu&gpu:  2.37GB gpu:     0 B cpu:  2.37GB\n",
      " free: cpu(86.22MB) gpu(    0 B)\n",
      "===========================\n",
      "\u001b[m\n"
     ]
    },
    {
     "name": "stdout",
     "output_type": "stream",
     "text": [
      "jt.Var([1.4046011], dtype=float32)\n",
      "Discrim Loss:  jt.Var([1.4046011], dtype=float32)\n",
      "true discrim loss jt.Var([1.4047372], dtype=float32)\n",
      "<|endoftext|>The lake is a popular destination for\n"
     ]
    },
    {
     "name": "stderr",
     "output_type": "stream",
     "text": [
      " 17%|#6        | 5/30 [00:20<01:37,  3.88s/it]"
     ]
    },
    {
     "name": "stdout",
     "output_type": "stream",
     "text": [
      "discrim "
     ]
    },
    {
     "name": "stderr",
     "output_type": "stream",
     "text": [
      "\u001b[38;5;2m[i 1221 14:52:40.691949 00 2348885072.py:137] \n",
      "=== display_memory_info ===\n",
      " total_cpu_ram:    32GB total_device_ram:     0 B\n",
      " hold_vars: 1197 lived_vars: 28849 lived_ops: 26387\n",
      " name: sfrl is_device: 0 used: 1.599GB(67.5%) unused: 789.3MB(32.5%) total:  2.37GB\n",
      " name: temp is_device: 0 used:     0 B(nan%) unused:     0 B(nan%) total:     0 B\n",
      " cpu&gpu:  2.37GB gpu:     0 B cpu:  2.37GB\n",
      " free: cpu(83.02MB) gpu(    0 B)\n",
      "===========================\n",
      "\u001b[m\n"
     ]
    },
    {
     "name": "stdout",
     "output_type": "stream",
     "text": [
      "jt.Var([1.1194124], dtype=float32)\n",
      "Discrim Loss:  jt.Var([1.1194124], dtype=float32)\n",
      "discrim jt.Var([1.1194134], dtype=float32)\n",
      "Discrim Loss:  jt.Var([1.1194134], dtype=float32)\n"
     ]
    },
    {
     "name": "stderr",
     "output_type": "stream",
     "text": [
      "\u001b[38;5;2m[i 1221 14:52:41.488554 00 2348885072.py:137] \n",
      "=== display_memory_info ===\n",
      " total_cpu_ram:    32GB total_device_ram:     0 B\n",
      " hold_vars: 1198 lived_vars: 29329 lived_ops: 26865\n",
      " name: sfrl is_device: 0 used: 1.599GB(67.5%) unused: 788.2MB(32.5%) total: 2.369GB\n",
      " name: temp is_device: 0 used:     0 B(nan%) unused:     0 B(nan%) total:     0 B\n",
      " cpu&gpu: 2.369GB gpu:     0 B cpu: 2.369GB\n",
      " free: cpu(   83MB) gpu(    0 B)\n",
      "===========================\n",
      "\u001b[m\n"
     ]
    },
    {
     "name": "stdout",
     "output_type": "stream",
     "text": [
      "discrim "
     ]
    },
    {
     "name": "stderr",
     "output_type": "stream",
     "text": [
      "\u001b[38;5;2m[i 1221 14:52:42.289332 00 2348885072.py:137] \n",
      "=== display_memory_info ===\n",
      " total_cpu_ram:    32GB total_device_ram:     0 B\n",
      " hold_vars: 1199 lived_vars: 29809 lived_ops: 27343\n",
      " name: sfrl is_device: 0 used:   1.6GB(67.5%) unused: 788.1MB(32.5%) total: 2.369GB\n",
      " name: temp is_device: 0 used:     0 B(nan%) unused:     0 B(nan%) total:     0 B\n",
      " cpu&gpu: 2.369GB gpu:     0 B cpu: 2.369GB\n",
      " free: cpu(84.38MB) gpu(    0 B)\n",
      "===========================\n",
      "\u001b[m\n"
     ]
    },
    {
     "name": "stdout",
     "output_type": "stream",
     "text": [
      "jt.Var([1.1194136], dtype=float32)\n",
      "Discrim Loss:  jt.Var([1.1194136], dtype=float32)\n",
      "true discrim loss jt.Var([1.11956], dtype=float32)\n",
      "<|endoftext|>The lake is a popular destination for tourists\n"
     ]
    },
    {
     "name": "stderr",
     "output_type": "stream",
     "text": [
      " 20%|##        | 6/30 [00:24<01:34,  3.95s/it]"
     ]
    },
    {
     "name": "stdout",
     "output_type": "stream",
     "text": [
      "discrim jt.Var([1.0509639], dtype=float32)\n",
      "Discrim Loss:  jt.Var([1.0509639], dtype=float32)\n"
     ]
    },
    {
     "name": "stderr",
     "output_type": "stream",
     "text": [
      "\u001b[38;5;2m[i 1221 14:52:45.091626 00 2348885072.py:137] \n",
      "=== display_memory_info ===\n",
      " total_cpu_ram:    32GB total_device_ram:     0 B\n",
      " hold_vars: 1578 lived_vars: 37073 lived_ops: 34087\n",
      " name: sfrl is_device: 0 used: 1.629GB(68%) unused: 784.4MB(32%) total: 2.395GB\n",
      " name: temp is_device: 0 used:     0 B(nan%) unused:     0 B(nan%) total:     0 B\n",
      " cpu&gpu: 2.395GB gpu:     0 B cpu: 2.395GB\n",
      " free: cpu(82.34MB) gpu(    0 B)\n",
      "===========================\n",
      "\u001b[m\n",
      "\u001b[38;5;2m[i 1221 14:52:45.888667 00 2348885072.py:137] \n",
      "=== display_memory_info ===\n",
      " total_cpu_ram:    32GB total_device_ram:     0 B\n",
      " hold_vars: 1579 lived_vars: 37553 lived_ops: 34565\n",
      " name: sfrl is_device: 0 used: 1.629GB(68%) unused: 786.2MB(32%) total: 2.396GB\n",
      " name: temp is_device: 0 used:     0 B(nan%) unused:     0 B(nan%) total:     0 B\n",
      " cpu&gpu: 2.396GB gpu:     0 B cpu: 2.396GB\n",
      " free: cpu(80.41MB) gpu(    0 B)\n",
      "===========================\n",
      "\u001b[m\n"
     ]
    },
    {
     "name": "stdout",
     "output_type": "stream",
     "text": [
      "discrim jt.Var([1.050956], dtype=float32)\n",
      "Discrim Loss:  jt.Var([1.050956], dtype=float32)\n",
      "discrim "
     ]
    },
    {
     "name": "stderr",
     "output_type": "stream",
     "text": [
      "\u001b[38;5;2m[i 1221 14:52:46.688138 00 2348885072.py:137] \n",
      "=== display_memory_info ===\n",
      " total_cpu_ram:    32GB total_device_ram:     0 B\n",
      " hold_vars: 1580 lived_vars: 38033 lived_ops: 35043\n",
      " name: sfrl is_device: 0 used: 1.629GB(68%) unused: 786.1MB(32%) total: 2.396GB\n",
      " name: temp is_device: 0 used:     0 B(nan%) unused:     0 B(nan%) total:     0 B\n",
      " cpu&gpu: 2.396GB gpu:     0 B cpu: 2.396GB\n",
      " free: cpu(78.19MB) gpu(    0 B)\n",
      "===========================\n",
      "\u001b[m\n"
     ]
    },
    {
     "name": "stdout",
     "output_type": "stream",
     "text": [
      "jt.Var([1.0509462], dtype=float32)\n",
      "Discrim Loss:  jt.Var([1.0509462], dtype=float32)\n",
      "true discrim loss jt.Var([1.0510633], dtype=float32)\n",
      "<|endoftext|>The lake is a popular destination for tourists and\n"
     ]
    },
    {
     "name": "stderr",
     "output_type": "stream",
     "text": [
      " 23%|##3       | 7/30 [00:28<01:34,  4.10s/it]"
     ]
    },
    {
     "name": "stdout",
     "output_type": "stream",
     "text": [
      "discrim jt.Var([1.1095257], dtype=float32)\n",
      "Discrim Loss:  jt.Var([1.1095257], dtype=float32)\n"
     ]
    },
    {
     "name": "stderr",
     "output_type": "stream",
     "text": [
      "\u001b[38;5;2m[i 1221 14:52:49.800934 00 2348885072.py:137] \n",
      "=== display_memory_info ===\n",
      " total_cpu_ram:    32GB total_device_ram:     0 B\n",
      " hold_vars: 1959 lived_vars: 45297 lived_ops: 41787\n",
      " name: sfrl is_device: 0 used: 1.661GB(68.5%) unused:   782MB(31.5%) total: 2.425GB\n",
      " name: temp is_device: 0 used:     0 B(nan%) unused:     0 B(nan%) total:     0 B\n",
      " cpu&gpu: 2.425GB gpu:     0 B cpu: 2.425GB\n",
      " free: cpu(80.31MB) gpu(    0 B)\n",
      "===========================\n",
      "\u001b[m\n",
      "\u001b[38;5;2m[i 1221 14:52:50.593310 00 2348885072.py:137] \n",
      "=== display_memory_info ===\n",
      " total_cpu_ram:    32GB total_device_ram:     0 B\n",
      " hold_vars: 1960 lived_vars: 45777 lived_ops: 42265\n",
      " name: sfrl is_device: 0 used: 1.661GB(68.5%) unused: 783.8MB(31.5%) total: 2.427GB\n",
      " name: temp is_device: 0 used:     0 B(nan%) unused:     0 B(nan%) total:     0 B\n",
      " cpu&gpu: 2.427GB gpu:     0 B cpu: 2.427GB\n",
      " free: cpu(80.14MB) gpu(    0 B)\n",
      "===========================\n",
      "\u001b[m\n"
     ]
    },
    {
     "name": "stdout",
     "output_type": "stream",
     "text": [
      "discrim jt.Var([1.1095265], dtype=float32)\n",
      "Discrim Loss:  jt.Var([1.1095265], dtype=float32)\n",
      "discrim jt.Var([1.1095252], dtype=float32)\n",
      "Discrim Loss:  jt.Var([1.1095252], dtype=float32)\n"
     ]
    },
    {
     "name": "stderr",
     "output_type": "stream",
     "text": [
      "\u001b[38;5;2m[i 1221 14:52:51.394821 00 2348885072.py:137] \n",
      "=== display_memory_info ===\n",
      " total_cpu_ram:    32GB total_device_ram:     0 B\n",
      " hold_vars: 1961 lived_vars: 46257 lived_ops: 42743\n",
      " name: sfrl is_device: 0 used: 1.661GB(68.5%) unused: 783.7MB(31.5%) total: 2.427GB\n",
      " name: temp is_device: 0 used:     0 B(nan%) unused:     0 B(nan%) total:     0 B\n",
      " cpu&gpu: 2.427GB gpu:     0 B cpu: 2.427GB\n",
      " free: cpu(79.41MB) gpu(    0 B)\n",
      "===========================\n",
      "\u001b[m\n",
      " 27%|##6       | 8/30 [00:33<01:34,  4.29s/it]"
     ]
    },
    {
     "name": "stdout",
     "output_type": "stream",
     "text": [
      "true discrim loss jt.Var([1.1095855], dtype=float32)\n",
      "<|endoftext|>The lake is a popular destination for tourists and locals\n",
      "discrim jt.Var([1.1077259], dtype=float32)\n",
      "Discrim Loss:  jt.Var([1.1077259], dtype=float32)\n"
     ]
    },
    {
     "name": "stderr",
     "output_type": "stream",
     "text": [
      "\u001b[38;5;2m[i 1221 14:52:54.853471 00 2348885072.py:137] \n",
      "=== display_memory_info ===\n",
      " total_cpu_ram:    32GB total_device_ram:     0 B\n",
      " hold_vars: 876 lived_vars: 36680 lived_ops: 33487\n",
      " name: sfrl is_device: 0 used: 1.617GB(65.8%) unused: 860.4MB(34.2%) total: 2.457GB\n",
      " name: temp is_device: 0 used:     0 B(nan%) unused:     0 B(nan%) total:     0 B\n",
      " cpu&gpu: 2.457GB gpu:     0 B cpu: 2.457GB\n",
      " free: cpu(78.19MB) gpu(    0 B)\n",
      "===========================\n",
      "\u001b[m\n",
      "\u001b[38;5;2m[i 1221 14:52:55.653851 00 2348885072.py:137] \n",
      "=== display_memory_info ===\n",
      " total_cpu_ram:    32GB total_device_ram:     0 B\n",
      " hold_vars: 877 lived_vars: 37160 lived_ops: 33965\n",
      " name: sfrl is_device: 0 used: 1.617GB(66.3%) unused: 841.2MB(33.7%) total: 2.438GB\n",
      " name: temp is_device: 0 used:     0 B(nan%) unused:     0 B(nan%) total:     0 B\n",
      " cpu&gpu: 2.438GB gpu:     0 B cpu: 2.438GB\n",
      " free: cpu(76.67MB) gpu(    0 B)\n",
      "===========================\n",
      "\u001b[m\n"
     ]
    },
    {
     "name": "stdout",
     "output_type": "stream",
     "text": [
      "discrim jt.Var([1.107723], dtype=float32)\n",
      "Discrim Loss:  jt.Var([1.107723], dtype=float32)\n",
      "discrim jt.Var([1.1077187], dtype=float32)\n",
      "Discrim Loss:  jt.Var([1.1077187], dtype=float32)\n"
     ]
    },
    {
     "name": "stderr",
     "output_type": "stream",
     "text": [
      "\u001b[38;5;2m[i 1221 14:52:56.450987 00 2348885072.py:137] \n",
      "=== display_memory_info ===\n",
      " total_cpu_ram:    32GB total_device_ram:     0 B\n",
      " hold_vars: 878 lived_vars: 37640 lived_ops: 34443\n",
      " name: sfrl is_device: 0 used: 1.617GB(66.3%) unused: 840.1MB(33.7%) total: 2.438GB\n",
      " name: temp is_device: 0 used:     0 B(nan%) unused:     0 B(nan%) total:     0 B\n",
      " cpu&gpu: 2.438GB gpu:     0 B cpu: 2.438GB\n",
      " free: cpu(76.77MB) gpu(    0 B)\n",
      "===========================\n",
      "\u001b[m\n"
     ]
    },
    {
     "name": "stdout",
     "output_type": "stream",
     "text": [
      "true discrim loss "
     ]
    },
    {
     "name": "stderr",
     "output_type": "stream",
     "text": [
      " 30%|###       | 9/30 [00:38<01:35,  4.53s/it]"
     ]
    },
    {
     "name": "stdout",
     "output_type": "stream",
     "text": [
      "jt.Var([1.1078405], dtype=float32)\n",
      "<|endoftext|>The lake is a popular destination for tourists and locals alike\n",
      "discrim jt.Var([0.9696662], dtype=float32)\n",
      "Discrim Loss:  jt.Var([0.9696662], dtype=float32)\n"
     ]
    },
    {
     "name": "stderr",
     "output_type": "stream",
     "text": [
      "\u001b[38;5;2m[i 1221 14:52:58.652287 00 2348885072.py:137] \n",
      "=== display_memory_info ===\n",
      " total_cpu_ram:    32GB total_device_ram:     0 B\n",
      " hold_vars: 1209 lived_vars: 41717 lived_ops: 38099\n",
      " name: sfrl is_device: 0 used: 1.635GB(67.1%) unused: 821.7MB(32.9%) total: 2.438GB\n",
      " name: temp is_device: 0 used:     0 B(nan%) unused:     0 B(nan%) total:     0 B\n",
      " cpu&gpu: 2.438GB gpu:     0 B cpu: 2.438GB\n",
      " free: cpu(70.02MB) gpu(    0 B)\n",
      "===========================\n",
      "\u001b[m\n"
     ]
    },
    {
     "name": "stdout",
     "output_type": "stream",
     "text": [
      "discrim "
     ]
    },
    {
     "name": "stderr",
     "output_type": "stream",
     "text": [
      "\u001b[38;5;2m[i 1221 14:52:59.454572 00 2348885072.py:137] \n",
      "=== display_memory_info ===\n",
      " total_cpu_ram:    32GB total_device_ram:     0 B\n",
      " hold_vars: 1210 lived_vars: 42197 lived_ops: 38577\n",
      " name: sfrl is_device: 0 used: 1.635GB(67.1%) unused: 821.5MB(32.9%) total: 2.438GB\n",
      " name: temp is_device: 0 used:     0 B(nan%) unused:     0 B(nan%) total:     0 B\n",
      " cpu&gpu: 2.438GB gpu:     0 B cpu: 2.438GB\n",
      " free: cpu(73.42MB) gpu(    0 B)\n",
      "===========================\n",
      "\u001b[m\n"
     ]
    },
    {
     "name": "stdout",
     "output_type": "stream",
     "text": [
      "jt.Var([0.96966755], dtype=float32)\n",
      "Discrim Loss:  jt.Var([0.96966755], dtype=float32)\n",
      "discrim jt.Var([0.96966696], dtype=float32)\n",
      "Discrim Loss:  jt.Var([0.96966696], dtype=float32)\n"
     ]
    },
    {
     "name": "stderr",
     "output_type": "stream",
     "text": [
      "\u001b[38;5;2m[i 1221 14:53:00.261257 00 2348885072.py:137] \n",
      "=== display_memory_info ===\n",
      " total_cpu_ram:    32GB total_device_ram:     0 B\n",
      " hold_vars: 1211 lived_vars: 42677 lived_ops: 39055\n",
      " name: sfrl is_device: 0 used: 1.635GB(67.1%) unused: 821.4MB(32.9%) total: 2.438GB\n",
      " name: temp is_device: 0 used:     0 B(nan%) unused:     0 B(nan%) total:     0 B\n",
      " cpu&gpu: 2.438GB gpu:     0 B cpu: 2.438GB\n",
      " free: cpu(78.23MB) gpu(    0 B)\n",
      "===========================\n",
      "\u001b[m\n",
      " 33%|###3      | 10/30 [00:42<01:26,  4.31s/it]"
     ]
    },
    {
     "name": "stdout",
     "output_type": "stream",
     "text": [
      "true discrim loss jt.Var([0.96974504], dtype=float32)\n",
      "<|endoftext|>The lake is a popular destination for tourists and locals alike.\n",
      "discrim jt.Var([0.91897756], dtype=float32)\n",
      "Discrim Loss:  jt.Var([0.91897756], dtype=float32)\n"
     ]
    },
    {
     "name": "stderr",
     "output_type": "stream",
     "text": [
      "\u001b[38;5;2m[i 1221 14:53:02.824799 00 2348885072.py:137] \n",
      "=== display_memory_info ===\n",
      " total_cpu_ram:    32GB total_device_ram:     0 B\n",
      " hold_vars: 1590 lived_vars: 49941 lived_ops: 45799\n",
      " name: sfrl is_device: 0 used: 1.676GB(68.5%) unused: 789.5MB(31.5%) total: 2.447GB\n",
      " name: temp is_device: 0 used:     0 B(nan%) unused:     0 B(nan%) total:     0 B\n",
      " cpu&gpu: 2.447GB gpu:     0 B cpu: 2.447GB\n",
      " free: cpu(65.41MB) gpu(    0 B)\n",
      "===========================\n",
      "\u001b[m\n"
     ]
    },
    {
     "name": "stdout",
     "output_type": "stream",
     "text": [
      "discrim "
     ]
    },
    {
     "name": "stderr",
     "output_type": "stream",
     "text": [
      "\u001b[38;5;2m[i 1221 14:53:03.623945 00 2348885072.py:137] \n",
      "=== display_memory_info ===\n",
      " total_cpu_ram:    32GB total_device_ram:     0 B\n",
      " hold_vars: 1591 lived_vars: 50421 lived_ops: 46277\n",
      " name: sfrl is_device: 0 used: 1.676GB(68.5%) unused: 790.3MB(31.5%) total: 2.448GB\n",
      " name: temp is_device: 0 used:     0 B(nan%) unused:     0 B(nan%) total:     0 B\n",
      " cpu&gpu: 2.448GB gpu:     0 B cpu: 2.448GB\n",
      " free: cpu(67.59MB) gpu(    0 B)\n",
      "===========================\n",
      "\u001b[m\n"
     ]
    },
    {
     "name": "stdout",
     "output_type": "stream",
     "text": [
      "jt.Var([0.9189766], dtype=float32)\n",
      "Discrim Loss:  jt.Var([0.9189766], dtype=float32)\n",
      "discrim jt.Var([0.91897637], dtype=float32)\n",
      "Discrim Loss:  jt.Var([0.91897637], dtype=float32)\n"
     ]
    },
    {
     "name": "stderr",
     "output_type": "stream",
     "text": [
      "\u001b[38;5;2m[i 1221 14:53:04.437251 00 2348885072.py:137] \n",
      "=== display_memory_info ===\n",
      " total_cpu_ram:    32GB total_device_ram:     0 B\n",
      " hold_vars: 1592 lived_vars: 50901 lived_ops: 46755\n",
      " name: sfrl is_device: 0 used: 1.677GB(68.5%) unused: 791.2MB(31.5%) total: 2.449GB\n",
      " name: temp is_device: 0 used:     0 B(nan%) unused:     0 B(nan%) total:     0 B\n",
      " cpu&gpu: 2.449GB gpu:     0 B cpu: 2.449GB\n",
      " free: cpu(66.05MB) gpu(    0 B)\n",
      "===========================\n",
      "\u001b[m\n",
      " 37%|###6      | 11/30 [00:46<01:21,  4.27s/it]"
     ]
    },
    {
     "name": "stdout",
     "output_type": "stream",
     "text": [
      "true discrim loss jt.Var([0.9190442], dtype=float32)\n",
      "<|endoftext|>The lake is a popular destination for tourists and locals alike.\n",
      "\n",
      "discrim "
     ]
    },
    {
     "name": "stderr",
     "output_type": "stream",
     "text": [
      "\u001b[38;5;2m[i 1221 14:53:07.304322 00 2348885072.py:137] \n",
      "=== display_memory_info ===\n",
      " total_cpu_ram:    32GB total_device_ram:     0 B\n",
      " hold_vars: 1971 lived_vars: 58165 lived_ops: 53499\n",
      " name: sfrl is_device: 0 used:  1.72GB(69.2%) unused: 784.3MB(30.8%) total: 2.486GB\n",
      " name: temp is_device: 0 used:     0 B(nan%) unused:     0 B(nan%) total:     0 B\n",
      " cpu&gpu: 2.486GB gpu:     0 B cpu: 2.486GB\n",
      " free: cpu(58.38MB) gpu(    0 B)\n",
      "===========================\n",
      "\u001b[m\n"
     ]
    },
    {
     "name": "stdout",
     "output_type": "stream",
     "text": [
      "jt.Var([0.933945], dtype=float32)\n",
      "Discrim Loss:  jt.Var([0.933945], dtype=float32)\n",
      "discrim jt.Var([0.93393826], dtype=float32)\n",
      "Discrim Loss:  jt.Var([0.93393826], dtype=float32)\n"
     ]
    },
    {
     "name": "stderr",
     "output_type": "stream",
     "text": [
      "\u001b[38;5;2m[i 1221 14:53:08.098265 00 2348885072.py:137] \n",
      "=== display_memory_info ===\n",
      " total_cpu_ram:    32GB total_device_ram:     0 B\n",
      " hold_vars: 1972 lived_vars: 58645 lived_ops: 53977\n",
      " name: sfrl is_device: 0 used: 1.721GB(69.1%) unused: 786.1MB(30.9%) total: 2.488GB\n",
      " name: temp is_device: 0 used:     0 B(nan%) unused:     0 B(nan%) total:     0 B\n",
      " cpu&gpu: 2.488GB gpu:     0 B cpu: 2.488GB\n",
      " free: cpu(54.19MB) gpu(    0 B)\n",
      "===========================\n",
      "\u001b[m\n"
     ]
    },
    {
     "name": "stdout",
     "output_type": "stream",
     "text": [
      "discrim jt.Var([0.9339377], dtype=float32)\n",
      "Discrim Loss:  jt.Var([0.9339377], dtype=float32)\n"
     ]
    },
    {
     "name": "stderr",
     "output_type": "stream",
     "text": [
      "\u001b[38;5;2m[i 1221 14:53:08.898583 00 2348885072.py:137] \n",
      "=== display_memory_info ===\n",
      " total_cpu_ram:    32GB total_device_ram:     0 B\n",
      " hold_vars: 1973 lived_vars: 59125 lived_ops: 54455\n",
      " name: sfrl is_device: 0 used: 1.721GB(69.2%) unused: 785.9MB(30.8%) total: 2.488GB\n",
      " name: temp is_device: 0 used:     0 B(nan%) unused:     0 B(nan%) total:     0 B\n",
      " cpu&gpu: 2.488GB gpu:     0 B cpu: 2.488GB\n",
      " free: cpu(56.48MB) gpu(    0 B)\n",
      "===========================\n",
      "\u001b[m\n",
      " 40%|####      | 12/30 [00:50<01:17,  4.33s/it]"
     ]
    },
    {
     "name": "stdout",
     "output_type": "stream",
     "text": [
      "true discrim loss jt.Var([0.9339618], dtype=float32)\n",
      "<|endoftext|>The lake is a popular destination for tourists and locals alike.\n",
      "\n",
      "\n",
      "discrim jt.Var([1.0163863], dtype=float32)\n",
      "Discrim Loss:  jt.Var([1.0163863], dtype=float32)\n"
     ]
    },
    {
     "name": "stderr",
     "output_type": "stream",
     "text": [
      "\u001b[38;5;2m[i 1221 14:53:12.112735 00 2348885072.py:137] \n",
      "=== display_memory_info ===\n",
      " total_cpu_ram:    32GB total_device_ram:     0 B\n",
      " hold_vars: 2352 lived_vars: 66389 lived_ops: 61199\n",
      " name: sfrl is_device: 0 used: 1.768GB(69.9%) unused:   779MB(30.1%) total: 2.528GB\n",
      " name: temp is_device: 0 used:     0 B(nan%) unused:     0 B(nan%) total:     0 B\n",
      " cpu&gpu: 2.528GB gpu:     0 B cpu: 2.528GB\n",
      " free: cpu(35.61MB) gpu(    0 B)\n",
      "===========================\n",
      "\u001b[m\n"
     ]
    },
    {
     "name": "stdout",
     "output_type": "stream",
     "text": [
      "discrim "
     ]
    },
    {
     "name": "stderr",
     "output_type": "stream",
     "text": [
      "\u001b[38;5;2m[i 1221 14:53:12.921893 00 2348885072.py:137] \n",
      "=== display_memory_info ===\n",
      " total_cpu_ram:    32GB total_device_ram:     0 B\n",
      " hold_vars: 889 lived_vars: 50028 lived_ops: 45677\n",
      " name: sfrl is_device: 0 used: 1.653GB(65.3%) unused: 897.7MB(34.7%) total: 2.529GB\n",
      " name: temp is_device: 0 used:     0 B(nan%) unused:     0 B(nan%) total:     0 B\n",
      " cpu&gpu: 2.529GB gpu:     0 B cpu: 2.529GB\n",
      " free: cpu(65.62MB) gpu(    0 B)\n",
      "===========================\n",
      "\u001b[m\n"
     ]
    },
    {
     "name": "stdout",
     "output_type": "stream",
     "text": [
      "jt.Var([1.0163846], dtype=float32)\n",
      "Discrim Loss:  jt.Var([1.0163846], dtype=float32)\n",
      "discrim jt.Var([1.0163841], dtype=float32)\n",
      "Discrim Loss:  jt.Var([1.0163841], dtype=float32)\n"
     ]
    },
    {
     "name": "stderr",
     "output_type": "stream",
     "text": [
      "\u001b[38;5;2m[i 1221 14:53:13.715356 00 2348885072.py:137] \n",
      "=== display_memory_info ===\n",
      " total_cpu_ram:    32GB total_device_ram:     0 B\n",
      " hold_vars: 890 lived_vars: 50508 lived_ops: 46155\n",
      " name: sfrl is_device: 0 used: 1.653GB(66%) unused: 873.6MB(34%) total: 2.506GB\n",
      " name: temp is_device: 0 used:     0 B(nan%) unused:     0 B(nan%) total:     0 B\n",
      " cpu&gpu: 2.506GB gpu:     0 B cpu: 2.506GB\n",
      " free: cpu(65.25MB) gpu(    0 B)\n",
      "===========================\n",
      "\u001b[m\n"
     ]
    },
    {
     "name": "stdout",
     "output_type": "stream",
     "text": [
      "true discrim loss "
     ]
    },
    {
     "name": "stderr",
     "output_type": "stream",
     "text": [
      " 43%|####3     | 13/30 [00:55<01:16,  4.48s/it]"
     ]
    },
    {
     "name": "stdout",
     "output_type": "stream",
     "text": [
      "jt.Var([1.0164466], dtype=float32)\n",
      "<|endoftext|>The lake is a popular destination for tourists and locals alike.\n",
      "\n",
      "The\n",
      "discrim jt.Var([1.0734129], dtype=float32)\n",
      "Discrim Loss:  jt.Var([1.0734129], dtype=float32)\n"
     ]
    },
    {
     "name": "stderr",
     "output_type": "stream",
     "text": [
      "\u001b[38;5;2m[i 1221 14:53:17.256493 00 2348885072.py:137] \n",
      "=== display_memory_info ===\n",
      " total_cpu_ram:    32GB total_device_ram:     0 B\n",
      " hold_vars: 1221 lived_vars: 54585 lived_ops: 49811\n",
      " name: sfrl is_device: 0 used: 1.675GB(66.9%) unused: 848.4MB(33.1%) total: 2.504GB\n",
      " name: temp is_device: 0 used:     0 B(nan%) unused:     0 B(nan%) total:     0 B\n",
      " cpu&gpu: 2.504GB gpu:     0 B cpu: 2.504GB\n",
      " free: cpu(60.83MB) gpu(    0 B)\n",
      "===========================\n",
      "\u001b[m\n"
     ]
    },
    {
     "name": "stdout",
     "output_type": "stream",
     "text": [
      "discrim "
     ]
    },
    {
     "name": "stderr",
     "output_type": "stream",
     "text": [
      "\u001b[38;5;2m[i 1221 14:53:18.063281 00 2348885072.py:137] \n",
      "=== display_memory_info ===\n",
      " total_cpu_ram:    32GB total_device_ram:     0 B\n",
      " hold_vars: 1222 lived_vars: 55065 lived_ops: 50289\n",
      " name: sfrl is_device: 0 used: 1.676GB(67.2%) unused: 837.1MB(32.8%) total: 2.493GB\n",
      " name: temp is_device: 0 used:     0 B(nan%) unused:     0 B(nan%) total:     0 B\n",
      " cpu&gpu: 2.493GB gpu:     0 B cpu: 2.493GB\n",
      " free: cpu( 64.2MB) gpu(    0 B)\n",
      "===========================\n",
      "\u001b[m\n"
     ]
    },
    {
     "name": "stdout",
     "output_type": "stream",
     "text": [
      "jt.Var([1.0734127], dtype=float32)\n",
      "Discrim Loss:  jt.Var([1.0734127], dtype=float32)\n",
      "discrim jt.Var([1.0734131], dtype=float32)\n",
      "Discrim Loss:  jt.Var([1.0734131], dtype=float32)\n"
     ]
    },
    {
     "name": "stderr",
     "output_type": "stream",
     "text": [
      "\u001b[38;5;2m[i 1221 14:53:18.860606 00 2348885072.py:137] \n",
      "=== display_memory_info ===\n",
      " total_cpu_ram:    32GB total_device_ram:     0 B\n",
      " hold_vars: 1223 lived_vars: 55545 lived_ops: 50767\n",
      " name: sfrl is_device: 0 used: 1.676GB(67.2%) unused:   837MB(32.8%) total: 2.493GB\n",
      " name: temp is_device: 0 used:     0 B(nan%) unused:     0 B(nan%) total:     0 B\n",
      " cpu&gpu: 2.493GB gpu:     0 B cpu: 2.493GB\n",
      " free: cpu(63.89MB) gpu(    0 B)\n",
      "===========================\n",
      "\u001b[m\n"
     ]
    },
    {
     "name": "stdout",
     "output_type": "stream",
     "text": [
      "true discrim loss "
     ]
    },
    {
     "name": "stderr",
     "output_type": "stream",
     "text": [
      " 47%|####6     | 14/30 [01:00<01:14,  4.68s/it]"
     ]
    },
    {
     "name": "stdout",
     "output_type": "stream",
     "text": [
      "jt.Var([1.0735307], dtype=float32)\n",
      "<|endoftext|>The lake is a popular destination for tourists and locals alike.\n",
      "\n",
      "The lake\n",
      "discrim jt.Var([1.1172724], dtype=float32)\n",
      "Discrim Loss:  jt.Var([1.1172724], dtype=float32)\n"
     ]
    },
    {
     "name": "stderr",
     "output_type": "stream",
     "text": [
      "\u001b[38;5;2m[i 1221 14:53:22.715957 00 2348885072.py:137] \n",
      "=== display_memory_info ===\n",
      " total_cpu_ram:    32GB total_device_ram:     0 B\n",
      " hold_vars: 1602 lived_vars: 62809 lived_ops: 57511\n",
      " name: sfrl is_device: 0 used: 1.729GB(69%) unused: 794.1MB(31%) total: 2.505GB\n",
      " name: temp is_device: 0 used:     0 B(nan%) unused:     0 B(nan%) total:     0 B\n",
      " cpu&gpu: 2.505GB gpu:     0 B cpu: 2.505GB\n",
      " free: cpu(60.84MB) gpu(    0 B)\n",
      "===========================\n",
      "\u001b[m\n"
     ]
    },
    {
     "name": "stdout",
     "output_type": "stream",
     "text": [
      "discrim "
     ]
    },
    {
     "name": "stderr",
     "output_type": "stream",
     "text": [
      "\u001b[38;5;2m[i 1221 14:53:23.508084 00 2348885072.py:137] \n",
      "=== display_memory_info ===\n",
      " total_cpu_ram:    32GB total_device_ram:     0 B\n",
      " hold_vars: 1603 lived_vars: 63289 lived_ops: 57989\n",
      " name: sfrl is_device: 0 used:  1.73GB(69%) unused: 795.8MB(31%) total: 2.507GB\n",
      " name: temp is_device: 0 used:     0 B(nan%) unused:     0 B(nan%) total:     0 B\n",
      " cpu&gpu: 2.507GB gpu:     0 B cpu: 2.507GB\n",
      " free: cpu(53.72MB) gpu(    0 B)\n",
      "===========================\n",
      "\u001b[m\n"
     ]
    },
    {
     "name": "stdout",
     "output_type": "stream",
     "text": [
      "jt.Var([1.1172714], dtype=float32)\n",
      "Discrim Loss:  jt.Var([1.1172714], dtype=float32)\n",
      "discrim jt.Var([1.1172693], dtype=float32)\n",
      "Discrim Loss:  jt.Var([1.1172693], dtype=float32)\n"
     ]
    },
    {
     "name": "stderr",
     "output_type": "stream",
     "text": [
      "\u001b[38;5;2m[i 1221 14:53:24.305720 00 2348885072.py:137] \n",
      "=== display_memory_info ===\n",
      " total_cpu_ram:    32GB total_device_ram:     0 B\n",
      " hold_vars: 1604 lived_vars: 63769 lived_ops: 58467\n",
      " name: sfrl is_device: 0 used:  1.73GB(69%) unused: 795.7MB(31%) total: 2.507GB\n",
      " name: temp is_device: 0 used:     0 B(nan%) unused:     0 B(nan%) total:     0 B\n",
      " cpu&gpu: 2.507GB gpu:     0 B cpu: 2.507GB\n",
      " free: cpu(60.95MB) gpu(    0 B)\n",
      "===========================\n",
      "\u001b[m\n",
      " 50%|#####     | 15/30 [01:06<01:13,  4.91s/it]"
     ]
    },
    {
     "name": "stdout",
     "output_type": "stream",
     "text": [
      "true discrim loss jt.Var([1.1173096], dtype=float32)\n",
      "<|endoftext|>The lake is a popular destination for tourists and locals alike.\n",
      "\n",
      "The lake is\n",
      "discrim jt.Var([1.1048579], dtype=float32)\n",
      "Discrim Loss:  jt.Var([1.1048579], dtype=float32)\n"
     ]
    },
    {
     "name": "stderr",
     "output_type": "stream",
     "text": [
      "\u001b[38;5;2m[i 1221 14:53:26.896550 00 2348885072.py:137] \n",
      "=== display_memory_info ===\n",
      " total_cpu_ram:    32GB total_device_ram:     0 B\n",
      " hold_vars: 1983 lived_vars: 71033 lived_ops: 65211\n",
      " name: sfrl is_device: 0 used: 1.786GB(69.9%) unused: 786.9MB(30.1%) total: 2.555GB\n",
      " name: temp is_device: 0 used:     0 B(nan%) unused:     0 B(nan%) total:     0 B\n",
      " cpu&gpu: 2.555GB gpu:     0 B cpu: 2.555GB\n",
      " free: cpu(50.05MB) gpu(    0 B)\n",
      "===========================\n",
      "\u001b[m\n"
     ]
    },
    {
     "name": "stdout",
     "output_type": "stream",
     "text": [
      "discrim "
     ]
    },
    {
     "name": "stderr",
     "output_type": "stream",
     "text": [
      "\u001b[38;5;2m[i 1221 14:53:27.702119 00 2348885072.py:137] \n",
      "=== display_memory_info ===\n",
      " total_cpu_ram:    32GB total_device_ram:     0 B\n",
      " hold_vars: 1984 lived_vars: 71513 lived_ops: 65689\n",
      " name: sfrl is_device: 0 used: 1.786GB(69.9%) unused: 788.6MB(30.1%) total: 2.557GB\n",
      " name: temp is_device: 0 used:     0 B(nan%) unused:     0 B(nan%) total:     0 B\n",
      " cpu&gpu: 2.557GB gpu:     0 B cpu: 2.557GB\n",
      " free: cpu(46.23MB) gpu(    0 B)\n",
      "===========================\n",
      "\u001b[m\n"
     ]
    },
    {
     "name": "stdout",
     "output_type": "stream",
     "text": [
      "jt.Var([1.1048579], dtype=float32)\n",
      "Discrim Loss:  jt.Var([1.1048579], dtype=float32)\n",
      "discrim jt.Var([1.1048572], dtype=float32)\n",
      "Discrim Loss:  jt.Var([1.1048572], dtype=float32)\n"
     ]
    },
    {
     "name": "stderr",
     "output_type": "stream",
     "text": [
      "\u001b[38;5;2m[i 1221 14:53:28.498668 00 2348885072.py:137] \n",
      "=== display_memory_info ===\n",
      " total_cpu_ram:    32GB total_device_ram:     0 B\n",
      " hold_vars: 1985 lived_vars: 71993 lived_ops: 66167\n",
      " name: sfrl is_device: 0 used: 1.787GB(69.9%) unused: 789.5MB(30.1%) total: 2.558GB\n",
      " name: temp is_device: 0 used:     0 B(nan%) unused:     0 B(nan%) total:     0 B\n",
      " cpu&gpu: 2.558GB gpu:     0 B cpu: 2.558GB\n",
      " free: cpu(43.17MB) gpu(    0 B)\n",
      "===========================\n",
      "\u001b[m\n"
     ]
    },
    {
     "name": "stdout",
     "output_type": "stream",
     "text": [
      "true discrim loss "
     ]
    },
    {
     "name": "stderr",
     "output_type": "stream",
     "text": [
      " 53%|#####3    | 16/30 [01:10<01:05,  4.69s/it]"
     ]
    },
    {
     "name": "stdout",
     "output_type": "stream",
     "text": [
      "jt.Var([1.1049004], dtype=float32)\n",
      "<|endoftext|>The lake is a popular destination for tourists and locals alike.\n",
      "\n",
      "The lake is a\n",
      "discrim jt.Var([1.0551618], dtype=float32)\n",
      "Discrim Loss:  jt.Var([1.0551618], dtype=float32)\n"
     ]
    },
    {
     "name": "stderr",
     "output_type": "stream",
     "text": [
      "\u001b[38;5;2m[i 1221 14:53:31.447831 00 2348885072.py:137] \n",
      "=== display_memory_info ===\n",
      " total_cpu_ram:    32GB total_device_ram:     0 B\n",
      " hold_vars: 2364 lived_vars: 79257 lived_ops: 72911\n",
      " name: sfrl is_device: 0 used: 1.846GB(70.8%) unused: 780.8MB(29.2%) total: 2.608GB\n",
      " name: temp is_device: 0 used:     0 B(nan%) unused:     0 B(nan%) total:     0 B\n",
      " cpu&gpu: 2.608GB gpu:     0 B cpu: 2.608GB\n",
      " free: cpu(30.38MB) gpu(    0 B)\n",
      "===========================\n",
      "\u001b[m\n"
     ]
    },
    {
     "name": "stdout",
     "output_type": "stream",
     "text": [
      "discrim "
     ]
    },
    {
     "name": "stderr",
     "output_type": "stream",
     "text": [
      "\u001b[38;5;2m[i 1221 14:53:32.252914 00 2348885072.py:137] \n",
      "=== display_memory_info ===\n",
      " total_cpu_ram:    32GB total_device_ram:     0 B\n",
      " hold_vars: 2365 lived_vars: 79737 lived_ops: 73389\n",
      " name: sfrl is_device: 0 used: 1.846GB(70.7%) unused: 783.5MB(29.3%) total: 2.611GB\n",
      " name: temp is_device: 0 used:     0 B(nan%) unused:     0 B(nan%) total:     0 B\n",
      " cpu&gpu: 2.611GB gpu:     0 B cpu: 2.611GB\n",
      " free: cpu(60.27MB) gpu(    0 B)\n",
      "===========================\n",
      "\u001b[m\n"
     ]
    },
    {
     "name": "stdout",
     "output_type": "stream",
     "text": [
      "jt.Var([1.0551623], dtype=float32)\n",
      "Discrim Loss:  jt.Var([1.0551623], dtype=float32)\n",
      "discrim jt.Var([1.0551627], dtype=float32)\n",
      "Discrim Loss:  jt.Var([1.0551627], dtype=float32)\n"
     ]
    },
    {
     "name": "stderr",
     "output_type": "stream",
     "text": [
      "\u001b[38;5;2m[i 1221 14:53:33.049185 00 2348885072.py:137] \n",
      "=== display_memory_info ===\n",
      " total_cpu_ram:    32GB total_device_ram:     0 B\n",
      " hold_vars: 2366 lived_vars: 80217 lived_ops: 73867\n",
      " name: sfrl is_device: 0 used: 1.846GB(70.7%) unused: 783.4MB(29.3%) total: 2.611GB\n",
      " name: temp is_device: 0 used:     0 B(nan%) unused:     0 B(nan%) total:     0 B\n",
      " cpu&gpu: 2.611GB gpu:     0 B cpu: 2.611GB\n",
      " free: cpu( 61.3MB) gpu(    0 B)\n",
      "===========================\n",
      "\u001b[m\n"
     ]
    },
    {
     "name": "stdout",
     "output_type": "stream",
     "text": [
      "true discrim loss "
     ]
    },
    {
     "name": "stderr",
     "output_type": "stream",
     "text": [
      " 57%|#####6    | 17/30 [01:14<01:00,  4.65s/it]"
     ]
    },
    {
     "name": "stdout",
     "output_type": "stream",
     "text": [
      "jt.Var([1.055156], dtype=float32)\n",
      "<|endoftext|>The lake is a popular destination for tourists and locals alike.\n",
      "\n",
      "The lake is a popular\n",
      "discrim jt.Var([0.9205846], dtype=float32)\n",
      "Discrim Loss:  jt.Var([0.9205846], dtype=float32)\n"
     ]
    },
    {
     "name": "stderr",
     "output_type": "stream",
     "text": [
      "\u001b[38;5;2m[i 1221 14:53:36.284925 00 2348885072.py:137] \n",
      "=== display_memory_info ===\n",
      " total_cpu_ram:    32GB total_device_ram:     0 B\n",
      " hold_vars: 903 lived_vars: 65633 lived_ops: 59839\n",
      " name: sfrl is_device: 0 used: 1.702GB(65.1%) unused: 935.5MB(34.9%) total: 2.615GB\n",
      " name: temp is_device: 0 used:     0 B(nan%) unused:     0 B(nan%) total:     0 B\n",
      " cpu&gpu: 2.615GB gpu:     0 B cpu: 2.615GB\n",
      " free: cpu(53.91MB) gpu(    0 B)\n",
      "===========================\n",
      "\u001b[m\n"
     ]
    },
    {
     "name": "stdout",
     "output_type": "stream",
     "text": [
      "discrim jt.Var([0.9205835], dtype=float32)\n",
      "Discrim Loss:  jt.Var([0.9205835], dtype=float32)\n"
     ]
    },
    {
     "name": "stderr",
     "output_type": "stream",
     "text": [
      "\u001b[38;5;2m[i 1221 14:53:37.087339 00 2348885072.py:137] \n",
      "=== display_memory_info ===\n",
      " total_cpu_ram:    32GB total_device_ram:     0 B\n",
      " hold_vars: 904 lived_vars: 66113 lived_ops: 60317\n",
      " name: sfrl is_device: 0 used: 1.702GB(66.6%) unused: 873.2MB(33.4%) total: 2.555GB\n",
      " name: temp is_device: 0 used:     0 B(nan%) unused:     0 B(nan%) total:     0 B\n",
      " cpu&gpu: 2.555GB gpu:     0 B cpu: 2.555GB\n",
      " free: cpu(54.27MB) gpu(    0 B)\n",
      "===========================\n",
      "\u001b[m\n",
      "\u001b[38;5;2m[i 1221 14:53:37.894859 00 2348885072.py:137] \n",
      "=== display_memory_info ===\n",
      " total_cpu_ram:    32GB total_device_ram:     0 B\n",
      " hold_vars: 905 lived_vars: 66593 lived_ops: 60795\n",
      " name: sfrl is_device: 0 used: 1.702GB(66.6%) unused: 873.1MB(33.4%) total: 2.555GB\n",
      " name: temp is_device: 0 used:     0 B(nan%) unused:     0 B(nan%) total:     0 B\n",
      " cpu&gpu: 2.555GB gpu:     0 B cpu: 2.555GB\n",
      " free: cpu(53.22MB) gpu(    0 B)\n",
      "===========================\n",
      "\u001b[m\n"
     ]
    },
    {
     "name": "stdout",
     "output_type": "stream",
     "text": [
      "discrim jt.Var([0.920583], dtype=float32)\n",
      "Discrim Loss:  jt.Var([0.920583], dtype=float32)\n",
      "true discrim loss jt.Var([0.92058754], dtype=float32)\n"
     ]
    },
    {
     "name": "stderr",
     "output_type": "stream",
     "text": [
      " 60%|######    | 18/30 [01:19<00:56,  4.71s/it]"
     ]
    },
    {
     "name": "stdout",
     "output_type": "stream",
     "text": [
      "<|endoftext|>The lake is a popular destination for tourists and locals alike.\n",
      "\n",
      "The lake is a popular destination\n",
      "discrim jt.Var([0.8855384], dtype=float32)\n",
      "Discrim Loss:  jt.Var([0.8855384], dtype=float32)\n"
     ]
    },
    {
     "name": "stderr",
     "output_type": "stream",
     "text": [
      "\u001b[38;5;2m[i 1221 14:53:41.497902 00 2348885072.py:137] \n",
      "=== display_memory_info ===\n",
      " total_cpu_ram:    32GB total_device_ram:     0 B\n",
      " hold_vars: 1236 lived_vars: 70670 lived_ops: 64451\n",
      " name: sfrl is_device: 0 used: 1.729GB(67.7%) unused: 845.9MB(32.3%) total: 2.555GB\n",
      " name: temp is_device: 0 used:     0 B(nan%) unused:     0 B(nan%) total:     0 B\n",
      " cpu&gpu: 2.555GB gpu:     0 B cpu: 2.555GB\n",
      " free: cpu(53.95MB) gpu(    0 B)\n",
      "===========================\n",
      "\u001b[m\n"
     ]
    },
    {
     "name": "stdout",
     "output_type": "stream",
     "text": [
      "discrim "
     ]
    },
    {
     "name": "stderr",
     "output_type": "stream",
     "text": [
      "\u001b[38;5;2m[i 1221 14:53:42.295993 00 2348885072.py:137] \n",
      "=== display_memory_info ===\n",
      " total_cpu_ram:    32GB total_device_ram:     0 B\n",
      " hold_vars: 1237 lived_vars: 71150 lived_ops: 64929\n",
      " name: sfrl is_device: 0 used: 1.729GB(67.9%) unused: 836.6MB(32.1%) total: 2.546GB\n",
      " name: temp is_device: 0 used:     0 B(nan%) unused:     0 B(nan%) total:     0 B\n",
      " cpu&gpu: 2.546GB gpu:     0 B cpu: 2.546GB\n",
      " free: cpu(54.23MB) gpu(    0 B)\n",
      "===========================\n",
      "\u001b[m\n"
     ]
    },
    {
     "name": "stdout",
     "output_type": "stream",
     "text": [
      "jt.Var([0.88553387], dtype=float32)\n",
      "Discrim Loss:  jt.Var([0.88553387], dtype=float32)\n",
      "discrim jt.Var([0.8855274], dtype=float32)\n",
      "Discrim Loss:  jt.Var([0.8855274], dtype=float32)\n"
     ]
    },
    {
     "name": "stderr",
     "output_type": "stream",
     "text": [
      "\u001b[38;5;2m[i 1221 14:53:43.093028 00 2348885072.py:137] \n",
      "=== display_memory_info ===\n",
      " total_cpu_ram:    32GB total_device_ram:     0 B\n",
      " hold_vars: 1238 lived_vars: 71630 lived_ops: 65407\n",
      " name: sfrl is_device: 0 used: 1.729GB(67.9%) unused: 836.4MB(32.1%) total: 2.546GB\n",
      " name: temp is_device: 0 used:     0 B(nan%) unused:     0 B(nan%) total:     0 B\n",
      " cpu&gpu: 2.546GB gpu:     0 B cpu: 2.546GB\n",
      " free: cpu(63.59MB) gpu(    0 B)\n",
      "===========================\n",
      "\u001b[m\n",
      " 63%|######3   | 19/30 [01:24<00:53,  4.86s/it]"
     ]
    },
    {
     "name": "stdout",
     "output_type": "stream",
     "text": [
      "true discrim loss jt.Var([0.88533556], dtype=float32)\n",
      "<|endoftext|>The lake is a popular destination for tourists and locals alike.\n",
      "\n",
      "The lake is a popular destination for\n",
      "discrim jt.Var([0.84241354], dtype=float32)\n",
      "Discrim Loss:  jt.Var([0.84241354], dtype=float32)\n"
     ]
    },
    {
     "name": "stderr",
     "output_type": "stream",
     "text": [
      "\u001b[38;5;2m[i 1221 14:53:47.024403 00 2348885072.py:137] \n",
      "=== display_memory_info ===\n",
      " total_cpu_ram:    32GB total_device_ram:     0 B\n",
      " hold_vars: 1617 lived_vars: 78894 lived_ops: 72151\n",
      " name: sfrl is_device: 0 used: 1.797GB(69.5%) unused: 805.7MB(30.5%) total: 2.584GB\n",
      " name: temp is_device: 0 used:     0 B(nan%) unused:     0 B(nan%) total:     0 B\n",
      " cpu&gpu: 2.584GB gpu:     0 B cpu: 2.584GB\n",
      " free: cpu(65.89MB) gpu(    0 B)\n",
      "===========================\n",
      "\u001b[m\n",
      "\u001b[38;5;2m[i 1221 14:53:47.826437 00 2348885072.py:137] \n",
      "=== display_memory_info ===\n",
      " total_cpu_ram:    32GB total_device_ram:     0 B\n",
      " hold_vars: 1618 lived_vars: 79374 lived_ops: 72629\n",
      " name: sfrl is_device: 0 used: 1.797GB(69.5%) unused: 808.4MB(30.5%) total: 2.587GB\n",
      " name: temp is_device: 0 used:     0 B(nan%) unused:     0 B(nan%) total:     0 B\n",
      " cpu&gpu: 2.587GB gpu:     0 B cpu: 2.587GB\n",
      " free: cpu(   67MB) gpu(    0 B)\n",
      "===========================\n",
      "\u001b[m\n"
     ]
    },
    {
     "name": "stdout",
     "output_type": "stream",
     "text": [
      "discrim jt.Var([0.8424131], dtype=float32)\n",
      "Discrim Loss:  jt.Var([0.8424131], dtype=float32)\n",
      "discrim jt.Var([0.8424125], dtype=float32)\n",
      "Discrim Loss:  jt.Var([0.8424125], dtype=float32)\n"
     ]
    },
    {
     "name": "stderr",
     "output_type": "stream",
     "text": [
      "\u001b[38;5;2m[i 1221 14:53:48.628886 00 2348885072.py:137] \n",
      "=== display_memory_info ===\n",
      " total_cpu_ram:    32GB total_device_ram:     0 B\n",
      " hold_vars: 1619 lived_vars: 79854 lived_ops: 73107\n",
      " name: sfrl is_device: 0 used: 1.798GB(69.5%) unused: 809.3MB(30.5%) total: 2.588GB\n",
      " name: temp is_device: 0 used:     0 B(nan%) unused:     0 B(nan%) total:     0 B\n",
      " cpu&gpu: 2.588GB gpu:     0 B cpu: 2.588GB\n",
      " free: cpu(69.81MB) gpu(    0 B)\n",
      "===========================\n",
      "\u001b[m\n"
     ]
    },
    {
     "name": "stdout",
     "output_type": "stream",
     "text": [
      "true discrim loss "
     ]
    },
    {
     "name": "stderr",
     "output_type": "stream",
     "text": [
      " 67%|######6   | 20/30 [01:30<00:50,  5.06s/it]"
     ]
    },
    {
     "name": "stdout",
     "output_type": "stream",
     "text": [
      "jt.Var([0.8425057], dtype=float32)\n",
      "<|endoftext|>The lake is a popular destination for tourists and locals alike.\n",
      "\n",
      "The lake is a popular destination for tourists\n",
      "discrim jt.Var([0.8411503], dtype=float32)\n",
      "Discrim Loss:  jt.Var([0.8411503], dtype=float32)\n"
     ]
    },
    {
     "name": "stderr",
     "output_type": "stream",
     "text": [
      "\u001b[38;5;2m[i 1221 14:53:52.890440 00 2348885072.py:137] \n",
      "=== display_memory_info ===\n",
      " total_cpu_ram:    32GB total_device_ram:     0 B\n",
      " hold_vars: 1998 lived_vars: 87118 lived_ops: 79851\n",
      " name: sfrl is_device: 0 used: 1.869GB(70.6%) unused: 798.4MB(29.4%) total: 2.648GB\n",
      " name: temp is_device: 0 used:     0 B(nan%) unused:     0 B(nan%) total:     0 B\n",
      " cpu&gpu: 2.648GB gpu:     0 B cpu: 2.648GB\n",
      " free: cpu(35.11MB) gpu(    0 B)\n",
      "===========================\n",
      "\u001b[m\n"
     ]
    },
    {
     "name": "stdout",
     "output_type": "stream",
     "text": [
      "discrim "
     ]
    },
    {
     "name": "stderr",
     "output_type": "stream",
     "text": [
      "\u001b[38;5;2m[i 1221 14:53:53.694910 00 2348885072.py:137] \n",
      "=== display_memory_info ===\n",
      " total_cpu_ram:    32GB total_device_ram:     0 B\n",
      " hold_vars: 1999 lived_vars: 87598 lived_ops: 80329\n",
      " name: sfrl is_device: 0 used: 1.869GB(70.5%) unused: 801.1MB(29.5%) total: 2.651GB\n",
      " name: temp is_device: 0 used:     0 B(nan%) unused:     0 B(nan%) total:     0 B\n",
      " cpu&gpu: 2.651GB gpu:     0 B cpu: 2.651GB\n",
      " free: cpu(62.03MB) gpu(    0 B)\n",
      "===========================\n",
      "\u001b[m\n"
     ]
    },
    {
     "name": "stdout",
     "output_type": "stream",
     "text": [
      "jt.Var([0.8411477], dtype=float32)\n",
      "Discrim Loss:  jt.Var([0.8411477], dtype=float32)\n",
      "discrim jt.Var([0.84114367], dtype=float32)\n",
      "Discrim Loss:  jt.Var([0.84114367], dtype=float32)\n"
     ]
    },
    {
     "name": "stderr",
     "output_type": "stream",
     "text": [
      "\u001b[38;5;2m[i 1221 14:53:54.497926 00 2348885072.py:137] \n",
      "=== display_memory_info ===\n",
      " total_cpu_ram:    32GB total_device_ram:     0 B\n",
      " hold_vars: 2000 lived_vars: 88078 lived_ops: 80807\n",
      " name: sfrl is_device: 0 used: 1.869GB(70.5%) unused: 801.9MB(29.5%) total: 2.652GB\n",
      " name: temp is_device: 0 used:     0 B(nan%) unused:     0 B(nan%) total:     0 B\n",
      " cpu&gpu: 2.652GB gpu:     0 B cpu: 2.652GB\n",
      " free: cpu(66.38MB) gpu(    0 B)\n",
      "===========================\n",
      "\u001b[m\n",
      " 70%|#######   | 21/30 [01:36<00:47,  5.30s/it]"
     ]
    },
    {
     "name": "stdout",
     "output_type": "stream",
     "text": [
      "true discrim loss jt.Var([0.84112155], dtype=float32)\n",
      "<|endoftext|>The lake is a popular destination for tourists and locals alike.\n",
      "\n",
      "The lake is a popular destination for tourists and\n",
      "discrim "
     ]
    },
    {
     "name": "stderr",
     "output_type": "stream",
     "text": [
      "\u001b[38;5;2m[i 1221 14:53:57.108999 00 2348885072.py:137] \n",
      "=== display_memory_info ===\n",
      " total_cpu_ram:    32GB total_device_ram:     0 B\n",
      " hold_vars: 2379 lived_vars: 95342 lived_ops: 87551\n",
      " name: sfrl is_device: 0 used: 1.943GB(71.5%) unused:   793MB(28.5%) total: 2.718GB\n",
      " name: temp is_device: 0 used:     0 B(nan%) unused:     0 B(nan%) total:     0 B\n",
      " cpu&gpu: 2.718GB gpu:     0 B cpu: 2.718GB\n",
      " free: cpu(47.69MB) gpu(    0 B)\n",
      "===========================\n",
      "\u001b[m\n",
      "\u001b[38;5;2m[i 1221 14:53:57.922935 00 2348885072.py:137] \n",
      "=== display_memory_info ===\n",
      " total_cpu_ram:    32GB total_device_ram:     0 B\n",
      " hold_vars: 916 lived_vars: 78981 lived_ops: 72029\n",
      " name: sfrl is_device: 0 used: 1.745GB(64.2%) unused: 996.5MB(35.8%) total: 2.718GB\n",
      " name: temp is_device: 0 used:     0 B(nan%) unused:     0 B(nan%) total:     0 B\n",
      " cpu&gpu: 2.718GB gpu:     0 B cpu: 2.718GB\n",
      " free: cpu(47.59MB) gpu(    0 B)\n",
      "===========================\n",
      "\u001b[m\n"
     ]
    },
    {
     "name": "stdout",
     "output_type": "stream",
     "text": [
      "jt.Var([0.8607339], dtype=float32)\n",
      "Discrim Loss:  jt.Var([0.8607339], dtype=float32)\n",
      "discrim jt.Var([0.86073446], dtype=float32)\n",
      "Discrim Loss:  jt.Var([0.86073446], dtype=float32)\n"
     ]
    },
    {
     "name": "stderr",
     "output_type": "stream",
     "text": [
      "\u001b[38;5;2m[i 1221 14:53:58.721732 00 2348885072.py:137] \n",
      "=== display_memory_info ===\n",
      " total_cpu_ram:    32GB total_device_ram:     0 B\n",
      " hold_vars: 917 lived_vars: 79461 lived_ops: 72507\n",
      " name: sfrl is_device: 0 used: 1.745GB(64.7%) unused: 975.3MB(35.3%) total: 2.697GB\n",
      " name: temp is_device: 0 used:     0 B(nan%) unused:     0 B(nan%) total:     0 B\n",
      " cpu&gpu: 2.697GB gpu:     0 B cpu: 2.697GB\n",
      " free: cpu(45.95MB) gpu(    0 B)\n",
      "===========================\n",
      "\u001b[m\n"
     ]
    },
    {
     "name": "stdout",
     "output_type": "stream",
     "text": [
      "discrim jt.Var([0.8607339], dtype=float32)\n",
      "Discrim Loss:  jt.Var([0.8607339], dtype=float32)\n",
      "true discrim loss "
     ]
    },
    {
     "name": "stderr",
     "output_type": "stream",
     "text": [
      " 73%|#######3  | 22/30 [01:40<00:39,  4.98s/it]\u001b[38;5;2m[i 1221 14:54:01.671061 00 2348885072.py:137] \n",
      "=== display_memory_info ===\n",
      " total_cpu_ram:    32GB total_device_ram:     0 B\n",
      " hold_vars: 1248 lived_vars: 83538 lived_ops: 76163\n",
      " name: sfrl is_device: 0 used: 1.775GB(65.9%) unused: 941.2MB(34.1%) total: 2.694GB\n",
      " name: temp is_device: 0 used:     0 B(nan%) unused:     0 B(nan%) total:     0 B\n",
      " cpu&gpu: 2.694GB gpu:     0 B cpu: 2.694GB\n",
      " free: cpu(107.8MB) gpu(    0 B)\n",
      "===========================\n",
      "\u001b[m\n"
     ]
    },
    {
     "name": "stdout",
     "output_type": "stream",
     "text": [
      "jt.Var([0.86074257], dtype=float32)\n",
      "<|endoftext|>The lake is a popular destination for tourists and locals alike.\n",
      "\n",
      "The lake is a popular destination for tourists and locals\n",
      "discrim jt.Var([0.84808946], dtype=float32)\n",
      "Discrim Loss:  jt.Var([0.84808946], dtype=float32)\n"
     ]
    },
    {
     "name": "stderr",
     "output_type": "stream",
     "text": [
      "\u001b[38;5;2m[i 1221 14:54:02.475817 00 2348885072.py:137] \n",
      "=== display_memory_info ===\n",
      " total_cpu_ram:    32GB total_device_ram:     0 B\n",
      " hold_vars: 1249 lived_vars: 84018 lived_ops: 76641\n",
      " name: sfrl is_device: 0 used: 1.776GB(66.3%) unused: 925.9MB(33.7%) total:  2.68GB\n",
      " name: temp is_device: 0 used:     0 B(nan%) unused:     0 B(nan%) total:     0 B\n",
      " cpu&gpu:  2.68GB gpu:     0 B cpu:  2.68GB\n",
      " free: cpu(107.7MB) gpu(    0 B)\n",
      "===========================\n",
      "\u001b[m\n"
     ]
    },
    {
     "name": "stdout",
     "output_type": "stream",
     "text": [
      "discrim jt.Var([0.8480886], dtype=float32)\n",
      "Discrim Loss:  jt.Var([0.8480886], dtype=float32)\n",
      "discrim jt.Var([0.8480872], dtype=float32)\n",
      "Discrim Loss:  jt.Var([0.8480872], dtype=float32)\n"
     ]
    },
    {
     "name": "stderr",
     "output_type": "stream",
     "text": [
      "\u001b[38;5;2m[i 1221 14:54:03.278827 00 2348885072.py:137] \n",
      "=== display_memory_info ===\n",
      " total_cpu_ram:    32GB total_device_ram:     0 B\n",
      " hold_vars: 1250 lived_vars: 84498 lived_ops: 77119\n",
      " name: sfrl is_device: 0 used: 1.776GB(66.3%) unused: 925.7MB(33.7%) total:  2.68GB\n",
      " name: temp is_device: 0 used:     0 B(nan%) unused:     0 B(nan%) total:     0 B\n",
      " cpu&gpu:  2.68GB gpu:     0 B cpu:  2.68GB\n",
      " free: cpu(107.3MB) gpu(    0 B)\n",
      "===========================\n",
      "\u001b[m\n",
      " 77%|#######6  | 23/30 [01:45<00:33,  4.85s/it]"
     ]
    },
    {
     "name": "stdout",
     "output_type": "stream",
     "text": [
      "true discrim loss jt.Var([0.84805804], dtype=float32)\n",
      "<|endoftext|>The lake is a popular destination for tourists and locals alike.\n",
      "\n",
      "The lake is a popular destination for tourists and locals alike\n",
      "discrim jt.Var([0.79756486], dtype=float32)\n",
      "Discrim Loss:  jt.Var([0.79756486], dtype=float32)\n"
     ]
    },
    {
     "name": "stderr",
     "output_type": "stream",
     "text": [
      "\u001b[38;5;2m[i 1221 14:54:06.544358 00 2348885072.py:137] \n",
      "=== display_memory_info ===\n",
      " total_cpu_ram:    32GB total_device_ram:     0 B\n",
      " hold_vars: 1629 lived_vars: 91762 lived_ops: 83863\n",
      " name: sfrl is_device: 0 used: 1.856GB(69.3%) unused: 843.4MB(30.7%) total:  2.68GB\n",
      " name: temp is_device: 0 used:     0 B(nan%) unused:     0 B(nan%) total:     0 B\n",
      " cpu&gpu:  2.68GB gpu:     0 B cpu:  2.68GB\n",
      " free: cpu(98.86MB) gpu(    0 B)\n",
      "===========================\n",
      "\u001b[m\n",
      "\u001b[38;5;2m[i 1221 14:54:07.344229 00 2348885072.py:137] \n",
      "=== display_memory_info ===\n",
      " total_cpu_ram:    32GB total_device_ram:     0 B\n",
      " hold_vars: 1630 lived_vars: 92242 lived_ops: 84341\n",
      " name: sfrl is_device: 0 used: 1.856GB(69.3%) unused:   843MB(30.7%) total:  2.68GB\n",
      " name: temp is_device: 0 used:     0 B(nan%) unused:     0 B(nan%) total:     0 B\n",
      " cpu&gpu:  2.68GB gpu:     0 B cpu:  2.68GB\n",
      " free: cpu(100.4MB) gpu(    0 B)\n",
      "===========================\n",
      "\u001b[m\n"
     ]
    },
    {
     "name": "stdout",
     "output_type": "stream",
     "text": [
      "discrim jt.Var([0.7975637], dtype=float32)\n",
      "Discrim Loss:  jt.Var([0.7975637], dtype=float32)\n",
      "discrim jt.Var([0.797564], dtype=float32)\n",
      "Discrim Loss:  jt.Var([0.797564], dtype=float32)\n"
     ]
    },
    {
     "name": "stderr",
     "output_type": "stream",
     "text": [
      "\u001b[38;5;2m[i 1221 14:54:08.143659 00 2348885072.py:137] \n",
      "=== display_memory_info ===\n",
      " total_cpu_ram:    32GB total_device_ram:     0 B\n",
      " hold_vars: 1631 lived_vars: 92722 lived_ops: 84819\n",
      " name: sfrl is_device: 0 used: 1.857GB(69.3%) unused: 842.8MB(30.7%) total:  2.68GB\n",
      " name: temp is_device: 0 used:     0 B(nan%) unused:     0 B(nan%) total:     0 B\n",
      " cpu&gpu:  2.68GB gpu:     0 B cpu:  2.68GB\n",
      " free: cpu(95.84MB) gpu(    0 B)\n",
      "===========================\n",
      "\u001b[m\n"
     ]
    },
    {
     "name": "stdout",
     "output_type": "stream",
     "text": [
      "true discrim loss "
     ]
    },
    {
     "name": "stderr",
     "output_type": "stream",
     "text": [
      " 80%|########  | 24/30 [01:50<00:29,  4.86s/it]"
     ]
    },
    {
     "name": "stdout",
     "output_type": "stream",
     "text": [
      "jt.Var([0.7975985], dtype=float32)\n",
      "<|endoftext|>The lake is a popular destination for tourists and locals alike.\n",
      "\n",
      "The lake is a popular destination for tourists and locals alike.\n",
      "discrim jt.Var([0.7873811], dtype=float32)\n",
      "Discrim Loss:  jt.Var([0.7873811], dtype=float32)\n"
     ]
    },
    {
     "name": "stderr",
     "output_type": "stream",
     "text": [
      "\u001b[38;5;2m[i 1221 14:54:11.738926 00 2348885072.py:137] \n",
      "=== display_memory_info ===\n",
      " total_cpu_ram:    32GB total_device_ram:     0 B\n",
      " hold_vars: 2010 lived_vars: 99986 lived_ops: 91563\n",
      " name: sfrl is_device: 0 used:  1.94GB(70.9%) unused: 817.3MB(29.1%) total: 2.738GB\n",
      " name: temp is_device: 0 used:     0 B(nan%) unused:     0 B(nan%) total:     0 B\n",
      " cpu&gpu: 2.738GB gpu:     0 B cpu: 2.738GB\n",
      " free: cpu(86.08MB) gpu(    0 B)\n",
      "===========================\n",
      "\u001b[m\n",
      "\u001b[38;5;2m[i 1221 14:54:12.536758 00 2348885072.py:137] \n",
      "=== display_memory_info ===\n",
      " total_cpu_ram:    32GB total_device_ram:     0 B\n",
      " hold_vars: 2011 lived_vars: 100466 lived_ops: 92041\n",
      " name: sfrl is_device: 0 used: 1.941GB(70.8%) unused: 819.9MB(29.2%) total: 2.741GB\n",
      " name: temp is_device: 0 used:     0 B(nan%) unused:     0 B(nan%) total:     0 B\n",
      " cpu&gpu: 2.741GB gpu:     0 B cpu: 2.741GB\n",
      " free: cpu(87.09MB) gpu(    0 B)\n",
      "===========================\n",
      "\u001b[m\n"
     ]
    },
    {
     "name": "stdout",
     "output_type": "stream",
     "text": [
      "discrim jt.Var([0.78738123], dtype=float32)\n",
      "Discrim Loss:  jt.Var([0.78738123], dtype=float32)\n",
      "discrim jt.Var([0.78738153], dtype=float32)\n",
      "Discrim Loss:  jt.Var([0.78738153], dtype=float32)\n"
     ]
    },
    {
     "name": "stderr",
     "output_type": "stream",
     "text": [
      "\u001b[38;5;2m[i 1221 14:54:13.336375 00 2348885072.py:137] \n",
      "=== display_memory_info ===\n",
      " total_cpu_ram:    32GB total_device_ram:     0 B\n",
      " hold_vars: 2012 lived_vars: 100946 lived_ops: 92519\n",
      " name: sfrl is_device: 0 used: 1.941GB(70.8%) unused: 819.7MB(29.2%) total: 2.741GB\n",
      " name: temp is_device: 0 used:     0 B(nan%) unused:     0 B(nan%) total:     0 B\n",
      " cpu&gpu: 2.741GB gpu:     0 B cpu: 2.741GB\n",
      " free: cpu(83.88MB) gpu(    0 B)\n",
      "===========================\n",
      "\u001b[m\n",
      " 83%|########3 | 25/30 [01:55<00:24,  4.96s/it]"
     ]
    },
    {
     "name": "stdout",
     "output_type": "stream",
     "text": [
      "true discrim loss jt.Var([0.7873393], dtype=float32)\n",
      "<|endoftext|>The lake is a popular destination for tourists and locals alike.\n",
      "\n",
      "The lake is a popular destination for tourists and locals alike.\n",
      "\n",
      "discrim jt.Var([0.8133638], dtype=float32)\n",
      "Discrim Loss:  jt.Var([0.8133638], dtype=float32)\n"
     ]
    },
    {
     "name": "stderr",
     "output_type": "stream",
     "text": [
      "\u001b[38;5;2m[i 1221 14:54:22.657208 00 2348885072.py:137] \n",
      "=== display_memory_info ===\n",
      " total_cpu_ram:    32GB total_device_ram:     0 B\n",
      " hold_vars: 2391 lived_vars: 108204 lived_ops: 99253\n",
      " name: sfrl is_device: 0 used: 2.028GB(72%) unused: 807.2MB(28%) total: 2.816GB\n",
      " name: temp is_device: 0 used:     0 B(nan%) unused:     0 B(nan%) total:     0 B\n",
      " cpu&gpu: 2.816GB gpu:     0 B cpu: 2.816GB\n",
      " free: cpu(  124MB) gpu(    0 B)\n",
      "===========================\n",
      "\u001b[m\n"
     ]
    },
    {
     "name": "stdout",
     "output_type": "stream",
     "text": [
      "discrim jt.Var([0.81336284], dtype=float32)\n",
      "Discrim Loss:  jt.Var([0.81336284], dtype=float32)\n"
     ]
    },
    {
     "name": "stderr",
     "output_type": "stream",
     "text": [
      "\u001b[38;5;2m[i 1221 14:54:23.522574 00 2348885072.py:137] \n",
      "=== display_memory_info ===\n",
      " total_cpu_ram:    32GB total_device_ram:     0 B\n",
      " hold_vars: 2392 lived_vars: 108684 lived_ops: 99731\n",
      " name: sfrl is_device: 0 used: 2.029GB(71.8%) unused: 815.8MB(28.2%) total: 2.825GB\n",
      " name: temp is_device: 0 used:     0 B(nan%) unused:     0 B(nan%) total:     0 B\n",
      " cpu&gpu: 2.825GB gpu:     0 B cpu: 2.825GB\n",
      " free: cpu(  119MB) gpu(    0 B)\n",
      "===========================\n",
      "\u001b[m\n"
     ]
    },
    {
     "name": "stdout",
     "output_type": "stream",
     "text": [
      "discrim jt.Var([0.81336445], dtype=float32)\n",
      "Discrim Loss:  jt.Var([0.81336445], dtype=float32)\n"
     ]
    },
    {
     "name": "stderr",
     "output_type": "stream",
     "text": [
      "\u001b[38;5;2m[i 1221 14:54:29.503803 00 2348885072.py:137] \n",
      "=== display_memory_info ===\n",
      " total_cpu_ram:    32GB total_device_ram:     0 B\n",
      " hold_vars: 2393 lived_vars: 109142 lived_ops: 100131\n",
      " name: sfrl is_device: 0 used: 2.039GB(72.1%) unused: 808.8MB(27.9%) total: 2.829GB\n",
      " name: temp is_device: 0 used:     0 B(nan%) unused:     0 B(nan%) total:     0 B\n",
      " cpu&gpu: 2.829GB gpu:     0 B cpu: 2.829GB\n",
      " free: cpu(152.1MB) gpu(    0 B)\n",
      "===========================\n",
      "\u001b[m\n",
      " 87%|########6 | 26/30 [02:11<00:33,  8.36s/it]"
     ]
    },
    {
     "name": "stdout",
     "output_type": "stream",
     "text": [
      "true discrim loss jt.Var([0.81335175], dtype=float32)\n",
      "<|endoftext|>The lake is a popular destination for tourists and locals alike.\n",
      "\n",
      "The lake is a popular destination for tourists and locals alike.\n",
      "\n",
      "\n",
      "discrim jt.Var([0.8604557], dtype=float32)\n",
      "Discrim Loss:  jt.Var([0.8604557], dtype=float32)\n"
     ]
    },
    {
     "name": "stderr",
     "output_type": "stream",
     "text": [
      "\u001b[38;5;2m[i 1221 14:54:33.987203 00 2348885072.py:137] \n",
      "=== display_memory_info ===\n",
      " total_cpu_ram:    32GB total_device_ram:     0 B\n",
      " hold_vars: 930 lived_vars: 94525 lived_ops: 85693\n",
      " name: sfrl is_device: 0 used: 1.848GB(62.8%) unused: 1.097GB(37.2%) total: 2.945GB\n",
      " name: temp is_device: 0 used:     0 B(nan%) unused:     0 B(nan%) total:     0 B\n",
      " cpu&gpu: 2.945GB gpu:     0 B cpu: 2.945GB\n",
      " free: cpu(90.38MB) gpu(    0 B)\n",
      "===========================\n",
      "\u001b[m\n",
      "\u001b[38;5;2m[i 1221 14:54:34.787474 00 2348885072.py:137] \n",
      "=== display_memory_info ===\n",
      " total_cpu_ram:    32GB total_device_ram:     0 B\n",
      " hold_vars: 931 lived_vars: 95005 lived_ops: 86171\n",
      " name: sfrl is_device: 0 used: 1.849GB(63.6%) unused: 1.058GB(36.4%) total: 2.907GB\n",
      " name: temp is_device: 0 used:     0 B(nan%) unused:     0 B(nan%) total:     0 B\n",
      " cpu&gpu: 2.907GB gpu:     0 B cpu: 2.907GB\n",
      " free: cpu(89.33MB) gpu(    0 B)\n",
      "===========================\n",
      "\u001b[m\n"
     ]
    },
    {
     "name": "stdout",
     "output_type": "stream",
     "text": [
      "discrim jt.Var([0.86045283], dtype=float32)\n",
      "Discrim Loss:  jt.Var([0.86045283], dtype=float32)\n",
      "discrim jt.Var([0.86045253], dtype=float32)\n",
      "Discrim Loss:  jt.Var([0.86045253], dtype=float32)\n"
     ]
    },
    {
     "name": "stderr",
     "output_type": "stream",
     "text": [
      "\u001b[38;5;2m[i 1221 14:54:35.591162 00 2348885072.py:137] \n",
      "=== display_memory_info ===\n",
      " total_cpu_ram:    32GB total_device_ram:     0 B\n",
      " hold_vars: 932 lived_vars: 95485 lived_ops: 86649\n",
      " name: sfrl is_device: 0 used: 1.849GB(63.7%) unused: 1.053GB(36.3%) total: 2.902GB\n",
      " name: temp is_device: 0 used:     0 B(nan%) unused:     0 B(nan%) total:     0 B\n",
      " cpu&gpu: 2.902GB gpu:     0 B cpu: 2.902GB\n",
      " free: cpu(88.81MB) gpu(    0 B)\n",
      "===========================\n",
      "\u001b[m\n",
      " 90%|######### | 27/30 [02:17<00:22,  7.64s/it]\u001b[38;5;2m[i 1221 14:54:38.527070 00 2348885072.py:137] \n",
      "=== display_memory_info ===\n",
      " total_cpu_ram:    32GB total_device_ram:     0 B\n",
      " hold_vars: 1263 lived_vars: 99575 lived_ops: 90330\n",
      " name: sfrl is_device: 0 used: 1.883GB(64.9%) unused:  1.02GB(35.1%) total: 2.902GB\n",
      " name: temp is_device: 0 used:     0 B(nan%) unused:     0 B(nan%) total:     0 B\n",
      " cpu&gpu: 2.902GB gpu:     0 B cpu: 2.902GB\n",
      " free: cpu(85.73MB) gpu(    0 B)\n",
      "===========================\n",
      "\u001b[m\n"
     ]
    },
    {
     "name": "stdout",
     "output_type": "stream",
     "text": [
      "true discrim loss jt.Var([0.860455], dtype=float32)\n",
      "<|endoftext|>The lake is a popular destination for tourists and locals alike.\n",
      "\n",
      "The lake is a popular destination for tourists and locals alike.\n",
      "\n",
      "The\n",
      "discrim jt.Var([0.9023263], dtype=float32)\n",
      "Discrim Loss:  jt.Var([0.9023263], dtype=float32)\n"
     ]
    },
    {
     "name": "stderr",
     "output_type": "stream",
     "text": [
      "\u001b[38;5;2m[i 1221 14:54:39.328673 00 2348885072.py:137] \n",
      "=== display_memory_info ===\n",
      " total_cpu_ram:    32GB total_device_ram:     0 B\n",
      " hold_vars: 1264 lived_vars: 100055 lived_ops: 90808\n",
      " name: sfrl is_device: 0 used: 1.883GB(65.3%) unused: 1.001GB(34.7%) total: 2.884GB\n",
      " name: temp is_device: 0 used:     0 B(nan%) unused:     0 B(nan%) total:     0 B\n",
      " cpu&gpu: 2.884GB gpu:     0 B cpu: 2.884GB\n",
      " free: cpu(86.25MB) gpu(    0 B)\n",
      "===========================\n",
      "\u001b[m\n"
     ]
    },
    {
     "name": "stdout",
     "output_type": "stream",
     "text": [
      "discrim jt.Var([0.9023261], dtype=float32)\n",
      "Discrim Loss:  jt.Var([0.9023261], dtype=float32)\n",
      "discrim jt.Var([0.90232646], dtype=float32)\n",
      "Discrim Loss:  jt.Var([0.90232646], dtype=float32)\n"
     ]
    },
    {
     "name": "stderr",
     "output_type": "stream",
     "text": [
      "\u001b[38;5;2m[i 1221 14:54:40.127520 00 2348885072.py:137] \n",
      "=== display_memory_info ===\n",
      " total_cpu_ram:    32GB total_device_ram:     0 B\n",
      " hold_vars: 1265 lived_vars: 100535 lived_ops: 91286\n",
      " name: sfrl is_device: 0 used: 1.883GB(65.3%) unused:     1GB(34.7%) total: 2.884GB\n",
      " name: temp is_device: 0 used:     0 B(nan%) unused:     0 B(nan%) total:     0 B\n",
      " cpu&gpu: 2.884GB gpu:     0 B cpu: 2.884GB\n",
      " free: cpu(85.41MB) gpu(    0 B)\n",
      "===========================\n",
      "\u001b[m\n"
     ]
    },
    {
     "name": "stdout",
     "output_type": "stream",
     "text": [
      "true discrim loss "
     ]
    },
    {
     "name": "stderr",
     "output_type": "stream",
     "text": [
      " 93%|#########3| 28/30 [02:22<00:13,  6.71s/it]"
     ]
    },
    {
     "name": "stdout",
     "output_type": "stream",
     "text": [
      "jt.Var([0.90235794], dtype=float32)\n",
      "<|endoftext|>The lake is a popular destination for tourists and locals alike.\n",
      "\n",
      "The lake is a popular destination for tourists and locals alike.\n",
      "\n",
      "The lake\n"
     ]
    },
    {
     "name": "stderr",
     "output_type": "stream",
     "text": [
      "\u001b[38;5;2m[i 1221 14:54:45.600292 00 2348885072.py:137] \n",
      "=== display_memory_info ===\n",
      " total_cpu_ram:    32GB total_device_ram:     0 B\n",
      " hold_vars: 1644 lived_vars: 107793 lived_ops: 98020\n",
      " name: sfrl is_device: 0 used:  1.98GB(68.7%) unused: 925.3MB(31.3%) total: 2.884GB\n",
      " name: temp is_device: 0 used:     0 B(nan%) unused:     0 B(nan%) total:     0 B\n",
      " cpu&gpu: 2.884GB gpu:     0 B cpu: 2.884GB\n",
      " free: cpu(123.4MB) gpu(    0 B)\n",
      "===========================\n",
      "\u001b[m\n"
     ]
    },
    {
     "name": "stdout",
     "output_type": "stream",
     "text": [
      "discrim jt.Var([0.9358879], dtype=float32)\n",
      "Discrim Loss:  jt.Var([0.9358879], dtype=float32)\n"
     ]
    },
    {
     "name": "stderr",
     "output_type": "stream",
     "text": [
      "\u001b[38;5;2m[i 1221 14:54:46.516303 00 2348885072.py:137] \n",
      "=== display_memory_info ===\n",
      " total_cpu_ram:    32GB total_device_ram:     0 B\n",
      " hold_vars: 1645 lived_vars: 108273 lived_ops: 98498\n",
      " name: sfrl is_device: 0 used: 1.981GB(68.7%) unused: 924.9MB(31.3%) total: 2.884GB\n",
      " name: temp is_device: 0 used:     0 B(nan%) unused:     0 B(nan%) total:     0 B\n",
      " cpu&gpu: 2.884GB gpu:     0 B cpu: 2.884GB\n",
      " free: cpu(119.6MB) gpu(    0 B)\n",
      "===========================\n",
      "\u001b[m\n"
     ]
    },
    {
     "name": "stdout",
     "output_type": "stream",
     "text": [
      "discrim jt.Var([0.93588775], dtype=float32)\n",
      "Discrim Loss:  jt.Var([0.93588775], dtype=float32)\n",
      "discrim jt.Var([0.9358871], dtype=float32)\n",
      "Discrim Loss:  jt.Var([0.9358871], dtype=float32)\n"
     ]
    },
    {
     "name": "stderr",
     "output_type": "stream",
     "text": [
      "\u001b[38;5;2m[i 1221 14:54:47.317475 00 2348885072.py:137] \n",
      "=== display_memory_info ===\n",
      " total_cpu_ram:    32GB total_device_ram:     0 B\n",
      " hold_vars: 1646 lived_vars: 108753 lived_ops: 98976\n",
      " name: sfrl is_device: 0 used: 1.981GB(68.7%) unused: 924.7MB(31.3%) total: 2.884GB\n",
      " name: temp is_device: 0 used:     0 B(nan%) unused:     0 B(nan%) total:     0 B\n",
      " cpu&gpu: 2.884GB gpu:     0 B cpu: 2.884GB\n",
      " free: cpu(119.3MB) gpu(    0 B)\n",
      "===========================\n",
      "\u001b[m\n",
      " 97%|#########6| 29/30 [02:29<00:06,  6.85s/it]"
     ]
    },
    {
     "name": "stdout",
     "output_type": "stream",
     "text": [
      "true discrim loss jt.Var([0.93591034], dtype=float32)\n",
      "<|endoftext|>The lake is a popular destination for tourists and locals alike.\n",
      "\n",
      "The lake is a popular destination for tourists and locals alike.\n",
      "\n",
      "The lake is\n"
     ]
    },
    {
     "name": "stderr",
     "output_type": "stream",
     "text": [
      "\u001b[38;5;2m[i 1221 14:54:50.942017 00 2348885072.py:137] \n",
      "=== display_memory_info ===\n",
      " total_cpu_ram:    32GB total_device_ram:     0 B\n",
      " hold_vars: 2025 lived_vars: 115905 lived_ops: 105079\n",
      " name: sfrl is_device: 0 used: 2.153GB(72.5%) unused: 835.1MB(27.5%) total: 2.969GB\n",
      " name: temp is_device: 0 used:     0 B(nan%) unused:     0 B(nan%) total:     0 B\n",
      " cpu&gpu: 2.969GB gpu:     0 B cpu: 2.969GB\n",
      " free: cpu(86.45MB) gpu(    0 B)\n",
      "===========================\n",
      "\u001b[m\n"
     ]
    },
    {
     "name": "stdout",
     "output_type": "stream",
     "text": [
      "discrim jt.Var([0.932066], dtype=float32)\n",
      "Discrim Loss:  jt.Var([0.932066], dtype=float32)\n"
     ]
    },
    {
     "name": "stderr",
     "output_type": "stream",
     "text": [
      "\u001b[38;5;2m[i 1221 14:54:51.752292 00 2348885072.py:137] \n",
      "=== display_memory_info ===\n",
      " total_cpu_ram:    32GB total_device_ram:     0 B\n",
      " hold_vars: 2026 lived_vars: 116338 lived_ops: 105367\n",
      " name: sfrl is_device: 0 used: 2.171GB(72.7%) unused: 836.4MB(27.3%) total: 2.987GB\n",
      " name: temp is_device: 0 used:     0 B(nan%) unused:     0 B(nan%) total:     0 B\n",
      " cpu&gpu: 2.987GB gpu:     0 B cpu: 2.987GB\n",
      " free: cpu(78.75MB) gpu(    0 B)\n",
      "===========================\n",
      "\u001b[m\n"
     ]
    },
    {
     "name": "stdout",
     "output_type": "stream",
     "text": [
      "discrim jt.Var([0.9320663], dtype=float32)\n",
      "Discrim Loss:  jt.Var([0.9320663], dtype=float32)\n"
     ]
    },
    {
     "name": "stderr",
     "output_type": "stream",
     "text": [
      "\u001b[38;5;2m[i 1221 14:54:52.560006 00 2348885072.py:137] \n",
      "=== display_memory_info ===\n",
      " total_cpu_ram:    32GB total_device_ram:     0 B\n",
      " hold_vars: 2027 lived_vars: 116771 lived_ops: 105655\n",
      " name: sfrl is_device: 0 used: 2.188GB(72.8%) unused: 836.9MB(27.2%) total: 3.005GB\n",
      " name: temp is_device: 0 used:     0 B(nan%) unused:     0 B(nan%) total:     0 B\n",
      " cpu&gpu: 3.005GB gpu:     0 B cpu: 3.005GB\n",
      " free: cpu(53.91MB) gpu(    0 B)\n",
      "===========================\n",
      "\u001b[m\n"
     ]
    },
    {
     "name": "stdout",
     "output_type": "stream",
     "text": [
      "discrim jt.Var([0.9320657], dtype=float32)\n",
      "Discrim Loss:  jt.Var([0.9320657], dtype=float32)\n"
     ]
    },
    {
     "name": "stderr",
     "output_type": "stream",
     "text": [
      "100%|##########| 30/30 [02:34<00:00,  5.15s/it]"
     ]
    },
    {
     "name": "stdout",
     "output_type": "stream",
     "text": [
      "true discrim loss jt.Var([0.93205595], dtype=float32)\n",
      "<|endoftext|>The lake is a popular destination for tourists and locals alike.\n",
      "\n",
      "The lake is a popular destination for tourists and locals alike.\n",
      "\n",
      "The lake is a\n",
      "================================================================================\n",
      "======================================== Whole sentence (Original)========================================\n",
      "<|endoftext|>The lake is a popular destination for tourists and locals alike.\n",
      "\n",
      "The lake is a popular destination for tourists and locals alike.\n",
      "\n",
      "The lake is a\n",
      "================================================================================\n",
      "======================================== Whole sentence (Perturbed)========================================\n",
      "<|endoftext|>The lake is a popular destination for tourists and locals alike.\n",
      "\n",
      "The lake is a popular destination for tourists and locals alike.\n",
      "\n",
      "The lake is a\n",
      "================================================================================\n"
     ]
    },
    {
     "name": "stderr",
     "output_type": "stream",
     "text": [
      "\n"
     ]
    }
   ],
   "source": [
    "collect_gen = dict()\n",
    "current_index = 0 \n",
    "for out in seq:\n",
    "\n",
    "    text = enc.decode(out)\n",
    "    print(\"=\" * 40 + \" Prefix of sentence \" + \"=\" * 40)\n",
    "    print(text)\n",
    "    print(\"=\" * 80)\n",
    "\n",
    "    out1, out_perturb, discrim_loss_list, loss_in_time_list = latent_perturb(model=model, args=args, context=out)\n",
    "\n",
    "    text_whole = enc.decode(out1.tolist()[0])\n",
    "\n",
    "    print(\"=\" * 80)\n",
    "    print(\"=\" * 40 + \" Whole sentence (Original)\" + \"=\" * 40)\n",
    "    print(text_whole)\n",
    "    print(\"=\" * 80)\n",
    "\n",
    "    out_perturb_copy = out_perturb\n",
    "\n",
    "    generated = 0\n",
    "    # 干扰后的结果\n",
    "    for out_perturb in out_perturb_copy:\n",
    "        try:\n",
    "            print(\"=\" * 40 + \" Whole sentence (Perturbed)\" + \"=\" * 40)\n",
    "            text_whole = enc.decode(out_perturb.tolist()[0])\n",
    "            print(text_whole)\n",
    "            print(\"=\" * 80)\n",
    "        except:\n",
    "            pass\n",
    "        collect_gen[current_index] = [out, out_perturb, out1]\n",
    "        # Save the prefix, perturbed seq, original seq for each index\n",
    "\n",
    "        current_index = current_index + 1"
   ]
  },
  {
   "cell_type": "code",
   "execution_count": null,
   "metadata": {},
   "outputs": [],
   "source": []
  }
 ],
 "metadata": {
  "kernelspec": {
   "display_name": "Python 3.8.15 ('pplm')",
   "language": "python",
   "name": "python3"
  },
  "language_info": {
   "codemirror_mode": {
    "name": "ipython",
    "version": 3
   },
   "file_extension": ".py",
   "mimetype": "text/x-python",
   "name": "python",
   "nbconvert_exporter": "python",
   "pygments_lexer": "ipython3",
   "version": "3.8.15"
  },
  "orig_nbformat": 4,
  "vscode": {
   "interpreter": {
    "hash": "54f0cfbc081d2dbd9b32bca22e677f6cddd072e682c5c874abb322034cb62c09"
   }
  }
 },
 "nbformat": 4,
 "nbformat_minor": 2
}
