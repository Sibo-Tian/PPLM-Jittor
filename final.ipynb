{
 "cells": [
  {
   "cell_type": "code",
   "execution_count": 2,
   "metadata": {},
   "outputs": [
    {
     "name": "stderr",
     "output_type": "stream",
     "text": [
      "\u001b[38;5;2m[i 1223 21:47:11.800440 00 log.cc:351] Load log_sync: 1\u001b[m\n",
      "\u001b[38;5;2m[i 1223 21:47:11.908351 00 compiler.py:955] Jittor(1.3.5.44) src: /opt/miniconda3/envs/pplm/lib/python3.8/site-packages/jittor\u001b[m\n",
      "\u001b[38;5;2m[i 1223 21:47:11.927946 00 compiler.py:956] clang at /usr/bin/clang++(14.0.0)\u001b[m\n",
      "\u001b[38;5;2m[i 1223 21:47:11.929007 00 compiler.py:957] cache_path: /Users/stian/.cache/jittor/jt1.3.5/clang14.0.0/py3.8.15/macOS-13.0.1-ax30/AppleM1Pro/default\u001b[m\n",
      "\u001b[38;5;2m[i 1223 21:47:12.105257 00 __init__.py:227] Total mem: 32.00GB, using 10 procs for compiling.\u001b[m\n",
      "\u001b[38;5;2m[i 1223 21:47:12.230075 00 jit_compiler.cc:28] Load cc_path: /usr/bin/clang++\u001b[m\n",
      "\u001b[38;5;2m[i 1223 21:47:12.243853 00 compile_extern.py:519] mpicc not found, distribution disabled.\u001b[m\n"
     ]
    }
   ],
   "source": [
    "import argparse\n",
    "from tqdm import trange\n",
    "from operator import add\n",
    "\n",
    "import torch\n",
    "import transformers\n",
    "\n",
    "import jittor as jt\n",
    "from jittor import nn\n",
    "import gpt2\n",
    "from style_utils import top_k_logits\n",
    "\n",
    "from scores import dist_n"
   ]
  },
  {
   "cell_type": "code",
   "execution_count": 3,
   "metadata": {},
   "outputs": [],
   "source": [
    "class myClassificationHead(jt.nn.Module):\n",
    "    def __init__(self, class_size=5, embed_size=2048):\n",
    "        super().__init__()\n",
    "        self.class_size = class_size\n",
    "        self.embed_size = embed_size\n",
    "        self.mlp = jt.nn.Linear(embed_size, class_size)\n",
    "    def execute(self, hidden_state):\n",
    "        lm_logits = self.mlp(hidden_state)\n",
    "        return lm_logits\n",
    "\n",
    "class myDiscriminator2mean(jt.nn.Module):\n",
    "    def __init__(self, class_size=5, embed_size=1024, head=None, model=None):\n",
    "        super().__init__()\n",
    "        if head == None:\n",
    "            self.classifierhead = myClassificationHead(class_size=class_size, embed_size=embed_size)\n",
    "        else:\n",
    "            self.classifierhead = head\n",
    "        self.model = model\n",
    "        self.embed_size = embed_size\n",
    "    \n",
    "    def get_classifier(self):\n",
    "        return self.classifierhead\n",
    "\n",
    "    def train_custom(self):\n",
    "        for param in self.model.parameters():\n",
    "            param.requires_grad = False\n",
    "        pass\n",
    "        self.classifierhead.train()\n",
    "\n",
    "    def execute(self, x):\n",
    "        mask_src = 1 - x.equal(0).unsqueeze(1).detach()\n",
    "        mask_src = mask_src.repeat(1, self.embed_size, 1) #batch_size, 1024, length (repeat each sentence for 1024 times)\n",
    "\n",
    "        x = x.tolist()\n",
    "        x = jt.array(x,dtype=torch.long)\n",
    "        output_dict = self.model(x, output_hidden_states=True)\n",
    "        hidden = output_dict.hidden_states[-1]\n",
    "        # x = model.forward_embed(x)\n",
    "        # hidden, x = model.forward_transformer_embed(x)\n",
    "        #  Hidden has shape batch_size x length x embed-dim\n",
    "        hidden = hidden.tolist()\n",
    "        hidden = jt.array(hidden)\n",
    "\n",
    "        hidden = hidden.permute(0, 2, 1)\n",
    "        _, _, batch_length = hidden.shape\n",
    "        hidden = hidden * mask_src  # / torch.sum(mask_src, dim=-1).unsqueeze(2).repeat(1, 1, batch_length)\n",
    "        #\n",
    "        hidden = hidden.permute(0, 2, 1)\n",
    "        x =  jt.sum(hidden, dim=1)/(jt.sum(mask_src, dim=-1).detach() + 1e-10)\n",
    "        x = self.classifierhead(x)\n",
    "        x = jt.nn.log_softmax(x, dim=-1)\n",
    "        return x"
   ]
  },
  {
   "cell_type": "code",
   "execution_count": 4,
   "metadata": {},
   "outputs": [],
   "source": [
    "SmallConst = 1e-15\n",
    "copy_model = transformers.GPT2LMHeadModel.from_pretrained('gpt2-medium')\n",
    "enc = transformers.GPT2Tokenizer.from_pretrained('gpt2-medium')\n",
    "config = gpt2.GPT2Config()\n",
    "m = gpt2.GPT2Model(config)\n",
    "m.load_state_dict(copy_model.transformer.state_dict())\n",
    "l = jt.nn.Linear(config.n_embd, config.vocab_size, bias=False)\n",
    "l.load_state_dict(copy_model.lm_head.state_dict())\n",
    "model = gpt2.GPT2LMHeadModel(config, m, l)"
   ]
  },
  {
   "cell_type": "code",
   "execution_count": 5,
   "metadata": {},
   "outputs": [],
   "source": [
    "# classifier = myClassificationHead(class_size=5, embed_size=1024)\n",
    "# classifier.load_state_dict(torch.load(\"discrim_models/sentiment_classifierhead.pt\",map_location=torch.device('cpu')))\n",
    "# classifier.eval()\n",
    "# input_ids = jt.array([50256]+enc.encode('Hello guys')).astype(jt.int64).unsqueeze(dim=0)\n",
    "# prev = input_ids[:,-1:]\n",
    "\n",
    "# fuck=model(input_ids)\n",
    "# true_past = fuck.past_key_values\n",
    "# origin_prob = (fuck.logits)\n",
    "\n",
    "# fine = model(input_ids[:,:-1])\n",
    "# past = fine.past_key_values\n",
    "\n",
    "# args.loss_type=2\n",
    "# pertrubed,a,b,c = perturb_past(past=past, model=model, prev=prev, args=args, classifier=classifier, true_past=true_past, original_probs=origin_prob)"
   ]
  },
  {
   "cell_type": "code",
   "execution_count": 6,
   "metadata": {},
   "outputs": [
    {
     "data": {
      "text/plain": [
       "(jt.Var([1.        3.6055512 6.4031243], dtype=float32),\n",
       " jt.Var([1.        3.6055512 6.4031243], dtype=float32))"
      ]
     },
     "execution_count": 6,
     "metadata": {},
     "output_type": "execute_result"
    }
   ],
   "source": [
    "p=jt.arange(6).reshape((3,2))\n",
    "jt.norm(p)+SmallConst,jt.norm(p)"
   ]
  },
  {
   "cell_type": "code",
   "execution_count": 7,
   "metadata": {},
   "outputs": [],
   "source": [
    "def latent_perturb(model, args, context=None, sample=True):\n",
    "    #==================================================prepare the discriminator/bag of words==============================================\n",
    "    if args.discrim == 'clickbait':\n",
    "        classifier = myClassificationHead(class_size=2, embed_size=1024)\n",
    "        classifier.load_state_dict(torch.load(\"discrim_models/clickbait_classifierhead.pt\"))\n",
    "        classifier.eval()\n",
    "        args.label_class = 1 # clickbaity\n",
    "    #TODO map_location=torch.device('cpu')\n",
    "    elif args.discrim == 'sentiment':\n",
    "        classifier = myClassificationHead(class_size=5, embed_size=1024)\n",
    "        classifier.load_state_dict(torch.load(\"discrim_models/sentiment_classifierhead.pt\",map_location=torch.device('cpu')))\n",
    "        classifier.eval()\n",
    "        if args.label_class < 0:\n",
    "            raise Exception('Wrong class for sentiment, use --label-class 2 for *very positive*, 3 for *very negative*')\n",
    "        #args.label_class = 2 # very pos\n",
    "        #args.label_class = 3 # very neg\n",
    "\n",
    "    elif args.discrim == 'toxicity':\n",
    "        classifier = myClassificationHead(class_size=2, embed_size=1024)\n",
    "        classifier.load_state_dict(torch.load(\"discrim_models/toxicity_classifierhead.pt\"))\n",
    "        classifier.eval()\n",
    "        args.label_class = 0 # not toxic\n",
    "    else:\n",
    "        classifier = None\n",
    "    \n",
    "    # Get tokens for the list of positive words\n",
    "    def list_tokens(word_list):\n",
    "        token_list = []\n",
    "        for word in word_list:\n",
    "            token_list.append(enc.encode(\" \" + word))\n",
    "        return token_list\n",
    "\n",
    "    good_index = []\n",
    "    if args.bag_of_words:\n",
    "        bags_of_words = args.bag_of_words.split(\";\")\n",
    "        for wordlist in bags_of_words:\n",
    "            with open(wordlist, \"r\") as f:\n",
    "                words = f.read()\n",
    "                words = words.split('\\n')\n",
    "            good_index.append(list_tokens(words)) # good_index is the encode of the words\n",
    "        \n",
    "    if args.bag_of_words and classifier:\n",
    "        print('Both PPLM-BoW and PPLM-Discrim are on. This is not optimized.')\n",
    "        args.loss_type = 3\n",
    "\n",
    "    elif args.bag_of_words:\n",
    "        args.loss_type = 1\n",
    "        print('Using PPLM-BoW')\n",
    "\n",
    "    elif classifier is not None:\n",
    "        args.loss_type = 2\n",
    "        print('Using PPLM-Discrim')\n",
    "\n",
    "    else:\n",
    "        raise Exception('Supply either --bag-of-words (-B) or --discrim -D')\n",
    "    \n",
    "    #==================================================generate non perturbed words=======================================================\n",
    "    original, _, _ = sample_from_hidden(model=model, args=args, context=context,\n",
    "                                  perturb=False, good_index=good_index, classifier=classifier)\n",
    "\n",
    "    #==================================================generate perturbed words============================================================\n",
    "    perturbed_list = []\n",
    "    discrim_loss_list = []\n",
    "    loss_in_time_list = []\n",
    "\n",
    "    for i in range(args.num_samples): #num_samples : how many output words\n",
    "        perturbed, discrim_loss, loss_in_time = sample_from_hidden(model=model, args=args, context=context,\n",
    "                                                        perturb=True, good_index=good_index,\n",
    "                                                         classifier=classifier)\n",
    "        perturbed_list.append(perturbed)\n",
    "        if classifier is not None:\n",
    "            discrim_loss_list.append(discrim_loss)\n",
    "        loss_in_time_list.append(loss_in_time)\n",
    "    \n",
    "    return original, perturbed_list, discrim_loss_list, loss_in_time_list\n"
   ]
  },
  {
   "cell_type": "code",
   "execution_count": 8,
   "metadata": {},
   "outputs": [],
   "source": [
    "def sample_from_hidden(model, args, classifier, context=None, past=None,\n",
    "                       sample=False, perturb=True, good_index=None):\n",
    "    \n",
    "    output = jt.int64(context).unsqueeze(0) if context else None\n",
    "    #output: 2-d list, with jt.int64 element, the format required by gpt (input_id)\n",
    "    grad_norms = None\n",
    "    loss_in_time = []\n",
    "    #iteration for args.length times, the output sentence's length = original + args.length\n",
    "    for i in trange(args.length, ascii=True):\n",
    "\n",
    "        # Get past/probs for current output, except for last word\n",
    "        # Note that GPT takes 2 inputs: past + current-token\n",
    "        # Therefore, use everything from before current i/p token to generate relevant past\n",
    "\n",
    "        if past is None and output is not None:\n",
    "            #=======================devide the output(context) into 2 parts : past and one word for query=======================\n",
    "            prev = output[:, -1:]\n",
    "            res =  model(output[:, :-1])\n",
    "            past = res['past_key_values']\n",
    "\n",
    "            res = model(output)\n",
    "            original_probs, true_past = res['logits'], res['past_key_values']\n",
    "            true_hidden = res['hidden_states'][-1]\n",
    "\n",
    "        else:\n",
    "            res = model(output)\n",
    "            original_probs, true_past = res['logits'], res['past_key_values']\n",
    "            true_hidden = res['hidden_states'][-1]\n",
    "\n",
    "        #TODO\n",
    "        if i >= args.grad_length:\n",
    "            current_stepsize = args.stepsize * 0\n",
    "        else:\n",
    "            current_stepsize = args.stepsize\n",
    "\n",
    "        #not perturb\n",
    "        if not perturb or args.num_iterations == 0:\n",
    "            perturbed_past = past\n",
    "\n",
    "        #perturb\n",
    "        else:\n",
    "        #==============================================perturb the past==============================================\n",
    "            accumulated_hidden = true_hidden[:, :-1, :] #all hidden states except query word\n",
    "            accumulated_hidden = jt.sum(accumulated_hidden, dim=1)\n",
    "            perturbed_past, _, grad_norms, loss_per_iter = perturb_past(past, model, prev, args,\n",
    "                                                                        classifier=classifier,\n",
    "                                                                        good_index=good_index, stepsize=current_stepsize,\n",
    "                                                                        original_probs=original_probs,\n",
    "                                                                        true_past=true_past,\n",
    "                                                                        accumulated_hidden=accumulated_hidden,\n",
    "                                                                        grad_norms=grad_norms)\n",
    "            loss_in_time.append(loss_per_iter)\n",
    "        #==============================================use the query word to 'query' past=============================\n",
    "        res = model(prev, past_key_values=perturbed_past)\n",
    "        test_logits, past, hidden = res['logits'], res['past_key_values'], res['hidden_states'][-1]\n",
    "         \n",
    "        # test_logits = F.softmax(test_logits[:, -1, :], dim=-1)\n",
    "        # likelywords = torch.topk(test_logits, k=10, dim=-1)\n",
    "        # print(enc.decode(likelywords[1].tolist()[0]))\n",
    "\n",
    "        if classifier is not None:\n",
    "            ce_loss = jt.nn.CrossEntropyLoss()\n",
    "            predicted_sentiment = classifier(jt.mean(true_hidden, dim=1))\n",
    "            label = jt.int64([args.label_class])\n",
    "            true_discrim_loss = ce_loss(predicted_sentiment, label)\n",
    "            print(\"true discrim loss\", true_discrim_loss)\n",
    "        else:\n",
    "            true_discrim_loss = 0 \n",
    "\n",
    "        \n",
    "        logits = test_logits\n",
    "        logits = logits[:, -1, :] / args.temperature  # + SmallConst\n",
    "\n",
    "        log_probs = jt.nn.softmax(logits, dim=-1)\n",
    "\n",
    "        # Fuse the modified model and original model\n",
    "        if perturb:\n",
    "            original_probs = jt.nn.softmax(original_probs[:, -1, :], dim=-1)\n",
    "            gm_scale = args.fusion_gm_scale\n",
    "            log_probs = ((log_probs ** gm_scale) * (original_probs ** (1 - gm_scale)))  # + SmallConst\n",
    "            log_probs = top_k_logits(log_probs, k=args.top_k, probs=True)  # + SmallConst\n",
    "\n",
    "            if jt.sum(log_probs) <= 1:\n",
    "                log_probs = log_probs / jt.sum(log_probs)\n",
    "        \n",
    "        else:\n",
    "            # logits = top_k_logits(logits, k=args.top_k)  # + SmallConst\n",
    "            log_probs = jt.nn.softmax(logits, dim=-1)\n",
    "            \n",
    "        #==============================================from [50256] -> [1]==============================================\n",
    "        if sample:\n",
    "            # likelywords = jt.topk(log_probs, k=args.top_k, dim=-1)\n",
    "            # print(enc.decode(likelywords[1].tolist()[0]))\n",
    "            # print(likelywords[0].tolist())\n",
    "            # np.random.choice()\n",
    "            #TODO\n",
    "            \n",
    "            # prev = torch.multinomial(torch.tensor(log_probs.tolist()), num_samples=1)\n",
    "            prev = jt.array(prev.tolist())\n",
    "        else:\n",
    "            # prev = torch.multinomial(torch.tensor(log_probs.tolist()), num_samples=1)\n",
    "            prev = jt.array(prev.tolist())\n",
    "            # _, prev = jt.topk(log_probs, k=1, dim=-1)\n",
    "\n",
    "        output = prev if output is None else jt.concat((output, prev), dim=1)  # update output\n",
    "        print(enc.decode(output.tolist()[0]))\n",
    "\n",
    "    return output, true_discrim_loss, loss_in_time"
   ]
  },
  {
   "cell_type": "code",
   "execution_count": 9,
   "metadata": {},
   "outputs": [],
   "source": [
    "def perturb_past(past, model, prev, args, classifier, true_past, original_probs,stepsize=0.01, vocab_size=50257, \n",
    "                good_index=None,accumulated_hidden=None,  grad_norms=None):\n",
    "    #prev: 2d jt.array\n",
    "    #past: tuple(tuple(tuple(2d jt.array)))\n",
    "    #==============================================use prev to query past in model==============================================\n",
    "    gm_scale, kl_scale = args.fusion_gm_scale, args.fusion_kl_scale\n",
    "    one_hot_vectors = []\n",
    "    if good_index is not None:\n",
    "        for good_list in good_index:\n",
    "            good_list = list(filter(lambda x: len(x) <= 1, good_list))\n",
    "            good_list = jt.array(good_list)\n",
    "            num_good = good_list.shape[0]\n",
    "            one_hot_good = jt.zeros(num_good, vocab_size)\n",
    "            one_hot_good.scatter_(1, good_list, 1)\n",
    "            one_hot_vectors.append(one_hot_good)\n",
    "\n",
    "    # Generate inital perturbed past, we accumulate grad on this\n",
    "    past_perturb_orig = []\n",
    "    for layer in past:\n",
    "        past_perturb_orig.append([jt.zeros_like(x).astype(jt.float32) for x in layer])\n",
    "\n",
    "    if accumulated_hidden is None:\n",
    "        accumulated_hidden = 0\n",
    "\n",
    "    # ==============================================Generate a mask is gradient perturbated is based on a past window=============================================\n",
    "    # window mask is all you need: it combines decay mask and window_length(naive window mask)\n",
    "    window_length = args.window_length\n",
    "    _, _, current_length, _ = past[0][0].shape\n",
    "    #mask-part1-decay mask\n",
    "    if args.decay:\n",
    "        decay_mask = jt.arange(0., 1.0 + SmallConst, 1.0/(window_length))[1:]\n",
    "    else:\n",
    "        decay_mask = 1.0\n",
    "    #mask-part2\n",
    "    if current_length > window_length and window_length > 0:\n",
    "        ones_key_val_shape = tuple(past[0][0].shape[:-2]) + tuple([window_length]) + tuple(\n",
    "            past[0][0].shape[-1:]) #(batch_size, num_heads) + (seq_length) + (n_embd)\n",
    "\n",
    "        zeros_key_val_shape = tuple(past[0][0].shape[:-2]) + tuple([current_length - window_length]) + tuple(\n",
    "            past[0][0].shape[-1:])\n",
    "\n",
    "        ones_mask = jt.ones(ones_key_val_shape)\n",
    "        ones_mask = decay_mask*ones_mask.permute(0, 1, 3, 2)\n",
    "        ones_mask = ones_mask.permute(0, 1, 3, 2)\n",
    "\n",
    "        window_mask = jt.concat((ones_mask, jt.zeros(zeros_key_val_shape)), dim=-2)\n",
    "    else:\n",
    "        window_mask = jt.ones_like(past[0][0])\n",
    "    #====================================perturb the past for args.num_iteration times, which is similar to do 'optimizer step' for several times=================\n",
    "    def key_values_add(x,y):\n",
    "            return list(map(add, x,y))\n",
    "    loss_per_iter = []\n",
    "    for i in range(args.num_iterations):\n",
    "        perturbed_past = list(map(key_values_add, past, past_perturb_orig))\n",
    "        _, _, current_length, _ = past_perturb_orig[0][0].shape\n",
    "        # Compute hidden using perturbed past\n",
    "        result = model(prev, past_key_values=perturbed_past)\n",
    "        hidden = result['hidden_states'][-1] #(batch_size, 1, 1024)\n",
    "        new_accumulated_hidden = accumulated_hidden + jt.sum(hidden, dim=1) #(batch_size, 1024)\n",
    "\n",
    "        # TODO: Check the layer-norm consistency of this with trained discriminator\n",
    "        #TODO\n",
    "        logits = result['logits']\n",
    "        logits = logits[:, -1, :]\n",
    "        probabs = jt.nn.softmax(logits, dim=-1)\n",
    "        #TODO\n",
    "        #========================================================================calculate the loss================================================================\n",
    "        loss = 0.0\n",
    "        loss_list = []\n",
    "        #bag of words\n",
    "        if args.loss_type == 1 or args.loss_type == 3:\n",
    "            for one_hot_good in one_hot_vectors:\n",
    "                good_logits = jt.matmul(probabs, jt.transpose(one_hot_good))\n",
    "                loss_word = good_logits\n",
    "                loss_word = jt.sum(loss_word)\n",
    "                loss_word = -jt.log(loss_word)\n",
    "                #loss_word = torch.sum(loss_word) /torch.sum(one_hot_good)\n",
    "                loss += loss_word\n",
    "                loss_list.append(loss_word)\n",
    "            print('words', loss)\n",
    "\n",
    "        if args.loss_type == 2 or args.loss_type == 3:\n",
    "            new_true_past = true_past\n",
    "            #after using prev to query past, then do args.horizon_length times query, to better calculate the discriminator loss\n",
    "            for i in range(args.horizon_length):\n",
    "\n",
    "                future_probabs = jt.nn.softmax(logits, dim=-1)  # Get softmax\n",
    "                future_probabs = jt.unsqueeze(future_probabs, dim=1)\n",
    "                _,future_input_id = jt.topk(future_probabs, k=1, dim=-1)\n",
    "\n",
    "                res= model(future_input_id, past_key_values=new_true_past)\n",
    "                new_true_past = res['past_key_values']\n",
    "                future_hidden = res['hidden_states'][-1]  # Get expected hidden states\n",
    "                new_accumulated_hidden = new_accumulated_hidden + jt.sum(future_hidden, dim=1)\n",
    "            predicted_sentiment = classifier(new_accumulated_hidden / (current_length + 1 + args.horizon_length))\n",
    "            # predicted_sentiment = classifier(new_accumulated_hidden / (current_length + 1))\n",
    "            label = jt.array([args.label_class for i in range(predicted_sentiment.shape[0])], dtype=jt.int64)\n",
    "            discrim_loss = nn.cross_entropy_loss(predicted_sentiment, label)\n",
    "            print('discrim', discrim_loss)\n",
    "            loss += discrim_loss\n",
    "            loss_list.append(discrim_loss)\n",
    "\n",
    "\n",
    "        kl_loss = 0.0\n",
    "        if kl_scale > 0.0:\n",
    "            p = (jt.nn.softmax(original_probs[:, -1:, :], dim=-1)).squeeze(dim=1) #(batch_size, 50256)\n",
    "            #TODO correct\n",
    "            p = p + SmallConst * (p <= SmallConst)\n",
    "            correction = SmallConst * (probabs <= SmallConst)\n",
    "            corrected_probabs = probabs + correction\n",
    "            kl_loss = kl_scale * ((corrected_probabs * jt.log(corrected_probabs / p)).sum())\n",
    "            loss += kl_loss\n",
    "\n",
    "        print('Discrim Loss: ',(loss - kl_loss))\n",
    "        loss_per_iter.append(loss)\n",
    "        #========================================================================get the grad of past========================================================================\n",
    "        grad = []\n",
    "        for layer in perturbed_past:\n",
    "            grad.append([jt.grad(loss, block, retain_graph=False) for block in layer])\n",
    "\n",
    "        if grad_norms is not None and args.loss_type == 1:\n",
    "            grad_norms = [jt.max(grad_norms[index], jt.norm(p_.grad * window_mask)) for index, p_ in\n",
    "                          enumerate(past_perturb_orig)]\n",
    "        else:\n",
    "            grad_norms = []\n",
    "            for layer in enumerate(grad):\n",
    "                # grad_norms.append([(jt.norm(block * window_mask) + SmallConst) for block in layer])\n",
    "                #TODO\n",
    "                grad_norms.append([1 for block in layer])\n",
    "\n",
    "        perturb_grad = []\n",
    "        for i, layer in enumerate(past_perturb_orig):\n",
    "            perturb_grad.append([-stepsize * (grad[i][j] * window_mask / grad_norms[i][j] ** args.gamma) for j, _ in enumerate(layer)])\n",
    "        \n",
    "        past_perturb_orig = list(map(key_values_add, perturb_grad, past_perturb_orig))\n",
    "\n",
    "    \n",
    "    perturbed_past = list(map(key_values_add, past, past_perturb_orig))\n",
    "    return perturbed_past, new_accumulated_hidden, grad_norms, loss_per_iter\n",
    "\n",
    "\n"
   ]
  },
  {
   "cell_type": "code",
   "execution_count": 10,
   "metadata": {},
   "outputs": [],
   "source": [
    "parser = argparse.ArgumentParser()\n",
    "# Bags of words used for PPLM-BoW. Multiple BoWs separated by ;\n",
    "parser.add_argument('--bag-of-words', '-B', type=str, default=None, \n",
    "                    help='')\n",
    "# Discriminator to use for loss-type 2\n",
    "parser.add_argument('--discrim', '-D', type=str, default='sentiment', \n",
    "                    choices=('clickbait', 'sentiment', 'toxicity'), \n",
    "                    help='')\n",
    "parser.add_argument('--label-class', type=int, default=2, help='Class label used for the discriminator')\n",
    "parser.add_argument('--stepsize', type=float, default=20) #0.02\n",
    "parser.add_argument(\"--length\", type=int, default=20)\n",
    "parser.add_argument(\"--seed\", type=int, default=0)\n",
    "parser.add_argument(\"--temperature\", type=float, default=1.0)\n",
    "# top-k采样\n",
    "parser.add_argument(\"--top_k\", type=int, default=10)\n",
    "# \n",
    "parser.add_argument(\"--fusion-gm-scale\", type=float, default=0.9)\n",
    "parser.add_argument(\"--fusion-kl-scale\", type=float, default=0.01)\n",
    "parser.add_argument('--nocuda', action='store_true', help='no cuda')\n",
    "# Generate from end-of-text as prefix\n",
    "parser.add_argument('--uncond', action='store_true', help='前缀为end-of-text')\n",
    "parser.add_argument(\"--cond-text\", type=str, default='The lake', help='Prefix texts to condition on')\n",
    "parser.add_argument('--num-iterations', type=int, default=3)\n",
    "parser.add_argument('--grad-length', type=int, default=10000)\n",
    "parser.add_argument('--num-samples', type=int, default=1,\n",
    "                    help='Number of samples to generate from the modified latents')\n",
    "parser.add_argument('--horizon-length', type=int, default=1, help='Length of future to optimize over')\n",
    "# parser.add_argument('--force-token', action='store_true', help='no cuda')\n",
    "parser.add_argument('--window-length', type=int, default=0,\n",
    "                    help='Length of past which is being optimizer; 0 corresponds to infinite window length')\n",
    "parser.add_argument('--decay', action='store_true', help='whether to decay or not')\n",
    "parser.add_argument('--gamma', type=float, default=1.5)\n",
    "\n",
    "args = parser.parse_args(args=[])\n",
    "# 设置随机种子\n",
    "# np.random.seed(args.seed)\n",
    "jt.core.set_seed(args.seed)\n",
    "\n",
    "# use cuda\n",
    "if not args.nocuda: \n",
    "    jt.flags.use_cuda = 0\n",
    "\n",
    "# load_pretrained\n",
    "# if args.uncond:\n",
    "#     seq = [[50256, 50256]]\n",
    "\n",
    "# else:\n",
    "#     # 前缀词\n",
    "#     raw_text = args.cond_text\n",
    "#     while not raw_text:\n",
    "#         print('Did you forget to add `--cond-text`? ')\n",
    "#         raw_text = input(\"Model prompt >>> \")\n",
    "#     seq = [[50256] + enc.encode(raw_text)]\n",
    "prefix = ['The country', 'The chicken', 'The house', 'The food']\n",
    "seq = [[50256] + enc.encode(p) for p in prefix]\n",
    "# %%"
   ]
  },
  {
   "cell_type": "code",
   "execution_count": 11,
   "metadata": {},
   "outputs": [
    {
     "name": "stdout",
     "output_type": "stream",
     "text": [
      "======================================== Prefix of sentence ========================================\n",
      "<|endoftext|>The country\n",
      "================================================================================\n",
      "Using PPLM-Discrim\n"
     ]
    },
    {
     "name": "stderr",
     "output_type": "stream",
     "text": [
      "  0%|          | 0/20 [00:00<?, ?it/s]"
     ]
    },
    {
     "name": "stdout",
     "output_type": "stream",
     "text": [
      "true discrim loss jt.Var([6.5107327], dtype=float32)\n"
     ]
    },
    {
     "name": "stderr",
     "output_type": "stream",
     "text": [
      "  5%|5         | 1/20 [00:02<00:48,  2.56s/it]"
     ]
    },
    {
     "name": "stdout",
     "output_type": "stream",
     "text": [
      "<|endoftext|>The country's\n",
      "true discrim loss jt.Var([6.419838], dtype=float32)\n"
     ]
    },
    {
     "name": "stderr",
     "output_type": "stream",
     "text": [
      " 10%|#         | 2/20 [00:04<00:38,  2.12s/it]"
     ]
    },
    {
     "name": "stdout",
     "output_type": "stream",
     "text": [
      "<|endoftext|>The country's biological\n",
      "true discrim loss jt.Var([6.295293], dtype=float32)\n"
     ]
    },
    {
     "name": "stderr",
     "output_type": "stream",
     "text": [
      " 15%|#5        | 3/20 [00:06<00:35,  2.08s/it]"
     ]
    },
    {
     "name": "stdout",
     "output_type": "stream",
     "text": [
      "<|endoftext|>The country's biological gun\n",
      "true discrim loss jt.Var([6.706347], dtype=float32)\n"
     ]
    },
    {
     "name": "stderr",
     "output_type": "stream",
     "text": [
      " 20%|##        | 4/20 [00:07<00:26,  1.65s/it]"
     ]
    },
    {
     "name": "stdout",
     "output_type": "stream",
     "text": [
      "<|endoftext|>The country's biological gun,\n",
      "true discrim loss jt.Var([6.4256687], dtype=float32)\n"
     ]
    },
    {
     "name": "stderr",
     "output_type": "stream",
     "text": [
      " 25%|##5       | 5/20 [00:08<00:22,  1.53s/it]"
     ]
    },
    {
     "name": "stdout",
     "output_type": "stream",
     "text": [
      "<|endoftext|>The country's biological gun, on\n",
      "true discrim loss jt.Var([6.2884398], dtype=float32)\n"
     ]
    },
    {
     "name": "stderr",
     "output_type": "stream",
     "text": [
      " 30%|###       | 6/20 [00:10<00:21,  1.56s/it]"
     ]
    },
    {
     "name": "stdout",
     "output_type": "stream",
     "text": [
      "<|endoftext|>The country's biological gun, on score\n",
      "true discrim loss jt.Var([5.76184], dtype=float32)\n"
     ]
    },
    {
     "name": "stderr",
     "output_type": "stream",
     "text": [
      " 35%|###5      | 7/20 [00:12<00:22,  1.69s/it]"
     ]
    },
    {
     "name": "stdout",
     "output_type": "stream",
     "text": [
      "<|endoftext|>The country's biological gun, on score ann\n",
      "true discrim loss jt.Var([5.3053017], dtype=float32)\n"
     ]
    },
    {
     "name": "stderr",
     "output_type": "stream",
     "text": [
      " 40%|####      | 8/20 [00:14<00:23,  1.95s/it]"
     ]
    },
    {
     "name": "stdout",
     "output_type": "stream",
     "text": [
      "<|endoftext|>The country's biological gun, on score annuit\n",
      "true discrim loss jt.Var([4.822521], dtype=float32)\n"
     ]
    },
    {
     "name": "stderr",
     "output_type": "stream",
     "text": [
      " 45%|####5     | 9/20 [00:17<00:23,  2.16s/it]"
     ]
    },
    {
     "name": "stdout",
     "output_type": "stream",
     "text": [
      "<|endoftext|>The country's biological gun, on score annuit decree\n",
      "true discrim loss jt.Var([4.984134], dtype=float32)\n"
     ]
    },
    {
     "name": "stderr",
     "output_type": "stream",
     "text": [
      " 50%|#####     | 10/20 [00:18<00:19,  1.91s/it]"
     ]
    },
    {
     "name": "stdout",
     "output_type": "stream",
     "text": [
      "<|endoftext|>The country's biological gun, on score annuit decree electr\n",
      "true discrim loss jt.Var([4.7085447], dtype=float32)\n"
     ]
    },
    {
     "name": "stderr",
     "output_type": "stream",
     "text": [
      " 55%|#####5    | 11/20 [00:20<00:16,  1.85s/it]"
     ]
    },
    {
     "name": "stdout",
     "output_type": "stream",
     "text": [
      "<|endoftext|>The country's biological gun, on score annuit decree electrified\n",
      "true discrim loss jt.Var([4.222156], dtype=float32)\n"
     ]
    },
    {
     "name": "stderr",
     "output_type": "stream",
     "text": [
      " 60%|######    | 12/20 [00:22<00:15,  1.90s/it]"
     ]
    },
    {
     "name": "stdout",
     "output_type": "stream",
     "text": [
      "<|endoftext|>The country's biological gun, on score annuit decree electrified millions\n",
      "true discrim loss jt.Var([3.7540169], dtype=float32)\n"
     ]
    },
    {
     "name": "stderr",
     "output_type": "stream",
     "text": [
      " 65%|######5   | 13/20 [00:24<00:14,  2.04s/it]"
     ]
    },
    {
     "name": "stdout",
     "output_type": "stream",
     "text": [
      "<|endoftext|>The country's biological gun, on score annuit decree electrified millions of\n",
      "true discrim loss jt.Var([3.5796938], dtype=float32)\n"
     ]
    },
    {
     "name": "stderr",
     "output_type": "stream",
     "text": [
      " 70%|#######   | 14/20 [00:27<00:13,  2.24s/it]"
     ]
    },
    {
     "name": "stdout",
     "output_type": "stream",
     "text": [
      "<|endoftext|>The country's biological gun, on score annuit decree electrified millions of mesmer\n",
      "true discrim loss jt.Var([3.202703], dtype=float32)\n"
     ]
    },
    {
     "name": "stderr",
     "output_type": "stream",
     "text": [
      " 75%|#######5  | 15/20 [00:30<00:12,  2.47s/it]"
     ]
    },
    {
     "name": "stdout",
     "output_type": "stream",
     "text": [
      "<|endoftext|>The country's biological gun, on score annuit decree electrified millions of mesmerised\n",
      "true discrim loss jt.Var([2.897395], dtype=float32)\n"
     ]
    },
    {
     "name": "stderr",
     "output_type": "stream",
     "text": [
      " 80%|########  | 16/20 [00:32<00:09,  2.25s/it]"
     ]
    },
    {
     "name": "stdout",
     "output_type": "stream",
     "text": [
      "<|endoftext|>The country's biological gun, on score annuit decree electrified millions of mesmerised New\n",
      "true discrim loss jt.Var([2.9172387], dtype=float32)\n"
     ]
    },
    {
     "name": "stderr",
     "output_type": "stream",
     "text": [
      " 85%|########5 | 17/20 [00:34<00:06,  2.20s/it]"
     ]
    },
    {
     "name": "stdout",
     "output_type": "stream",
     "text": [
      "<|endoftext|>The country's biological gun, on score annuit decree electrified millions of mesmerised Newfound\n",
      "true discrim loss jt.Var([2.9710314], dtype=float32)\n"
     ]
    },
    {
     "name": "stderr",
     "output_type": "stream",
     "text": [
      " 90%|######### | 18/20 [00:36<00:04,  2.28s/it]"
     ]
    },
    {
     "name": "stdout",
     "output_type": "stream",
     "text": [
      "<|endoftext|>The country's biological gun, on score annuit decree electrified millions of mesmerised Newfoundlanders\n",
      "true discrim loss jt.Var([2.8169787], dtype=float32)\n"
     ]
    },
    {
     "name": "stderr",
     "output_type": "stream",
     "text": [
      " 95%|#########5| 19/20 [00:39<00:02,  2.42s/it]"
     ]
    },
    {
     "name": "stdout",
     "output_type": "stream",
     "text": [
      "<|endoftext|>The country's biological gun, on score annuit decree electrified millions of mesmerised Newfoundlanders yesterday\n",
      "true discrim loss jt.Var([2.676924], dtype=float32)\n"
     ]
    },
    {
     "name": "stderr",
     "output_type": "stream",
     "text": [
      "100%|##########| 20/20 [00:42<00:00,  2.13s/it]\n"
     ]
    },
    {
     "name": "stdout",
     "output_type": "stream",
     "text": [
      "<|endoftext|>The country's biological gun, on score annuit decree electrified millions of mesmerised Newfoundlanders yesterday,\n"
     ]
    },
    {
     "name": "stderr",
     "output_type": "stream",
     "text": [
      "  0%|          | 0/20 [00:00<?, ?it/s]\u001b[38;5;3m[w 1223 21:48:04.993123 00 grad.cc:77] grads[0] '' doesn't have gradient. It will be set to zero: Var(348525:2:2:1:i1:o1:s1:n0,float32,,158d47800)[1,16,2,64,]\u001b[m\n"
     ]
    },
    {
     "name": "stdout",
     "output_type": "stream",
     "text": [
      "discrim jt.Var([0.], dtype=float32)\n",
      "Discrim Loss:  jt.Var([0.], dtype=float32)\n",
      "discrim jt.Var([0.], dtype=float32)\n",
      "Discrim Loss:  jt.Var([0.], dtype=float32)\n",
      "discrim jt.Var([0.], dtype=float32)\n",
      "Discrim Loss:  jt.Var([0.], dtype=float32)\n",
      "true discrim loss jt.Var([6.5107327], dtype=float32)\n"
     ]
    },
    {
     "name": "stderr",
     "output_type": "stream",
     "text": [
      "  5%|5         | 1/20 [00:06<01:55,  6.08s/it]"
     ]
    },
    {
     "name": "stdout",
     "output_type": "stream",
     "text": [
      "<|endoftext|>The country is\n",
      "discrim jt.Var([0.], dtype=float32)\n",
      "Discrim Loss:  jt.Var([0.], dtype=float32)\n",
      "discrim jt.Var([0.], dtype=float32)\n",
      "Discrim Loss:  jt.Var([0.], dtype=float32)\n",
      "discrim jt.Var([0.], dtype=float32)\n",
      "Discrim Loss:  jt.Var([0.], dtype=float32)\n",
      "true discrim loss jt.Var([5.6828136], dtype=float32)\n"
     ]
    },
    {
     "name": "stderr",
     "output_type": "stream",
     "text": [
      " 10%|#         | 2/20 [00:11<01:41,  5.65s/it]"
     ]
    },
    {
     "name": "stdout",
     "output_type": "stream",
     "text": [
      "<|endoftext|>The country is currently\n",
      "discrim jt.Var([0.], dtype=float32)\n",
      "Discrim Loss:  jt.Var([0.], dtype=float32)\n",
      "discrim "
     ]
    },
    {
     "name": "stderr",
     "output_type": "stream",
     "text": [
      " 15%|#5        | 3/20 [00:17<01:36,  5.68s/it]"
     ]
    },
    {
     "name": "stdout",
     "output_type": "stream",
     "text": [
      "jt.Var([0.], dtype=float32)\n",
      "Discrim Loss:  jt.Var([0.], dtype=float32)\n",
      "discrim jt.Var([0.], dtype=float32)\n",
      "Discrim Loss:  jt.Var([0.], dtype=float32)\n",
      "true discrim loss jt.Var([5.199872], dtype=float32)\n",
      "<|endoftext|>The country is currently experiencing\n",
      "discrim jt.Var([0.], dtype=float32)\n",
      "Discrim Loss:  jt.Var([0.], dtype=float32)\n",
      "discrim jt.Var([0.], dtype=float32)\n",
      "Discrim Loss:  jt.Var([0.], dtype=float32)\n",
      "discrim jt.Var([0.], dtype=float32)\n",
      "Discrim Loss:  jt.Var([0.], dtype=float32)\n",
      "true discrim loss jt.Var([5.067508], dtype=float32)\n"
     ]
    },
    {
     "name": "stderr",
     "output_type": "stream",
     "text": [
      " 20%|##        | 4/20 [00:21<01:25,  5.32s/it]"
     ]
    },
    {
     "name": "stdout",
     "output_type": "stream",
     "text": [
      "<|endoftext|>The country is currently experiencing its\n",
      "discrim jt.Var([0.], dtype=float32)\n",
      "Discrim Loss:  jt.Var([0.], dtype=float32)\n",
      "discrim jt.Var([0.], dtype=float32)\n",
      "Discrim Loss:  jt.Var([0.], dtype=float32)\n",
      "discrim jt.Var([0.], dtype=float32)\n",
      "Discrim Loss:  jt.Var([0.], dtype=float32)\n",
      "true discrim loss "
     ]
    },
    {
     "name": "stderr",
     "output_type": "stream",
     "text": [
      " 25%|##5       | 5/20 [00:26<01:17,  5.19s/it]"
     ]
    },
    {
     "name": "stdout",
     "output_type": "stream",
     "text": [
      "jt.Var([5.2233396], dtype=float32)\n",
      "<|endoftext|>The country is currently experiencing its worst\n",
      "discrim jt.Var([0.], dtype=float32)\n",
      "Discrim Loss:  jt.Var([0.], dtype=float32)\n",
      "discrim jt.Var([0.], dtype=float32)\n",
      "Discrim Loss:  jt.Var([0.], dtype=float32)\n",
      "discrim jt.Var([0.], dtype=float32)\n",
      "Discrim Loss:  jt.Var([0.], dtype=float32)\n",
      "true discrim loss "
     ]
    },
    {
     "name": "stderr",
     "output_type": "stream",
     "text": [
      " 30%|###       | 6/20 [00:32<01:12,  5.20s/it]"
     ]
    },
    {
     "name": "stdout",
     "output_type": "stream",
     "text": [
      "jt.Var([5.305186], dtype=float32)\n",
      "<|endoftext|>The country is currently experiencing its worst drought\n",
      "discrim jt.Var([0.], dtype=float32)\n",
      "Discrim Loss:  jt.Var([0.], dtype=float32)\n",
      "discrim jt.Var([0.], dtype=float32)\n",
      "Discrim Loss:  jt.Var([0.], dtype=float32)\n",
      "discrim jt.Var([0.], dtype=float32)\n",
      "Discrim Loss:  jt.Var([0.], dtype=float32)\n",
      "true discrim loss jt.Var([5.536867], dtype=float32)\n"
     ]
    },
    {
     "name": "stderr",
     "output_type": "stream",
     "text": [
      " 35%|###5      | 7/20 [00:37<01:09,  5.32s/it]"
     ]
    },
    {
     "name": "stdout",
     "output_type": "stream",
     "text": [
      "<|endoftext|>The country is currently experiencing its worst drought,\n",
      "discrim jt.Var([0.], dtype=float32)\n",
      "Discrim Loss:  jt.Var([0.], dtype=float32)\n",
      "discrim jt.Var([0.], dtype=float32)\n",
      "Discrim Loss:  jt.Var([0.], dtype=float32)\n",
      "discrim jt.Var([0.], dtype=float32)\n",
      "Discrim Loss:  jt.Var([0.], dtype=float32)\n",
      "true discrim loss jt.Var([5.561776], dtype=float32)\n"
     ]
    },
    {
     "name": "stderr",
     "output_type": "stream",
     "text": [
      " 40%|####      | 8/20 [00:43<01:05,  5.50s/it]"
     ]
    },
    {
     "name": "stdout",
     "output_type": "stream",
     "text": [
      "<|endoftext|>The country is currently experiencing its worst drought, but\n",
      "discrim jt.Var([0.], dtype=float32)\n",
      "Discrim Loss:  jt.Var([0.], dtype=float32)\n",
      "discrim jt.Var([0.], dtype=float32)\n",
      "Discrim Loss:  jt.Var([0.], dtype=float32)\n",
      "discrim jt.Var([0.], dtype=float32)\n",
      "Discrim Loss:  jt.Var([0.], dtype=float32)\n",
      "true discrim loss jt.Var([5.5785685], dtype=float32)\n"
     ]
    },
    {
     "name": "stderr",
     "output_type": "stream",
     "text": [
      " 45%|####5     | 9/20 [00:49<01:03,  5.73s/it]"
     ]
    },
    {
     "name": "stdout",
     "output_type": "stream",
     "text": [
      "<|endoftext|>The country is currently experiencing its worst drought, but it\n",
      "discrim jt.Var([0.], dtype=float32)\n",
      "Discrim Loss:  jt.Var([0.], dtype=float32)\n",
      "discrim jt.Var([0.], dtype=float32)\n",
      "Discrim Loss:  jt.Var([0.], dtype=float32)\n",
      "discrim jt.Var([0.], dtype=float32)\n",
      "Discrim Loss:  jt.Var([0.], dtype=float32)\n",
      "true discrim loss jt.Var([5.6420984], dtype=float32)\n"
     ]
    },
    {
     "name": "stderr",
     "output_type": "stream",
     "text": [
      " 50%|#####     | 10/20 [00:54<00:55,  5.51s/it]"
     ]
    },
    {
     "name": "stdout",
     "output_type": "stream",
     "text": [
      "<|endoftext|>The country is currently experiencing its worst drought, but it is\n",
      "discrim jt.Var([0.], dtype=float32)\n",
      "Discrim Loss:  jt.Var([0.], dtype=float32)\n",
      "discrim jt.Var([0.], dtype=float32)\n",
      "Discrim Loss:  jt.Var([0.], dtype=float32)\n",
      "discrim jt.Var([0.], dtype=float32)\n",
      "Discrim Loss:  jt.Var([0.], dtype=float32)\n",
      "true discrim loss jt.Var([5.4396033], dtype=float32)\n"
     ]
    },
    {
     "name": "stderr",
     "output_type": "stream",
     "text": [
      " 55%|#####5    | 11/20 [01:00<00:49,  5.45s/it]"
     ]
    },
    {
     "name": "stdout",
     "output_type": "stream",
     "text": [
      "<|endoftext|>The country is currently experiencing its worst drought, but it is not\n",
      "discrim jt.Var([0.], dtype=float32)\n",
      "Discrim Loss:  jt.Var([0.], dtype=float32)\n",
      "discrim jt.Var([0.], dtype=float32)\n",
      "Discrim Loss:  jt.Var([0.], dtype=float32)\n",
      "discrim jt.Var([0.], dtype=float32)\n",
      "Discrim Loss:  jt.Var([0.], dtype=float32)\n",
      "true discrim loss jt.Var([5.4331026], dtype=float32)\n"
     ]
    },
    {
     "name": "stderr",
     "output_type": "stream",
     "text": [
      " 60%|######    | 12/20 [01:05<00:44,  5.51s/it]"
     ]
    },
    {
     "name": "stdout",
     "output_type": "stream",
     "text": [
      "<|endoftext|>The country is currently experiencing its worst drought, but it is not the\n",
      "discrim jt.Var([0.], dtype=float32)\n",
      "Discrim Loss:  jt.Var([0.], dtype=float32)\n",
      "discrim jt.Var([0.], dtype=float32)\n",
      "Discrim Loss:  jt.Var([0.], dtype=float32)\n",
      "discrim jt.Var([0.], dtype=float32)\n",
      "Discrim Loss:  jt.Var([0.], dtype=float32)\n"
     ]
    },
    {
     "name": "stderr",
     "output_type": "stream",
     "text": [
      " 65%|######5   | 13/20 [01:11<00:39,  5.64s/it]"
     ]
    },
    {
     "name": "stdout",
     "output_type": "stream",
     "text": [
      "true discrim loss jt.Var([5.433657], dtype=float32)\n",
      "<|endoftext|>The country is currently experiencing its worst drought, but it is not the first\n",
      "discrim jt.Var([0.], dtype=float32)\n",
      "Discrim Loss:  jt.Var([0.], dtype=float32)\n",
      "discrim jt.Var([0.], dtype=float32)\n",
      "Discrim Loss:  jt.Var([0.], dtype=float32)\n",
      "discrim jt.Var([0.], dtype=float32)\n",
      "Discrim Loss:  jt.Var([0.], dtype=float32)\n",
      "true discrim loss jt.Var([5.4425187], dtype=float32)\n"
     ]
    },
    {
     "name": "stderr",
     "output_type": "stream",
     "text": [
      " 70%|#######   | 14/20 [01:17<00:35,  5.84s/it]"
     ]
    },
    {
     "name": "stdout",
     "output_type": "stream",
     "text": [
      "<|endoftext|>The country is currently experiencing its worst drought, but it is not the first time\n",
      "discrim jt.Var([0.], dtype=float32)\n",
      "Discrim Loss:  jt.Var([0.], dtype=float32)\n",
      "discrim jt.Var([0.], dtype=float32)\n",
      "Discrim Loss:  jt.Var([0.], dtype=float32)\n",
      "discrim jt.Var([0.], dtype=float32)\n",
      "Discrim Loss:  jt.Var([0.], dtype=float32)\n",
      "true discrim loss jt.Var([5.4691887], dtype=float32)\n"
     ]
    },
    {
     "name": "stderr",
     "output_type": "stream",
     "text": [
      " 75%|#######5  | 15/20 [01:24<00:30,  6.06s/it]"
     ]
    },
    {
     "name": "stdout",
     "output_type": "stream",
     "text": [
      "<|endoftext|>The country is currently experiencing its worst drought, but it is not the first time the\n",
      "discrim jt.Var([0.], dtype=float32)\n",
      "Discrim Loss:  jt.Var([0.], dtype=float32)\n",
      "discrim jt.Var([0.], dtype=float32)\n",
      "Discrim Loss:  jt.Var([0.], dtype=float32)\n",
      "discrim jt.Var([0.], dtype=float32)\n",
      "Discrim Loss:  jt.Var([0.], dtype=float32)\n",
      "true discrim loss jt.Var([5.5349617], dtype=float32)\n"
     ]
    },
    {
     "name": "stderr",
     "output_type": "stream",
     "text": [
      " 80%|########  | 16/20 [01:29<00:23,  5.85s/it]"
     ]
    },
    {
     "name": "stdout",
     "output_type": "stream",
     "text": [
      "<|endoftext|>The country is currently experiencing its worst drought, but it is not the first time the country\n",
      "discrim jt.Var([0.], dtype=float32)\n",
      "Discrim Loss:  jt.Var([0.], dtype=float32)\n",
      "discrim jt.Var([0.], dtype=float32)\n",
      "Discrim Loss:  jt.Var([0.], dtype=float32)\n",
      "discrim jt.Var([0.], dtype=float32)\n",
      "Discrim Loss:  jt.Var([0.], dtype=float32)\n"
     ]
    },
    {
     "name": "stderr",
     "output_type": "stream",
     "text": [
      " 85%|########5 | 17/20 [01:35<00:17,  5.80s/it]"
     ]
    },
    {
     "name": "stdout",
     "output_type": "stream",
     "text": [
      "true discrim loss jt.Var([5.452828], dtype=float32)\n",
      "<|endoftext|>The country is currently experiencing its worst drought, but it is not the first time the country has\n",
      "discrim jt.Var([0.], dtype=float32)\n",
      "Discrim Loss:  jt.Var([0.], dtype=float32)\n",
      "discrim jt.Var([0.], dtype=float32)\n",
      "Discrim Loss:  jt.Var([0.], dtype=float32)\n",
      "discrim jt.Var([0.], dtype=float32)\n",
      "Discrim Loss:  jt.Var([0.], dtype=float32)\n"
     ]
    },
    {
     "name": "stderr",
     "output_type": "stream",
     "text": [
      " 90%|######### | 18/20 [01:43<00:12,  6.34s/it]"
     ]
    },
    {
     "name": "stdout",
     "output_type": "stream",
     "text": [
      "true discrim loss jt.Var([5.4708133], dtype=float32)\n",
      "<|endoftext|>The country is currently experiencing its worst drought, but it is not the first time the country has experienced\n",
      "discrim jt.Var([0.], dtype=float32)\n",
      "Discrim Loss:  jt.Var([0.], dtype=float32)\n",
      "discrim jt.Var([0.], dtype=float32)\n",
      "Discrim Loss:  jt.Var([0.], dtype=float32)\n",
      "discrim jt.Var([0.], dtype=float32)\n",
      "Discrim Loss:  jt.Var([0.], dtype=float32)\n",
      "true discrim loss "
     ]
    },
    {
     "name": "stderr",
     "output_type": "stream",
     "text": [
      " 95%|#########5| 19/20 [02:05<00:11, 11.23s/it]"
     ]
    },
    {
     "name": "stdout",
     "output_type": "stream",
     "text": [
      "jt.Var([5.491957], dtype=float32)\n",
      "<|endoftext|>The country is currently experiencing its worst drought, but it is not the first time the country has experienced drought\n",
      "discrim jt.Var([0.], dtype=float32)\n",
      "Discrim Loss:  jt.Var([0.], dtype=float32)\n",
      "discrim jt.Var([0.], dtype=float32)\n",
      "Discrim Loss:  jt.Var([0.], dtype=float32)\n",
      "discrim jt.Var([0.], dtype=float32)\n",
      "Discrim Loss:  jt.Var([0.], dtype=float32)\n"
     ]
    },
    {
     "name": "stderr",
     "output_type": "stream",
     "text": [
      "100%|##########| 20/20 [02:20<00:00,  7.05s/it]\n"
     ]
    },
    {
     "name": "stdout",
     "output_type": "stream",
     "text": [
      "true discrim loss jt.Var([5.645622], dtype=float32)\n",
      "<|endoftext|>The country is currently experiencing its worst drought, but it is not the first time the country has experienced drought.\n",
      "================================================================================\n",
      "======================================== Whole sentence (Original)========================================\n",
      "<|endoftext|>The country's biological gun, on score annuit decree electrified millions of mesmerised Newfoundlanders yesterday,\n",
      "================================================================================\n",
      "======================================== Whole sentence (Perturbed)========================================\n",
      "<|endoftext|>The country is currently experiencing its worst drought, but it is not the first time the country has experienced drought.\n",
      "================================================================================\n",
      "======================================== Prefix of sentence ========================================\n",
      "<|endoftext|>The chicken\n",
      "================================================================================\n",
      "Using PPLM-Discrim\n"
     ]
    },
    {
     "name": "stderr",
     "output_type": "stream",
     "text": [
      "  0%|          | 0/20 [00:00<?, ?it/s]"
     ]
    },
    {
     "name": "stdout",
     "output_type": "stream",
     "text": [
      "true discrim loss jt.Var([6.3283424], dtype=float32)\n"
     ]
    },
    {
     "name": "stderr",
     "output_type": "stream",
     "text": [
      "  5%|5         | 1/20 [00:01<00:37,  2.00s/it]"
     ]
    },
    {
     "name": "stdout",
     "output_type": "stream",
     "text": [
      "<|endoftext|>The chicken industry\n",
      "true discrim loss jt.Var([5.9732113], dtype=float32)\n"
     ]
    },
    {
     "name": "stderr",
     "output_type": "stream",
     "text": [
      " 10%|#         | 2/20 [00:03<00:33,  1.85s/it]"
     ]
    },
    {
     "name": "stdout",
     "output_type": "stream",
     "text": [
      "<|endoftext|>The chicken industry is\n",
      "true discrim loss jt.Var([5.207032], dtype=float32)\n"
     ]
    },
    {
     "name": "stderr",
     "output_type": "stream",
     "text": [
      " 15%|#5        | 3/20 [00:05<00:32,  1.94s/it]"
     ]
    },
    {
     "name": "stdout",
     "output_type": "stream",
     "text": [
      "<|endoftext|>The chicken industry is currently\n",
      "true discrim loss jt.Var([4.7146354], dtype=float32)\n"
     ]
    },
    {
     "name": "stderr",
     "output_type": "stream",
     "text": [
      " 20%|##        | 4/20 [00:06<00:25,  1.58s/it]"
     ]
    },
    {
     "name": "stdout",
     "output_type": "stream",
     "text": [
      "<|endoftext|>The chicken industry is currently booming\n",
      "true discrim loss jt.Var([3.0395334], dtype=float32)\n"
     ]
    },
    {
     "name": "stderr",
     "output_type": "stream",
     "text": [
      " 25%|##5       | 5/20 [00:08<00:22,  1.49s/it]"
     ]
    },
    {
     "name": "stdout",
     "output_type": "stream",
     "text": [
      "<|endoftext|>The chicken industry is currently booming in\n",
      "true discrim loss "
     ]
    },
    {
     "name": "stderr",
     "output_type": "stream",
     "text": [
      " 30%|###       | 6/20 [00:09<00:21,  1.55s/it]"
     ]
    },
    {
     "name": "stdout",
     "output_type": "stream",
     "text": [
      "jt.Var([2.9232752], dtype=float32)\n",
      "<|endoftext|>The chicken industry is currently booming in Ontario\n",
      "true discrim loss jt.Var([2.6015482], dtype=float32)\n"
     ]
    },
    {
     "name": "stderr",
     "output_type": "stream",
     "text": [
      " 35%|###5      | 7/20 [00:11<00:21,  1.69s/it]"
     ]
    },
    {
     "name": "stdout",
     "output_type": "stream",
     "text": [
      "<|endoftext|>The chicken industry is currently booming in Ontario and\n",
      "true discrim loss jt.Var([2.734823], dtype=float32)\n"
     ]
    },
    {
     "name": "stderr",
     "output_type": "stream",
     "text": [
      " 40%|####      | 8/20 [00:14<00:22,  1.89s/it]"
     ]
    },
    {
     "name": "stdout",
     "output_type": "stream",
     "text": [
      "<|endoftext|>The chicken industry is currently booming in Ontario and Alberta\n",
      "true discrim loss jt.Var([2.380125], dtype=float32)\n"
     ]
    },
    {
     "name": "stderr",
     "output_type": "stream",
     "text": [
      " 45%|####5     | 9/20 [00:16<00:23,  2.12s/it]"
     ]
    },
    {
     "name": "stdout",
     "output_type": "stream",
     "text": [
      "<|endoftext|>The chicken industry is currently booming in Ontario and Alberta as\n",
      "true discrim loss jt.Var([2.365497], dtype=float32)\n"
     ]
    },
    {
     "name": "stderr",
     "output_type": "stream",
     "text": [
      " 50%|#####     | 10/20 [00:18<00:18,  1.89s/it]"
     ]
    },
    {
     "name": "stdout",
     "output_type": "stream",
     "text": [
      "<|endoftext|>The chicken industry is currently booming in Ontario and Alberta as far\n",
      "true discrim loss jt.Var([2.4251685], dtype=float32)\n"
     ]
    },
    {
     "name": "stderr",
     "output_type": "stream",
     "text": [
      " 55%|#####5    | 11/20 [00:19<00:16,  1.83s/it]"
     ]
    },
    {
     "name": "stdout",
     "output_type": "stream",
     "text": [
      "<|endoftext|>The chicken industry is currently booming in Ontario and Alberta as far as\n",
      "true discrim loss jt.Var([2.5327833], dtype=float32)\n"
     ]
    },
    {
     "name": "stderr",
     "output_type": "stream",
     "text": [
      " 60%|######    | 12/20 [00:21<00:15,  1.90s/it]"
     ]
    },
    {
     "name": "stdout",
     "output_type": "stream",
     "text": [
      "<|endoftext|>The chicken industry is currently booming in Ontario and Alberta as far as people\n",
      "true discrim loss jt.Var([2.5772583], dtype=float32)\n"
     ]
    },
    {
     "name": "stderr",
     "output_type": "stream",
     "text": [
      " 65%|######5   | 13/20 [00:24<00:14,  2.03s/it]"
     ]
    },
    {
     "name": "stdout",
     "output_type": "stream",
     "text": [
      "<|endoftext|>The chicken industry is currently booming in Ontario and Alberta as far as people know\n",
      "true discrim loss jt.Var([2.3879209], dtype=float32)\n"
     ]
    },
    {
     "name": "stderr",
     "output_type": "stream",
     "text": [
      " 70%|#######   | 14/20 [00:26<00:13,  2.23s/it]"
     ]
    },
    {
     "name": "stdout",
     "output_type": "stream",
     "text": [
      "<|endoftext|>The chicken industry is currently booming in Ontario and Alberta as far as people know.\n",
      "true discrim loss jt.Var([2.4325478], dtype=float32)\n"
     ]
    },
    {
     "name": "stderr",
     "output_type": "stream",
     "text": [
      " 75%|#######5  | 15/20 [00:29<00:12,  2.47s/it]"
     ]
    },
    {
     "name": "stdout",
     "output_type": "stream",
     "text": [
      "<|endoftext|>The chicken industry is currently booming in Ontario and Alberta as far as people know. While\n",
      "true discrim loss jt.Var([2.5863702], dtype=float32)\n"
     ]
    },
    {
     "name": "stderr",
     "output_type": "stream",
     "text": [
      " 80%|########  | 16/20 [00:31<00:09,  2.26s/it]"
     ]
    },
    {
     "name": "stdout",
     "output_type": "stream",
     "text": [
      "<|endoftext|>The chicken industry is currently booming in Ontario and Alberta as far as people know. While there\n",
      "true discrim loss jt.Var([2.8578095], dtype=float32)\n"
     ]
    },
    {
     "name": "stderr",
     "output_type": "stream",
     "text": [
      " 85%|########5 | 17/20 [00:33<00:06,  2.22s/it]"
     ]
    },
    {
     "name": "stdout",
     "output_type": "stream",
     "text": [
      "<|endoftext|>The chicken industry is currently booming in Ontario and Alberta as far as people know. While there's\n",
      "true discrim loss jt.Var([2.934184], dtype=float32)\n"
     ]
    },
    {
     "name": "stderr",
     "output_type": "stream",
     "text": [
      " 90%|######### | 18/20 [00:36<00:04,  2.28s/it]"
     ]
    },
    {
     "name": "stdout",
     "output_type": "stream",
     "text": [
      "<|endoftext|>The chicken industry is currently booming in Ontario and Alberta as far as people know. While there's an\n",
      "true discrim loss jt.Var([3.0392222], dtype=float32)\n"
     ]
    },
    {
     "name": "stderr",
     "output_type": "stream",
     "text": [
      " 95%|#########5| 19/20 [00:38<00:02,  2.43s/it]"
     ]
    },
    {
     "name": "stdout",
     "output_type": "stream",
     "text": [
      "<|endoftext|>The chicken industry is currently booming in Ontario and Alberta as far as people know. While there's an abundance\n",
      "true discrim loss jt.Var([2.9733675], dtype=float32)\n"
     ]
    },
    {
     "name": "stderr",
     "output_type": "stream",
     "text": [
      "100%|##########| 20/20 [00:42<00:00,  2.10s/it]\n"
     ]
    },
    {
     "name": "stdout",
     "output_type": "stream",
     "text": [
      "<|endoftext|>The chicken industry is currently booming in Ontario and Alberta as far as people know. While there's an abundance of\n"
     ]
    },
    {
     "name": "stderr",
     "output_type": "stream",
     "text": [
      "  0%|          | 0/20 [00:00<?, ?it/s]"
     ]
    },
    {
     "name": "stdout",
     "output_type": "stream",
     "text": [
      "discrim jt.Var([0.], dtype=float32)\n",
      "Discrim Loss:  jt.Var([0.], dtype=float32)\n",
      "discrim jt.Var([0.], dtype=float32)\n",
      "Discrim Loss:  jt.Var([0.], dtype=float32)\n",
      "discrim jt.Var([0.], dtype=float32)\n",
      "Discrim Loss:  jt.Var([0.], dtype=float32)\n",
      "true discrim loss jt.Var([6.3283424], dtype=float32)\n"
     ]
    },
    {
     "name": "stderr",
     "output_type": "stream",
     "text": [
      "  5%|5         | 1/20 [00:05<01:45,  5.53s/it]"
     ]
    },
    {
     "name": "stdout",
     "output_type": "stream",
     "text": [
      "<|endoftext|>The chicken and\n",
      "discrim jt.Var([0.], dtype=float32)\n",
      "Discrim Loss:  jt.Var([0.], dtype=float32)\n",
      "discrim jt.Var([0.], dtype=float32)\n",
      "Discrim Loss:  jt.Var([0.], dtype=float32)\n",
      "discrim jt.Var([0.], dtype=float32)\n",
      "Discrim Loss:  jt.Var([0.], dtype=float32)\n",
      "true discrim loss jt.Var([5.8328953], dtype=float32)\n"
     ]
    },
    {
     "name": "stderr",
     "output_type": "stream",
     "text": [
      " 10%|#         | 2/20 [00:10<01:37,  5.40s/it]"
     ]
    },
    {
     "name": "stdout",
     "output_type": "stream",
     "text": [
      "<|endoftext|>The chicken and the\n",
      "discrim jt.Var([0.], dtype=float32)\n",
      "Discrim Loss:  jt.Var([0.], dtype=float32)\n",
      "discrim jt.Var([0.], dtype=float32)\n",
      "Discrim Loss:  jt.Var([0.], dtype=float32)\n",
      "discrim jt.Var([0.], dtype=float32)\n",
      "Discrim Loss:  jt.Var([0.], dtype=float32)\n",
      "true discrim loss "
     ]
    },
    {
     "name": "stderr",
     "output_type": "stream",
     "text": [
      " 15%|#5        | 3/20 [00:16<01:33,  5.50s/it]"
     ]
    },
    {
     "name": "stdout",
     "output_type": "stream",
     "text": [
      "jt.Var([5.6908374], dtype=float32)\n",
      "<|endoftext|>The chicken and the egg\n",
      "discrim jt.Var([0.], dtype=float32)\n",
      "Discrim Loss:  jt.Var([0.], dtype=float32)\n",
      "discrim jt.Var([0.], dtype=float32)\n",
      "Discrim Loss:  jt.Var([0.], dtype=float32)\n",
      "discrim jt.Var([0.], dtype=float32)\n",
      "Discrim Loss:  jt.Var([0.], dtype=float32)\n"
     ]
    },
    {
     "name": "stderr",
     "output_type": "stream",
     "text": [
      " 20%|##        | 4/20 [00:21<01:22,  5.14s/it]"
     ]
    },
    {
     "name": "stdout",
     "output_type": "stream",
     "text": [
      "true discrim loss jt.Var([5.869274], dtype=float32)\n",
      "<|endoftext|>The chicken and the egg.\n",
      "discrim jt.Var([0.], dtype=float32)\n",
      "Discrim Loss:  jt.Var([0.], dtype=float32)\n",
      "discrim jt.Var([0.], dtype=float32)\n",
      "Discrim Loss:  jt.Var([0.], dtype=float32)\n",
      "discrim jt.Var([0.], dtype=float32)\n",
      "Discrim Loss:  jt.Var([0.], dtype=float32)\n",
      "true discrim loss jt.Var([5.3824983], dtype=float32)\n"
     ]
    },
    {
     "name": "stderr",
     "output_type": "stream",
     "text": [
      " 25%|##5       | 5/20 [00:25<01:15,  5.06s/it]"
     ]
    },
    {
     "name": "stdout",
     "output_type": "stream",
     "text": [
      "<|endoftext|>The chicken and the egg. That\n",
      "discrim jt.Var([0.], dtype=float32)\n",
      "Discrim Loss:  jt.Var([0.], dtype=float32)\n",
      "discrim jt.Var([0.], dtype=float32)\n",
      "Discrim Loss:  jt.Var([0.], dtype=float32)\n",
      "discrim jt.Var([0.], dtype=float32)\n",
      "Discrim Loss:  jt.Var([0.], dtype=float32)\n",
      "true discrim loss jt.Var([5.02879], dtype=float32)\n"
     ]
    },
    {
     "name": "stderr",
     "output_type": "stream",
     "text": [
      " 30%|###       | 6/20 [00:31<01:11,  5.13s/it]"
     ]
    },
    {
     "name": "stdout",
     "output_type": "stream",
     "text": [
      "<|endoftext|>The chicken and the egg. That's\n",
      "discrim jt.Var([0.], dtype=float32)\n",
      "Discrim Loss:  jt.Var([0.], dtype=float32)\n",
      "discrim jt.Var([0.], dtype=float32)\n",
      "Discrim Loss:  jt.Var([0.], dtype=float32)\n",
      "discrim jt.Var([0.], dtype=float32)\n",
      "Discrim Loss:  jt.Var([0.], dtype=float32)\n",
      "true discrim loss "
     ]
    },
    {
     "name": "stderr",
     "output_type": "stream",
     "text": [
      " 35%|###5      | 7/20 [00:36<01:08,  5.28s/it]"
     ]
    },
    {
     "name": "stdout",
     "output_type": "stream",
     "text": [
      "jt.Var([4.74054], dtype=float32)\n",
      "<|endoftext|>The chicken and the egg. That's how\n",
      "discrim jt.Var([0.], dtype=float32)\n",
      "Discrim Loss:  jt.Var([0.], dtype=float32)\n",
      "discrim jt.Var([0.], dtype=float32)\n",
      "Discrim Loss:  jt.Var([0.], dtype=float32)\n",
      "discrim jt.Var([0.], dtype=float32)\n",
      "Discrim Loss:  jt.Var([0.], dtype=float32)\n",
      "true discrim loss jt.Var([4.373411], dtype=float32)\n"
     ]
    },
    {
     "name": "stderr",
     "output_type": "stream",
     "text": [
      " 40%|####      | 8/20 [00:42<01:05,  5.47s/it]"
     ]
    },
    {
     "name": "stdout",
     "output_type": "stream",
     "text": [
      "<|endoftext|>The chicken and the egg. That's how I\n",
      "discrim jt.Var([0.], dtype=float32)\n",
      "Discrim Loss:  jt.Var([0.], dtype=float32)\n",
      "discrim jt.Var([0.], dtype=float32)\n",
      "Discrim Loss:  jt.Var([0.], dtype=float32)\n",
      "discrim jt.Var([0.], dtype=float32)\n",
      "Discrim Loss:  jt.Var([0.], dtype=float32)\n",
      "true discrim loss jt.Var([4.1940804], dtype=float32)\n"
     ]
    },
    {
     "name": "stderr",
     "output_type": "stream",
     "text": [
      " 45%|####5     | 9/20 [00:48<01:02,  5.70s/it]"
     ]
    },
    {
     "name": "stdout",
     "output_type": "stream",
     "text": [
      "<|endoftext|>The chicken and the egg. That's how I described\n",
      "discrim jt.Var([0.], dtype=float32)\n",
      "Discrim Loss:  jt.Var([0.], dtype=float32)\n",
      "discrim jt.Var([0.], dtype=float32)\n",
      "Discrim Loss:  jt.Var([0.], dtype=float32)\n",
      "discrim jt.Var([0.], dtype=float32)\n",
      "Discrim Loss:  jt.Var([0.], dtype=float32)\n",
      "true discrim loss jt.Var([3.875293], dtype=float32)\n"
     ]
    },
    {
     "name": "stderr",
     "output_type": "stream",
     "text": [
      " 50%|#####     | 10/20 [00:53<00:54,  5.48s/it]"
     ]
    },
    {
     "name": "stdout",
     "output_type": "stream",
     "text": [
      "<|endoftext|>The chicken and the egg. That's how I described what\n",
      "discrim jt.Var([0.], dtype=float32)\n",
      "Discrim Loss:  jt.Var([0.], dtype=float32)\n",
      "discrim jt.Var([0.], dtype=float32)\n",
      "Discrim Loss:  jt.Var([0.], dtype=float32)\n",
      "discrim jt.Var([0.], dtype=float32)\n",
      "Discrim Loss:  jt.Var([0.], dtype=float32)\n",
      "true discrim loss jt.Var([3.9735272], dtype=float32)\n"
     ]
    },
    {
     "name": "stderr",
     "output_type": "stream",
     "text": [
      " 55%|#####5    | 11/20 [00:59<00:48,  5.43s/it]"
     ]
    },
    {
     "name": "stdout",
     "output_type": "stream",
     "text": [
      "<|endoftext|>The chicken and the egg. That's how I described what I\n",
      "discrim jt.Var([0.], dtype=float32)\n",
      "Discrim Loss:  jt.Var([0.], dtype=float32)\n",
      "discrim jt.Var([0.], dtype=float32)\n",
      "Discrim Loss:  jt.Var([0.], dtype=float32)\n",
      "discrim jt.Var([0.], dtype=float32)\n",
      "Discrim Loss:  jt.Var([0.], dtype=float32)\n"
     ]
    },
    {
     "name": "stderr",
     "output_type": "stream",
     "text": [
      " 60%|######    | 12/20 [01:04<00:43,  5.48s/it]"
     ]
    },
    {
     "name": "stdout",
     "output_type": "stream",
     "text": [
      "true discrim loss jt.Var([3.9469244], dtype=float32)\n",
      "<|endoftext|>The chicken and the egg. That's how I described what I had\n",
      "discrim jt.Var([0.], dtype=float32)\n",
      "Discrim Loss:  jt.Var([0.], dtype=float32)\n",
      "discrim jt.Var([0.], dtype=float32)\n",
      "Discrim Loss:  jt.Var([0.], dtype=float32)\n",
      "discrim jt.Var([0.], dtype=float32)\n",
      "Discrim Loss:  jt.Var([0.], dtype=float32)\n",
      "true discrim loss jt.Var([3.7752259], dtype=float32)\n"
     ]
    },
    {
     "name": "stderr",
     "output_type": "stream",
     "text": [
      " 65%|######5   | 13/20 [01:10<00:39,  5.64s/it]"
     ]
    },
    {
     "name": "stdout",
     "output_type": "stream",
     "text": [
      "<|endoftext|>The chicken and the egg. That's how I described what I had for\n",
      "discrim jt.Var([0.], dtype=float32)\n",
      "Discrim Loss:  jt.Var([0.], dtype=float32)\n",
      "discrim jt.Var([0.], dtype=float32)\n",
      "Discrim Loss:  jt.Var([0.], dtype=float32)\n",
      "discrim jt.Var([0.], dtype=float32)\n",
      "Discrim Loss:  jt.Var([0.], dtype=float32)\n",
      "true discrim loss jt.Var([3.4655745], dtype=float32)\n"
     ]
    },
    {
     "name": "stderr",
     "output_type": "stream",
     "text": [
      " 70%|#######   | 14/20 [01:17<00:35,  5.84s/it]"
     ]
    },
    {
     "name": "stdout",
     "output_type": "stream",
     "text": [
      "<|endoftext|>The chicken and the egg. That's how I described what I had for breakfast\n",
      "discrim jt.Var([0.], dtype=float32)\n",
      "Discrim Loss:  jt.Var([0.], dtype=float32)\n",
      "discrim jt.Var([0.], dtype=float32)\n",
      "Discrim Loss:  jt.Var([0.], dtype=float32)\n",
      "discrim jt.Var([0.], dtype=float32)\n",
      "Discrim Loss:  jt.Var([0.], dtype=float32)\n",
      "true discrim loss jt.Var([3.3097332], dtype=float32)\n"
     ]
    },
    {
     "name": "stderr",
     "output_type": "stream",
     "text": [
      " 75%|#######5  | 15/20 [01:23<00:30,  6.08s/it]"
     ]
    },
    {
     "name": "stdout",
     "output_type": "stream",
     "text": [
      "<|endoftext|>The chicken and the egg. That's how I described what I had for breakfast when\n",
      "discrim jt.Var([0.], dtype=float32)\n",
      "Discrim Loss:  jt.Var([0.], dtype=float32)\n",
      "discrim jt.Var([0.], dtype=float32)\n",
      "Discrim Loss:  jt.Var([0.], dtype=float32)\n",
      "discrim jt.Var([0.], dtype=float32)\n",
      "Discrim Loss:  jt.Var([0.], dtype=float32)\n",
      "true discrim loss jt.Var([3.2425032], dtype=float32)\n"
     ]
    },
    {
     "name": "stderr",
     "output_type": "stream",
     "text": [
      " 80%|########  | 16/20 [01:29<00:23,  5.88s/it]"
     ]
    },
    {
     "name": "stdout",
     "output_type": "stream",
     "text": [
      "<|endoftext|>The chicken and the egg. That's how I described what I had for breakfast when I\n",
      "discrim jt.Var([0.], dtype=float32)\n",
      "Discrim Loss:  jt.Var([0.], dtype=float32)\n",
      "discrim jt.Var([0.], dtype=float32)\n",
      "Discrim Loss:  jt.Var([0.], dtype=float32)\n",
      "discrim jt.Var([0.], dtype=float32)\n",
      "Discrim Loss:  jt.Var([0.], dtype=float32)\n",
      "true discrim loss jt.Var([3.1083422], dtype=float32)\n"
     ]
    },
    {
     "name": "stderr",
     "output_type": "stream",
     "text": [
      " 85%|########5 | 17/20 [01:34<00:17,  5.83s/it]"
     ]
    },
    {
     "name": "stdout",
     "output_type": "stream",
     "text": [
      "<|endoftext|>The chicken and the egg. That's how I described what I had for breakfast when I came\n",
      "discrim jt.Var([0.], dtype=float32)\n",
      "Discrim Loss:  jt.Var([0.], dtype=float32)\n",
      "discrim jt.Var([0.], dtype=float32)\n",
      "Discrim Loss:  jt.Var([0.], dtype=float32)\n",
      "discrim jt.Var([0.], dtype=float32)\n",
      "Discrim Loss:  jt.Var([0.], dtype=float32)\n",
      "true discrim loss "
     ]
    },
    {
     "name": "stderr",
     "output_type": "stream",
     "text": [
      " 90%|######### | 18/20 [01:41<00:11,  5.97s/it]"
     ]
    },
    {
     "name": "stdout",
     "output_type": "stream",
     "text": [
      "jt.Var([2.9456625], dtype=float32)\n",
      "<|endoftext|>The chicken and the egg. That's how I described what I had for breakfast when I came back\n",
      "discrim jt.Var([0.], dtype=float32)\n",
      "Discrim Loss:  jt.Var([0.], dtype=float32)\n",
      "discrim jt.Var([0.], dtype=float32)\n",
      "Discrim Loss:  jt.Var([0.], dtype=float32)\n",
      "discrim jt.Var([0.], dtype=float32)\n",
      "Discrim Loss:  jt.Var([0.], dtype=float32)\n",
      "true discrim loss "
     ]
    },
    {
     "name": "stderr",
     "output_type": "stream",
     "text": [
      " 95%|#########5| 19/20 [01:47<00:06,  6.17s/it]"
     ]
    },
    {
     "name": "stdout",
     "output_type": "stream",
     "text": [
      "jt.Var([2.884743], dtype=float32)\n",
      "<|endoftext|>The chicken and the egg. That's how I described what I had for breakfast when I came back to\n",
      "discrim jt.Var([0.], dtype=float32)\n",
      "Discrim Loss:  jt.Var([0.], dtype=float32)\n",
      "discrim jt.Var([0.], dtype=float32)\n",
      "Discrim Loss:  jt.Var([0.], dtype=float32)\n",
      "discrim jt.Var([0.], dtype=float32)\n",
      "Discrim Loss:  jt.Var([0.], dtype=float32)\n"
     ]
    },
    {
     "name": "stderr",
     "output_type": "stream",
     "text": [
      "100%|##########| 20/20 [01:54<00:00,  5.74s/it]\n"
     ]
    },
    {
     "name": "stdout",
     "output_type": "stream",
     "text": [
      "true discrim loss jt.Var([2.835879], dtype=float32)\n",
      "<|endoftext|>The chicken and the egg. That's how I described what I had for breakfast when I came back to my\n",
      "================================================================================\n",
      "======================================== Whole sentence (Original)========================================\n",
      "<|endoftext|>The chicken industry is currently booming in Ontario and Alberta as far as people know. While there's an abundance of\n",
      "================================================================================\n",
      "======================================== Whole sentence (Perturbed)========================================\n",
      "<|endoftext|>The chicken and the egg. That's how I described what I had for breakfast when I came back to my\n",
      "================================================================================\n",
      "======================================== Prefix of sentence ========================================\n",
      "<|endoftext|>The house\n",
      "================================================================================\n",
      "Using PPLM-Discrim\n"
     ]
    },
    {
     "name": "stderr",
     "output_type": "stream",
     "text": [
      "  0%|          | 0/20 [00:00<?, ?it/s]"
     ]
    },
    {
     "name": "stdout",
     "output_type": "stream",
     "text": [
      "true discrim loss jt.Var([6.180008], dtype=float32)\n"
     ]
    },
    {
     "name": "stderr",
     "output_type": "stream",
     "text": [
      "  5%|5         | 1/20 [00:02<00:38,  2.01s/it]"
     ]
    },
    {
     "name": "stdout",
     "output_type": "stream",
     "text": [
      "<|endoftext|>The house breaks\n",
      "true discrim loss jt.Var([5.2565007], dtype=float32)\n"
     ]
    },
    {
     "name": "stderr",
     "output_type": "stream",
     "text": [
      " 10%|#         | 2/20 [00:03<00:33,  1.86s/it]"
     ]
    },
    {
     "name": "stdout",
     "output_type": "stream",
     "text": [
      "<|endoftext|>The house breaks into\n",
      "true discrim loss jt.Var([4.89825], dtype=float32)\n"
     ]
    },
    {
     "name": "stderr",
     "output_type": "stream",
     "text": [
      " 15%|#5        | 3/20 [00:05<00:33,  1.96s/it]"
     ]
    },
    {
     "name": "stdout",
     "output_type": "stream",
     "text": [
      "<|endoftext|>The house breaks into twisted\n",
      "true discrim loss jt.Var([4.9228706], dtype=float32)\n"
     ]
    },
    {
     "name": "stderr",
     "output_type": "stream",
     "text": [
      " 20%|##        | 4/20 [00:06<00:25,  1.59s/it]"
     ]
    },
    {
     "name": "stdout",
     "output_type": "stream",
     "text": [
      "<|endoftext|>The house breaks into twisted knots\n",
      "true discrim loss jt.Var([4.701775], dtype=float32)\n"
     ]
    },
    {
     "name": "stderr",
     "output_type": "stream",
     "text": [
      " 25%|##5       | 5/20 [00:08<00:22,  1.50s/it]"
     ]
    },
    {
     "name": "stdout",
     "output_type": "stream",
     "text": [
      "<|endoftext|>The house breaks into twisted knots in\n",
      "true discrim loss jt.Var([4.4500446], dtype=float32)\n"
     ]
    },
    {
     "name": "stderr",
     "output_type": "stream",
     "text": [
      " 30%|###       | 6/20 [00:09<00:22,  1.57s/it]"
     ]
    },
    {
     "name": "stdout",
     "output_type": "stream",
     "text": [
      "<|endoftext|>The house breaks into twisted knots in the\n",
      "true discrim loss jt.Var([4.291783], dtype=float32)\n"
     ]
    },
    {
     "name": "stderr",
     "output_type": "stream",
     "text": [
      " 35%|###5      | 7/20 [00:11<00:22,  1.72s/it]"
     ]
    },
    {
     "name": "stdout",
     "output_type": "stream",
     "text": [
      "<|endoftext|>The house breaks into twisted knots in the pause\n",
      "true discrim loss jt.Var([4.312195], dtype=float32)\n"
     ]
    },
    {
     "name": "stderr",
     "output_type": "stream",
     "text": [
      " 40%|####      | 8/20 [00:14<00:23,  1.93s/it]"
     ]
    },
    {
     "name": "stdout",
     "output_type": "stream",
     "text": [
      "<|endoftext|>The house breaks into twisted knots in the pause to\n",
      "true discrim loss jt.Var([4.1988525], dtype=float32)\n"
     ]
    },
    {
     "name": "stderr",
     "output_type": "stream",
     "text": [
      " 45%|####5     | 9/20 [00:16<00:23,  2.16s/it]"
     ]
    },
    {
     "name": "stdout",
     "output_type": "stream",
     "text": [
      "<|endoftext|>The house breaks into twisted knots in the pause to an\n",
      "true discrim loss jt.Var([4.300125], dtype=float32)\n"
     ]
    },
    {
     "name": "stderr",
     "output_type": "stream",
     "text": [
      " 50%|#####     | 10/20 [00:18<00:19,  1.92s/it]"
     ]
    },
    {
     "name": "stdout",
     "output_type": "stream",
     "text": [
      "<|endoftext|>The house breaks into twisted knots in the pause to an extraordinarily\n",
      "true discrim loss jt.Var([3.8422315], dtype=float32)\n"
     ]
    },
    {
     "name": "stderr",
     "output_type": "stream",
     "text": [
      " 55%|#####5    | 11/20 [00:20<00:16,  1.88s/it]"
     ]
    },
    {
     "name": "stdout",
     "output_type": "stream",
     "text": [
      "<|endoftext|>The house breaks into twisted knots in the pause to an extraordinarily accident\n",
      "true discrim loss jt.Var([3.767496], dtype=float32)\n"
     ]
    },
    {
     "name": "stderr",
     "output_type": "stream",
     "text": [
      " 60%|######    | 12/20 [00:22<00:15,  1.93s/it]"
     ]
    },
    {
     "name": "stdout",
     "output_type": "stream",
     "text": [
      "<|endoftext|>The house breaks into twisted knots in the pause to an extraordinarily accident-\n",
      "true discrim loss jt.Var([3.7326777], dtype=float32)\n"
     ]
    },
    {
     "name": "stderr",
     "output_type": "stream",
     "text": [
      " 65%|######5   | 13/20 [00:24<00:14,  2.07s/it]"
     ]
    },
    {
     "name": "stdout",
     "output_type": "stream",
     "text": [
      "<|endoftext|>The house breaks into twisted knots in the pause to an extraordinarily accident-ridden\n",
      "true discrim loss jt.Var([3.6446607], dtype=float32)\n"
     ]
    },
    {
     "name": "stderr",
     "output_type": "stream",
     "text": [
      " 70%|#######   | 14/20 [00:27<00:13,  2.29s/it]"
     ]
    },
    {
     "name": "stdout",
     "output_type": "stream",
     "text": [
      "<|endoftext|>The house breaks into twisted knots in the pause to an extraordinarily accident-ridden stadium\n",
      "true discrim loss jt.Var([3.6401997], dtype=float32)\n"
     ]
    },
    {
     "name": "stderr",
     "output_type": "stream",
     "text": [
      " 75%|#######5  | 15/20 [00:30<00:12,  2.51s/it]"
     ]
    },
    {
     "name": "stdout",
     "output_type": "stream",
     "text": [
      "<|endoftext|>The house breaks into twisted knots in the pause to an extraordinarily accident-ridden stadium season\n",
      "true discrim loss jt.Var([3.5053616], dtype=float32)\n"
     ]
    },
    {
     "name": "stderr",
     "output_type": "stream",
     "text": [
      " 80%|########  | 16/20 [00:32<00:09,  2.29s/it]"
     ]
    },
    {
     "name": "stdout",
     "output_type": "stream",
     "text": [
      "<|endoftext|>The house breaks into twisted knots in the pause to an extraordinarily accident-ridden stadium season for\n",
      "true discrim loss jt.Var([3.285278], dtype=float32)\n"
     ]
    },
    {
     "name": "stderr",
     "output_type": "stream",
     "text": [
      " 85%|########5 | 17/20 [00:34<00:06,  2.25s/it]"
     ]
    },
    {
     "name": "stdout",
     "output_type": "stream",
     "text": [
      "<|endoftext|>The house breaks into twisted knots in the pause to an extraordinarily accident-ridden stadium season for Petr\n",
      "true discrim loss jt.Var([3.4734151], dtype=float32)\n"
     ]
    },
    {
     "name": "stderr",
     "output_type": "stream",
     "text": [
      " 90%|######### | 18/20 [00:36<00:04,  2.31s/it]"
     ]
    },
    {
     "name": "stdout",
     "output_type": "stream",
     "text": [
      "<|endoftext|>The house breaks into twisted knots in the pause to an extraordinarily accident-ridden stadium season for Petr C\n",
      "true discrim loss jt.Var([3.7524889], dtype=float32)\n"
     ]
    },
    {
     "name": "stderr",
     "output_type": "stream",
     "text": [
      " 95%|#########5| 19/20 [00:39<00:02,  2.45s/it]"
     ]
    },
    {
     "name": "stdout",
     "output_type": "stream",
     "text": [
      "<|endoftext|>The house breaks into twisted knots in the pause to an extraordinarily accident-ridden stadium season for Petr Cech\n",
      "true discrim loss jt.Var([3.5906625], dtype=float32)\n"
     ]
    },
    {
     "name": "stderr",
     "output_type": "stream",
     "text": [
      "100%|##########| 20/20 [00:42<00:00,  2.13s/it]\n"
     ]
    },
    {
     "name": "stdout",
     "output_type": "stream",
     "text": [
      "<|endoftext|>The house breaks into twisted knots in the pause to an extraordinarily accident-ridden stadium season for Petr Cech,\n"
     ]
    },
    {
     "name": "stderr",
     "output_type": "stream",
     "text": [
      "  0%|          | 0/20 [00:00<?, ?it/s]"
     ]
    },
    {
     "name": "stdout",
     "output_type": "stream",
     "text": [
      "discrim jt.Var([0.], dtype=float32)\n",
      "Discrim Loss:  jt.Var([0.], dtype=float32)\n",
      "discrim jt.Var([0.], dtype=float32)\n",
      "Discrim Loss:  jt.Var([0.], dtype=float32)\n",
      "discrim jt.Var([0.], dtype=float32)\n",
      "Discrim Loss:  jt.Var([0.], dtype=float32)\n",
      "true discrim loss jt.Var([6.180008], dtype=float32)\n"
     ]
    },
    {
     "name": "stderr",
     "output_type": "stream",
     "text": [
      "  5%|5         | 1/20 [00:05<01:46,  5.59s/it]"
     ]
    },
    {
     "name": "stdout",
     "output_type": "stream",
     "text": [
      "<|endoftext|>The house is\n",
      "discrim jt.Var([0.], dtype=float32)\n",
      "Discrim Loss:  jt.Var([0.], dtype=float32)\n",
      "discrim jt.Var([0.], dtype=float32)\n",
      "Discrim Loss:  jt.Var([0.], dtype=float32)\n",
      "discrim jt.Var([0.], dtype=float32)\n",
      "Discrim Loss:  jt.Var([0.], dtype=float32)\n",
      "true discrim loss jt.Var([5.000159], dtype=float32)"
     ]
    },
    {
     "name": "stderr",
     "output_type": "stream",
     "text": [
      " 10%|#         | 2/20 [00:10<01:37,  5.44s/it]"
     ]
    },
    {
     "name": "stdout",
     "output_type": "stream",
     "text": [
      "\n",
      "<|endoftext|>The house is a\n",
      "discrim jt.Var([0.], dtype=float32)\n",
      "Discrim Loss:  jt.Var([0.], dtype=float32)\n",
      "discrim jt.Var([0.], dtype=float32)\n",
      "Discrim Loss:  jt.Var([0.], dtype=float32)\n",
      "discrim jt.Var([0.], dtype=float32)\n",
      "Discrim Loss:  jt.Var([0.], dtype=float32)\n",
      "true discrim loss jt.Var([4.1210465], dtype=float32)"
     ]
    },
    {
     "name": "stderr",
     "output_type": "stream",
     "text": [
      " 15%|#5        | 3/20 [00:16<01:34,  5.54s/it]"
     ]
    },
    {
     "name": "stdout",
     "output_type": "stream",
     "text": [
      "\n",
      "<|endoftext|>The house is a little\n",
      "discrim jt.Var([0.], dtype=float32)\n",
      "Discrim Loss:  jt.Var([0.], dtype=float32)\n",
      "discrim jt.Var([0.], dtype=float32)\n",
      "Discrim Loss:  jt.Var([0.], dtype=float32)\n",
      "discrim jt.Var([0.], dtype=float32)\n",
      "Discrim Loss:  jt.Var([0.], dtype=float32)\n",
      "true discrim loss jt.Var([4.8801603], dtype=float32)"
     ]
    },
    {
     "name": "stderr",
     "output_type": "stream",
     "text": [
      " 20%|##        | 4/20 [00:21<01:22,  5.17s/it]"
     ]
    },
    {
     "name": "stdout",
     "output_type": "stream",
     "text": [
      "\n",
      "<|endoftext|>The house is a little smaller\n",
      "discrim jt.Var([0.], dtype=float32)\n",
      "Discrim Loss:  jt.Var([0.], dtype=float32)\n",
      "discrim jt.Var([0.], dtype=float32)\n",
      "Discrim Loss:  jt.Var([0.], dtype=float32)\n",
      "discrim jt.Var([0.], dtype=float32)\n",
      "Discrim Loss:  jt.Var([0.], dtype=float32)\n",
      "true discrim loss jt.Var([4.3459105], dtype=float32)\n"
     ]
    },
    {
     "name": "stderr",
     "output_type": "stream",
     "text": [
      " 25%|##5       | 5/20 [00:26<01:16,  5.09s/it]"
     ]
    },
    {
     "name": "stdout",
     "output_type": "stream",
     "text": [
      "<|endoftext|>The house is a little smaller.\n",
      "discrim jt.Var([0.], dtype=float32)\n",
      "Discrim Loss:  jt.Var([0.], dtype=float32)\n",
      "discrim jt.Var([0.], dtype=float32)\n",
      "Discrim Loss:  jt.Var([0.], dtype=float32)\n",
      "discrim jt.Var([0.], dtype=float32)\n",
      "Discrim Loss:  jt.Var([0.], dtype=float32)\n",
      "true discrim loss jt.Var([4.372131], dtype=float32)\n"
     ]
    },
    {
     "name": "stderr",
     "output_type": "stream",
     "text": [
      " 30%|###       | 6/20 [00:31<01:12,  5.15s/it]"
     ]
    },
    {
     "name": "stdout",
     "output_type": "stream",
     "text": [
      "<|endoftext|>The house is a little smaller. But\n",
      "discrim jt.Var([0.], dtype=float32)\n",
      "Discrim Loss:  jt.Var([0.], dtype=float32)\n",
      "discrim jt.Var([0.], dtype=float32)\n",
      "Discrim Loss:  jt.Var([0.], dtype=float32)\n",
      "discrim jt.Var([0.], dtype=float32)\n",
      "Discrim Loss:  jt.Var([0.], dtype=float32)\n",
      "true discrim loss jt.Var([4.389021], dtype=float32)\n"
     ]
    },
    {
     "name": "stderr",
     "output_type": "stream",
     "text": [
      " 35%|###5      | 7/20 [00:37<01:08,  5.30s/it]"
     ]
    },
    {
     "name": "stdout",
     "output_type": "stream",
     "text": [
      "<|endoftext|>The house is a little smaller. But it\n",
      "discrim jt.Var([0.], dtype=float32)\n",
      "Discrim Loss:  jt.Var([0.], dtype=float32)\n",
      "discrim jt.Var([0.], dtype=float32)\n",
      "Discrim Loss:  jt.Var([0.], dtype=float32)\n",
      "discrim jt.Var([0.], dtype=float32)\n",
      "Discrim Loss:  jt.Var([0.], dtype=float32)\n",
      "true discrim loss jt.Var([4.281989], dtype=float32)\n"
     ]
    },
    {
     "name": "stderr",
     "output_type": "stream",
     "text": [
      " 40%|####      | 8/20 [00:42<01:06,  5.50s/it]"
     ]
    },
    {
     "name": "stdout",
     "output_type": "stream",
     "text": [
      "<|endoftext|>The house is a little smaller. But it's\n",
      "discrim jt.Var([0.], dtype=float32)\n",
      "Discrim Loss:  jt.Var([0.], dtype=float32)\n",
      "discrim jt.Var([0.], dtype=float32)\n",
      "Discrim Loss:  jt.Var([0.], dtype=float32)\n",
      "discrim jt.Var([0.], dtype=float32)\n",
      "Discrim Loss:  jt.Var([0.], dtype=float32)\n"
     ]
    },
    {
     "name": "stderr",
     "output_type": "stream",
     "text": [
      " 45%|####5     | 9/20 [00:49<01:03,  5.75s/it]"
     ]
    },
    {
     "name": "stdout",
     "output_type": "stream",
     "text": [
      "true discrim loss jt.Var([4.1572347], dtype=float32)\n",
      "<|endoftext|>The house is a little smaller. But it's still\n",
      "discrim jt.Var([0.], dtype=float32)\n",
      "Discrim Loss:  jt.Var([0.], dtype=float32)\n",
      "discrim jt.Var([0.], dtype=float32)\n",
      "Discrim Loss:  jt.Var([0.], dtype=float32)\n",
      "discrim jt.Var([0.], dtype=float32)\n",
      "Discrim Loss:  jt.Var([0.], dtype=float32)\n",
      "true discrim loss "
     ]
    },
    {
     "name": "stderr",
     "output_type": "stream",
     "text": [
      " 50%|#####     | 10/20 [00:54<00:55,  5.52s/it]"
     ]
    },
    {
     "name": "stdout",
     "output_type": "stream",
     "text": [
      "jt.Var([3.9403687], dtype=float32)\n",
      "<|endoftext|>The house is a little smaller. But it's still beautiful\n",
      "discrim jt.Var([0.], dtype=float32)\n",
      "Discrim Loss:  jt.Var([0.], dtype=float32)\n",
      "discrim jt.Var([0.], dtype=float32)\n",
      "Discrim Loss:  jt.Var([0.], dtype=float32)\n",
      "discrim jt.Var([0.], dtype=float32)\n",
      "Discrim Loss:  jt.Var([0.], dtype=float32)\n"
     ]
    },
    {
     "name": "stderr",
     "output_type": "stream",
     "text": [
      " 55%|#####5    | 11/20 [00:59<00:49,  5.46s/it]"
     ]
    },
    {
     "name": "stdout",
     "output_type": "stream",
     "text": [
      "true discrim loss jt.Var([2.8636324], dtype=float32)\n",
      "<|endoftext|>The house is a little smaller. But it's still beautiful.\n",
      "discrim jt.Var([0.], dtype=float32)\n",
      "Discrim Loss:  jt.Var([0.], dtype=float32)\n",
      "discrim jt.Var([0.], dtype=float32)\n",
      "Discrim Loss:  jt.Var([0.], dtype=float32)\n",
      "discrim jt.Var([0.], dtype=float32)\n",
      "Discrim Loss:  jt.Var([0.], dtype=float32)\n",
      "true discrim loss jt.Var([2.613932], dtype=float32)\n"
     ]
    },
    {
     "name": "stderr",
     "output_type": "stream",
     "text": [
      " 60%|######    | 12/20 [01:05<00:44,  5.53s/it]"
     ]
    },
    {
     "name": "stdout",
     "output_type": "stream",
     "text": [
      "<|endoftext|>The house is a little smaller. But it's still beautiful.\n",
      "\n",
      "discrim jt.Var([0.], dtype=float32)\n",
      "Discrim Loss:  jt.Var([0.], dtype=float32)\n",
      "discrim jt.Var([0.], dtype=float32)\n",
      "Discrim Loss:  jt.Var([0.], dtype=float32)\n",
      "discrim jt.Var([0.], dtype=float32)\n",
      "Discrim Loss:  jt.Var([0.], dtype=float32)\n",
      "true discrim loss jt.Var([2.56343], dtype=float32)\n"
     ]
    },
    {
     "name": "stderr",
     "output_type": "stream",
     "text": [
      " 65%|######5   | 13/20 [01:11<00:39,  5.68s/it]"
     ]
    },
    {
     "name": "stdout",
     "output_type": "stream",
     "text": [
      "<|endoftext|>The house is a little smaller. But it's still beautiful.\n",
      "\n",
      "\n",
      "discrim jt.Var([0.], dtype=float32)\n",
      "Discrim Loss:  jt.Var([0.], dtype=float32)\n",
      "discrim jt.Var([0.], dtype=float32)\n",
      "Discrim Loss:  jt.Var([0.], dtype=float32)\n",
      "discrim jt.Var([0.], dtype=float32)\n",
      "Discrim Loss:  jt.Var([0.], dtype=float32)\n",
      "true discrim loss "
     ]
    },
    {
     "name": "stderr",
     "output_type": "stream",
     "text": [
      " 70%|#######   | 14/20 [01:17<00:35,  5.87s/it]"
     ]
    },
    {
     "name": "stdout",
     "output_type": "stream",
     "text": [
      "jt.Var([2.537046], dtype=float32)\n",
      "<|endoftext|>The house is a little smaller. But it's still beautiful.\n",
      "\n",
      "\"\n",
      "discrim jt.Var([0.], dtype=float32)\n",
      "Discrim Loss:  jt.Var([0.], dtype=float32)\n",
      "discrim jt.Var([0.], dtype=float32)\n",
      "Discrim Loss:  jt.Var([0.], dtype=float32)\n",
      "discrim jt.Var([0.], dtype=float32)\n",
      "Discrim Loss:  jt.Var([0.], dtype=float32)\n",
      "true discrim loss jt.Var([2.4050667], dtype=float32)\n"
     ]
    },
    {
     "name": "stderr",
     "output_type": "stream",
     "text": [
      " 75%|#######5  | 15/20 [01:24<00:30,  6.11s/it]"
     ]
    },
    {
     "name": "stdout",
     "output_type": "stream",
     "text": [
      "<|endoftext|>The house is a little smaller. But it's still beautiful.\n",
      "\n",
      "\"That\n",
      "discrim jt.Var([0.], dtype=float32)\n",
      "Discrim Loss:  jt.Var([0.], dtype=float32)\n",
      "discrim jt.Var([0.], dtype=float32)\n",
      "Discrim Loss:  jt.Var([0.], dtype=float32)\n",
      "discrim jt.Var([0.], dtype=float32)\n",
      "Discrim Loss:  jt.Var([0.], dtype=float32)\n"
     ]
    },
    {
     "name": "stderr",
     "output_type": "stream",
     "text": [
      " 80%|########  | 16/20 [01:29<00:23,  5.90s/it]"
     ]
    },
    {
     "name": "stdout",
     "output_type": "stream",
     "text": [
      "true discrim loss jt.Var([2.3164787], dtype=float32)\n",
      "<|endoftext|>The house is a little smaller. But it's still beautiful.\n",
      "\n",
      "\"That is\n",
      "discrim jt.Var([0.], dtype=float32)\n",
      "Discrim Loss:  jt.Var([0.], dtype=float32)\n",
      "discrim jt.Var([0.], dtype=float32)\n",
      "Discrim Loss:  jt.Var([0.], dtype=float32)\n",
      "discrim jt.Var([0.], dtype=float32)\n",
      "Discrim Loss:  jt.Var([0.], dtype=float32)\n"
     ]
    },
    {
     "name": "stderr",
     "output_type": "stream",
     "text": [
      " 85%|########5 | 17/20 [01:35<00:17,  5.86s/it]"
     ]
    },
    {
     "name": "stdout",
     "output_type": "stream",
     "text": [
      "true discrim loss jt.Var([2.1433198], dtype=float32)\n",
      "<|endoftext|>The house is a little smaller. But it's still beautiful.\n",
      "\n",
      "\"That is one\n",
      "discrim jt.Var([0.], dtype=float32)\n",
      "Discrim Loss:  jt.Var([0.], dtype=float32)\n",
      "discrim jt.Var([0.], dtype=float32)\n",
      "Discrim Loss:  jt.Var([0.], dtype=float32)\n",
      "discrim jt.Var([0.], dtype=float32)\n",
      "Discrim Loss:  jt.Var([0.], dtype=float32)\n",
      "true discrim loss "
     ]
    },
    {
     "name": "stderr",
     "output_type": "stream",
     "text": [
      " 90%|######### | 18/20 [01:42<00:12,  6.25s/it]"
     ]
    },
    {
     "name": "stdout",
     "output_type": "stream",
     "text": [
      "jt.Var([1.8759873], dtype=float32)\n",
      "<|endoftext|>The house is a little smaller. But it's still beautiful.\n",
      "\n",
      "\"That is one of\n",
      "discrim jt.Var([0.], dtype=float32)\n",
      "Discrim Loss:  jt.Var([0.], dtype=float32)\n",
      "discrim jt.Var([0.], dtype=float32)\n",
      "Discrim Loss:  jt.Var([0.], dtype=float32)\n",
      "discrim jt.Var([0.], dtype=float32)\n",
      "Discrim Loss:  jt.Var([0.], dtype=float32)\n",
      "true discrim loss jt.Var([1.6486385], dtype=float32)\n"
     ]
    },
    {
     "name": "stderr",
     "output_type": "stream",
     "text": [
      " 95%|#########5| 19/20 [01:49<00:06,  6.32s/it]"
     ]
    },
    {
     "name": "stdout",
     "output_type": "stream",
     "text": [
      "<|endoftext|>The house is a little smaller. But it's still beautiful.\n",
      "\n",
      "\"That is one of the\n",
      "discrim jt.Var([0.], dtype=float32)\n",
      "Discrim Loss:  jt.Var([0.], dtype=float32)\n",
      "discrim jt.Var([0.], dtype=float32)\n",
      "Discrim Loss:  jt.Var([0.], dtype=float32)\n",
      "discrim jt.Var([0.], dtype=float32)\n",
      "Discrim Loss:  jt.Var([0.], dtype=float32)\n"
     ]
    },
    {
     "name": "stderr",
     "output_type": "stream",
     "text": [
      "100%|##########| 20/20 [01:55<00:00,  5.79s/it]\n"
     ]
    },
    {
     "name": "stdout",
     "output_type": "stream",
     "text": [
      "true discrim loss jt.Var([1.513478], dtype=float32)\n",
      "<|endoftext|>The house is a little smaller. But it's still beautiful.\n",
      "\n",
      "\"That is one of the great\n",
      "================================================================================\n",
      "======================================== Whole sentence (Original)========================================\n",
      "<|endoftext|>The house breaks into twisted knots in the pause to an extraordinarily accident-ridden stadium season for Petr Cech,\n",
      "================================================================================\n",
      "======================================== Whole sentence (Perturbed)========================================\n",
      "<|endoftext|>The house is a little smaller. But it's still beautiful.\n",
      "\n",
      "\"That is one of the great\n",
      "================================================================================\n",
      "======================================== Prefix of sentence ========================================\n",
      "<|endoftext|>The food\n",
      "================================================================================\n",
      "Using PPLM-Discrim\n"
     ]
    },
    {
     "name": "stderr",
     "output_type": "stream",
     "text": [
      "  0%|          | 0/20 [00:00<?, ?it/s]"
     ]
    },
    {
     "name": "stdout",
     "output_type": "stream",
     "text": [
      "true discrim loss "
     ]
    },
    {
     "name": "stderr",
     "output_type": "stream",
     "text": [
      "  5%|5         | 1/20 [00:02<00:38,  2.03s/it]"
     ]
    },
    {
     "name": "stdout",
     "output_type": "stream",
     "text": [
      "jt.Var([6.0628715], dtype=float32)\n",
      "<|endoftext|>The food stamps\n",
      "true discrim loss jt.Var([6.4974084], dtype=float32)\n"
     ]
    },
    {
     "name": "stderr",
     "output_type": "stream",
     "text": [
      " 10%|#         | 2/20 [00:03<00:33,  1.88s/it]"
     ]
    },
    {
     "name": "stdout",
     "output_type": "stream",
     "text": [
      "<|endoftext|>The food stamps program\n",
      "true discrim loss jt.Var([6.3976912], dtype=float32)\n"
     ]
    },
    {
     "name": "stderr",
     "output_type": "stream",
     "text": [
      " 15%|#5        | 3/20 [00:05<00:34,  2.00s/it]"
     ]
    },
    {
     "name": "stdout",
     "output_type": "stream",
     "text": [
      "<|endoftext|>The food stamps program is\n",
      "true discrim loss jt.Var([6.416076], dtype=float32)\n"
     ]
    },
    {
     "name": "stderr",
     "output_type": "stream",
     "text": [
      " 20%|##        | 4/20 [00:06<00:25,  1.62s/it]"
     ]
    },
    {
     "name": "stdout",
     "output_type": "stream",
     "text": [
      "<|endoftext|>The food stamps program is a\n",
      "true discrim loss jt.Var([6.1273575], dtype=float32)\n"
     ]
    },
    {
     "name": "stderr",
     "output_type": "stream",
     "text": [
      " 25%|##5       | 5/20 [00:08<00:22,  1.53s/it]"
     ]
    },
    {
     "name": "stdout",
     "output_type": "stream",
     "text": [
      "<|endoftext|>The food stamps program is a federal\n",
      "true discrim loss jt.Var([5.621401], dtype=float32)\n"
     ]
    },
    {
     "name": "stderr",
     "output_type": "stream",
     "text": [
      " 30%|###       | 6/20 [00:10<00:22,  1.61s/it]"
     ]
    },
    {
     "name": "stdout",
     "output_type": "stream",
     "text": [
      "<|endoftext|>The food stamps program is a federal program\n",
      "true discrim loss jt.Var([5.206144], dtype=float32)\n"
     ]
    },
    {
     "name": "stderr",
     "output_type": "stream",
     "text": [
      " 35%|###5      | 7/20 [00:12<00:22,  1.75s/it]"
     ]
    },
    {
     "name": "stdout",
     "output_type": "stream",
     "text": [
      "<|endoftext|>The food stamps program is a federal program that\n",
      "true discrim loss jt.Var([5.0233445], dtype=float32)\n"
     ]
    },
    {
     "name": "stderr",
     "output_type": "stream",
     "text": [
      " 40%|####      | 8/20 [00:14<00:23,  1.96s/it]"
     ]
    },
    {
     "name": "stdout",
     "output_type": "stream",
     "text": [
      "<|endoftext|>The food stamps program is a federal program that allows\n",
      "true discrim loss jt.Var([4.8246565], dtype=float32)\n"
     ]
    },
    {
     "name": "stderr",
     "output_type": "stream",
     "text": [
      " 45%|####5     | 9/20 [00:17<00:24,  2.20s/it]"
     ]
    },
    {
     "name": "stdout",
     "output_type": "stream",
     "text": [
      "<|endoftext|>The food stamps program is a federal program that allows households\n",
      "true discrim loss jt.Var([4.7938805], dtype=float32)\n"
     ]
    },
    {
     "name": "stderr",
     "output_type": "stream",
     "text": [
      " 50%|#####     | 10/20 [00:18<00:19,  1.96s/it]"
     ]
    },
    {
     "name": "stdout",
     "output_type": "stream",
     "text": [
      "<|endoftext|>The food stamps program is a federal program that allows households to\n",
      "true discrim loss jt.Var([4.8946657], dtype=float32)\n"
     ]
    },
    {
     "name": "stderr",
     "output_type": "stream",
     "text": [
      " 55%|#####5    | 11/20 [00:20<00:17,  1.91s/it]"
     ]
    },
    {
     "name": "stdout",
     "output_type": "stream",
     "text": [
      "<|endoftext|>The food stamps program is a federal program that allows households to receive\n",
      "true discrim loss jt.Var([4.761426], dtype=float32)\n"
     ]
    },
    {
     "name": "stderr",
     "output_type": "stream",
     "text": [
      " 60%|######    | 12/20 [00:22<00:15,  1.98s/it]"
     ]
    },
    {
     "name": "stdout",
     "output_type": "stream",
     "text": [
      "<|endoftext|>The food stamps program is a federal program that allows households to receive food\n",
      "true discrim loss jt.Var([4.639595], dtype=float32)\n"
     ]
    },
    {
     "name": "stderr",
     "output_type": "stream",
     "text": [
      " 65%|######5   | 13/20 [00:25<00:14,  2.12s/it]"
     ]
    },
    {
     "name": "stdout",
     "output_type": "stream",
     "text": [
      "<|endoftext|>The food stamps program is a federal program that allows households to receive food stamps\n",
      "true discrim loss jt.Var([4.429302], dtype=float32)\n"
     ]
    },
    {
     "name": "stderr",
     "output_type": "stream",
     "text": [
      " 70%|#######   | 14/20 [00:27<00:13,  2.31s/it]"
     ]
    },
    {
     "name": "stdout",
     "output_type": "stream",
     "text": [
      "<|endoftext|>The food stamps program is a federal program that allows households to receive food stamps.\n",
      "true discrim loss jt.Var([4.425313], dtype=float32)\n"
     ]
    },
    {
     "name": "stderr",
     "output_type": "stream",
     "text": [
      " 75%|#######5  | 15/20 [00:30<00:12,  2.56s/it]"
     ]
    },
    {
     "name": "stdout",
     "output_type": "stream",
     "text": [
      "<|endoftext|>The food stamps program is a federal program that allows households to receive food stamps. As\n",
      "true discrim loss jt.Var([4.5301285], dtype=float32)\n"
     ]
    },
    {
     "name": "stderr",
     "output_type": "stream",
     "text": [
      " 80%|########  | 16/20 [00:32<00:09,  2.32s/it]"
     ]
    },
    {
     "name": "stdout",
     "output_type": "stream",
     "text": [
      "<|endoftext|>The food stamps program is a federal program that allows households to receive food stamps. As of\n",
      "true discrim loss jt.Var([4.4615226], dtype=float32)\n"
     ]
    },
    {
     "name": "stderr",
     "output_type": "stream",
     "text": [
      " 85%|########5 | 17/20 [00:34<00:06,  2.28s/it]"
     ]
    },
    {
     "name": "stdout",
     "output_type": "stream",
     "text": [
      "<|endoftext|>The food stamps program is a federal program that allows households to receive food stamps. As of November\n",
      "true discrim loss jt.Var([4.5395274], dtype=float32)\n"
     ]
    },
    {
     "name": "stderr",
     "output_type": "stream",
     "text": [
      " 90%|######### | 18/20 [00:37<00:04,  2.34s/it]"
     ]
    },
    {
     "name": "stdout",
     "output_type": "stream",
     "text": [
      "<|endoftext|>The food stamps program is a federal program that allows households to receive food stamps. As of November 2015\n",
      "true discrim loss jt.Var([4.602385], dtype=float32)\n"
     ]
    },
    {
     "name": "stderr",
     "output_type": "stream",
     "text": [
      " 95%|#########5| 19/20 [00:40<00:02,  2.50s/it]"
     ]
    },
    {
     "name": "stdout",
     "output_type": "stream",
     "text": [
      "<|endoftext|>The food stamps program is a federal program that allows households to receive food stamps. As of November 2015 under\n",
      "true discrim loss jt.Var([4.5514374], dtype=float32)\n"
     ]
    },
    {
     "name": "stderr",
     "output_type": "stream",
     "text": [
      "100%|##########| 20/20 [00:43<00:00,  2.17s/it]\n"
     ]
    },
    {
     "name": "stdout",
     "output_type": "stream",
     "text": [
      "<|endoftext|>The food stamps program is a federal program that allows households to receive food stamps. As of November 2015 under presidential\n"
     ]
    },
    {
     "name": "stderr",
     "output_type": "stream",
     "text": [
      "  0%|          | 0/20 [00:00<?, ?it/s]"
     ]
    },
    {
     "name": "stdout",
     "output_type": "stream",
     "text": [
      "discrim jt.Var([0.], dtype=float32)\n",
      "Discrim Loss:  jt.Var([0.], dtype=float32)\n",
      "discrim jt.Var([0.], dtype=float32)\n",
      "Discrim Loss:  jt.Var([0.], dtype=float32)\n",
      "discrim jt.Var([0.], dtype=float32)\n",
      "Discrim Loss:  jt.Var([0.], dtype=float32)\n",
      "true discrim loss jt.Var([6.0628715], dtype=float32)\n"
     ]
    },
    {
     "name": "stderr",
     "output_type": "stream",
     "text": [
      "  5%|5         | 1/20 [00:05<01:48,  5.72s/it]"
     ]
    },
    {
     "name": "stdout",
     "output_type": "stream",
     "text": [
      "<|endoftext|>The food industry\n",
      "discrim jt.Var([0.], dtype=float32)\n",
      "Discrim Loss:  jt.Var([0.], dtype=float32)\n",
      "discrim jt.Var([0.], dtype=float32)\n",
      "Discrim Loss:  jt.Var([0.], dtype=float32)\n",
      "discrim jt.Var([0.], dtype=float32)\n",
      "Discrim Loss:  jt.Var([0.], dtype=float32)\n",
      "true discrim loss jt.Var([5.6569633], dtype=float32)"
     ]
    },
    {
     "name": "stderr",
     "output_type": "stream",
     "text": [
      " 10%|#         | 2/20 [00:11<01:40,  5.56s/it]"
     ]
    },
    {
     "name": "stdout",
     "output_type": "stream",
     "text": [
      "\n",
      "<|endoftext|>The food industry has\n",
      "discrim jt.Var([0.], dtype=float32)\n",
      "Discrim Loss:  jt.Var([0.], dtype=float32)\n",
      "discrim jt.Var([0.], dtype=float32)\n",
      "Discrim Loss:  jt.Var([0.], dtype=float32)\n",
      "discrim jt.Var([0.], dtype=float32)\n",
      "Discrim Loss:  jt.Var([0.], dtype=float32)\n",
      "true discrim loss jt.Var([5.4017787], dtype=float32)\n"
     ]
    },
    {
     "name": "stderr",
     "output_type": "stream",
     "text": [
      " 15%|#5        | 3/20 [00:16<01:36,  5.67s/it]"
     ]
    },
    {
     "name": "stdout",
     "output_type": "stream",
     "text": [
      "<|endoftext|>The food industry has a\n",
      "discrim jt.Var([0.], dtype=float32)\n",
      "Discrim Loss:  jt.Var([0.], dtype=float32)\n",
      "discrim jt.Var([0.], dtype=float32)\n",
      "Discrim Loss:  jt.Var([0.], dtype=float32)\n",
      "discrim jt.Var([0.], dtype=float32)\n",
      "Discrim Loss:  jt.Var([0.], dtype=float32)\n",
      "true discrim loss jt.Var([5.4930806], dtype=float32)\n"
     ]
    },
    {
     "name": "stderr",
     "output_type": "stream",
     "text": [
      " 20%|##        | 4/20 [00:21<01:24,  5.29s/it]"
     ]
    },
    {
     "name": "stdout",
     "output_type": "stream",
     "text": [
      "<|endoftext|>The food industry has a long\n",
      "discrim jt.Var([0.], dtype=float32)\n",
      "Discrim Loss:  jt.Var([0.], dtype=float32)\n",
      "discrim jt.Var([0.], dtype=float32)\n",
      "Discrim Loss:  jt.Var([0.], dtype=float32)\n",
      "discrim jt.Var([0.], dtype=float32)\n",
      "Discrim Loss:  jt.Var([0.], dtype=float32)\n",
      "true discrim loss "
     ]
    },
    {
     "name": "stderr",
     "output_type": "stream",
     "text": [
      " 25%|##5       | 5/20 [00:26<01:18,  5.20s/it]"
     ]
    },
    {
     "name": "stdout",
     "output_type": "stream",
     "text": [
      "jt.Var([4.883861], dtype=float32)\n",
      "<|endoftext|>The food industry has a long history\n",
      "discrim jt.Var([0.], dtype=float32)\n",
      "Discrim Loss:  jt.Var([0.], dtype=float32)\n",
      "discrim jt.Var([0.], dtype=float32)\n",
      "Discrim Loss:  jt.Var([0.], dtype=float32)\n",
      "discrim jt.Var([0.], dtype=float32)\n",
      "Discrim Loss:  jt.Var([0.], dtype=float32)\n",
      "true discrim loss "
     ]
    },
    {
     "name": "stderr",
     "output_type": "stream",
     "text": [
      " 30%|###       | 6/20 [00:32<01:13,  5.26s/it]"
     ]
    },
    {
     "name": "stdout",
     "output_type": "stream",
     "text": [
      "jt.Var([4.3422074], dtype=float32)\n",
      "<|endoftext|>The food industry has a long history of\n",
      "discrim jt.Var([0.], dtype=float32)\n",
      "Discrim Loss:  jt.Var([0.], dtype=float32)\n",
      "discrim jt.Var([0.], dtype=float32)\n",
      "Discrim Loss:  jt.Var([0.], dtype=float32)\n",
      "discrim jt.Var([0.], dtype=float32)\n",
      "Discrim Loss:  jt.Var([0.], dtype=float32)\n"
     ]
    },
    {
     "name": "stderr",
     "output_type": "stream",
     "text": [
      " 35%|###5      | 7/20 [00:37<01:10,  5.45s/it]"
     ]
    },
    {
     "name": "stdout",
     "output_type": "stream",
     "text": [
      "true discrim loss jt.Var([4.2322474], dtype=float32)\n",
      "<|endoftext|>The food industry has a long history of promoting\n",
      "discrim jt.Var([0.], dtype=float32)\n",
      "Discrim Loss:  jt.Var([0.], dtype=float32)\n",
      "discrim jt.Var([0.], dtype=float32)\n",
      "Discrim Loss:  jt.Var([0.], dtype=float32)\n",
      "discrim jt.Var([0.], dtype=float32)\n",
      "Discrim Loss:  jt.Var([0.], dtype=float32)\n"
     ]
    },
    {
     "name": "stderr",
     "output_type": "stream",
     "text": [
      " 40%|####      | 8/20 [00:44<01:08,  5.68s/it]"
     ]
    },
    {
     "name": "stdout",
     "output_type": "stream",
     "text": [
      "true discrim loss jt.Var([4.0438766], dtype=float32)\n",
      "<|endoftext|>The food industry has a long history of promoting healthy\n",
      "discrim jt.Var([0.], dtype=float32)\n",
      "Discrim Loss:  jt.Var([0.], dtype=float32)\n",
      "discrim jt.Var([0.], dtype=float32)\n",
      "Discrim Loss:  jt.Var([0.], dtype=float32)\n",
      "discrim jt.Var([0.], dtype=float32)\n",
      "Discrim Loss:  jt.Var([0.], dtype=float32)\n"
     ]
    },
    {
     "name": "stderr",
     "output_type": "stream",
     "text": [
      " 45%|####5     | 9/20 [00:50<01:05,  5.95s/it]"
     ]
    },
    {
     "name": "stdout",
     "output_type": "stream",
     "text": [
      "true discrim loss jt.Var([3.542735], dtype=float32)\n",
      "<|endoftext|>The food industry has a long history of promoting healthy lifestyles\n",
      "discrim jt.Var([0.], dtype=float32)\n",
      "Discrim Loss:  jt.Var([0.], dtype=float32)\n",
      "discrim jt.Var([0.], dtype=float32)\n",
      "Discrim Loss:  jt.Var([0.], dtype=float32)\n",
      "discrim jt.Var([0.], dtype=float32)\n",
      "Discrim Loss:  jt.Var([0.], dtype=float32)\n"
     ]
    },
    {
     "name": "stderr",
     "output_type": "stream",
     "text": [
      " 50%|#####     | 10/20 [00:55<00:57,  5.70s/it]"
     ]
    },
    {
     "name": "stdout",
     "output_type": "stream",
     "text": [
      "true discrim loss jt.Var([3.2613082], dtype=float32)\n",
      "<|endoftext|>The food industry has a long history of promoting healthy lifestyles.\n",
      "discrim jt.Var([0.], dtype=float32)\n",
      "Discrim Loss:  jt.Var([0.], dtype=float32)\n",
      "discrim jt.Var([0.], dtype=float32)\n",
      "Discrim Loss:  jt.Var([0.], dtype=float32)\n",
      "discrim jt.Var([0.], dtype=float32)\n",
      "Discrim Loss:  jt.Var([0.], dtype=float32)\n"
     ]
    },
    {
     "name": "stderr",
     "output_type": "stream",
     "text": [
      " 55%|#####5    | 11/20 [01:01<00:50,  5.64s/it]"
     ]
    },
    {
     "name": "stdout",
     "output_type": "stream",
     "text": [
      "true discrim loss jt.Var([3.1329207], dtype=float32)\n",
      "<|endoftext|>The food industry has a long history of promoting healthy lifestyles. The\n",
      "discrim jt.Var([0.], dtype=float32)\n",
      "Discrim Loss:  jt.Var([0.], dtype=float32)\n",
      "discrim jt.Var([0.], dtype=float32)\n",
      "Discrim Loss:  jt.Var([0.], dtype=float32)\n",
      "discrim jt.Var([0.], dtype=float32)\n",
      "Discrim Loss:  jt.Var([0.], dtype=float32)\n",
      "true discrim loss jt.Var([3.140422], dtype=float32)\n"
     ]
    },
    {
     "name": "stderr",
     "output_type": "stream",
     "text": [
      " 60%|######    | 12/20 [01:07<00:45,  5.69s/it]"
     ]
    },
    {
     "name": "stdout",
     "output_type": "stream",
     "text": [
      "<|endoftext|>The food industry has a long history of promoting healthy lifestyles. The food\n",
      "discrim jt.Var([0.], dtype=float32)\n",
      "Discrim Loss:  jt.Var([0.], dtype=float32)\n",
      "discrim jt.Var([0.], dtype=float32)\n",
      "Discrim Loss:  jt.Var([0.], dtype=float32)\n",
      "discrim jt.Var([0.], dtype=float32)\n",
      "Discrim Loss:  jt.Var([0.], dtype=float32)\n",
      "true discrim loss "
     ]
    },
    {
     "name": "stderr",
     "output_type": "stream",
     "text": [
      " 65%|######5   | 13/20 [01:13<00:40,  5.83s/it]"
     ]
    },
    {
     "name": "stdout",
     "output_type": "stream",
     "text": [
      "jt.Var([3.2573972], dtype=float32)\n",
      "<|endoftext|>The food industry has a long history of promoting healthy lifestyles. The food industry\n",
      "discrim jt.Var([0.], dtype=float32)\n",
      "Discrim Loss:  jt.Var([0.], dtype=float32)\n",
      "discrim jt.Var([0.], dtype=float32)\n",
      "Discrim Loss:  jt.Var([0.], dtype=float32)\n",
      "discrim jt.Var([0.], dtype=float32)\n",
      "Discrim Loss:  jt.Var([0.], dtype=float32)\n",
      "true discrim loss jt.Var([3.182861], dtype=float32)\n"
     ]
    },
    {
     "name": "stderr",
     "output_type": "stream",
     "text": [
      " 70%|#######   | 14/20 [01:19<00:36,  6.02s/it]"
     ]
    },
    {
     "name": "stdout",
     "output_type": "stream",
     "text": [
      "<|endoftext|>The food industry has a long history of promoting healthy lifestyles. The food industry has\n",
      "discrim jt.Var([0.], dtype=float32)\n",
      "Discrim Loss:  jt.Var([0.], dtype=float32)\n",
      "discrim jt.Var([0.], dtype=float32)\n",
      "Discrim Loss:  jt.Var([0.], dtype=float32)\n",
      "discrim jt.Var([0.], dtype=float32)\n",
      "Discrim Loss:  jt.Var([0.], dtype=float32)\n",
      "true discrim loss jt.Var([3.1703534], dtype=float32)\n"
     ]
    },
    {
     "name": "stderr",
     "output_type": "stream",
     "text": [
      " 75%|#######5  | 15/20 [01:26<00:31,  6.26s/it]"
     ]
    },
    {
     "name": "stdout",
     "output_type": "stream",
     "text": [
      "<|endoftext|>The food industry has a long history of promoting healthy lifestyles. The food industry has also\n",
      "discrim jt.Var([0.], dtype=float32)\n",
      "Discrim Loss:  jt.Var([0.], dtype=float32)\n",
      "discrim jt.Var([0.], dtype=float32)\n",
      "Discrim Loss:  jt.Var([0.], dtype=float32)\n",
      "discrim jt.Var([0.], dtype=float32)\n",
      "Discrim Loss:  jt.Var([0.], dtype=float32)\n",
      "true discrim loss "
     ]
    },
    {
     "name": "stderr",
     "output_type": "stream",
     "text": [
      " 80%|########  | 16/20 [01:32<00:24,  6.03s/it]"
     ]
    },
    {
     "name": "stdout",
     "output_type": "stream",
     "text": [
      "jt.Var([3.1557345], dtype=float32)\n",
      "<|endoftext|>The food industry has a long history of promoting healthy lifestyles. The food industry has also had\n",
      "discrim jt.Var([0.], dtype=float32)\n",
      "Discrim Loss:  jt.Var([0.], dtype=float32)\n",
      "discrim jt.Var([0.], dtype=float32)\n",
      "Discrim Loss:  jt.Var([0.], dtype=float32)\n",
      "discrim jt.Var([0.], dtype=float32)\n",
      "Discrim Loss:  jt.Var([0.], dtype=float32)\n",
      "true discrim loss jt.Var([3.1788292], dtype=float32)\n"
     ]
    },
    {
     "name": "stderr",
     "output_type": "stream",
     "text": [
      " 85%|########5 | 17/20 [01:37<00:17,  5.97s/it]"
     ]
    },
    {
     "name": "stdout",
     "output_type": "stream",
     "text": [
      "<|endoftext|>The food industry has a long history of promoting healthy lifestyles. The food industry has also had a\n",
      "discrim jt.Var([0.], dtype=float32)\n",
      "Discrim Loss:  jt.Var([0.], dtype=float32)\n",
      "discrim jt.Var([0.], dtype=float32)\n",
      "Discrim Loss:  jt.Var([0.], dtype=float32)\n",
      "discrim jt.Var([0.], dtype=float32)\n",
      "Discrim Loss:  jt.Var([0.], dtype=float32)\n",
      "true discrim loss "
     ]
    },
    {
     "name": "stderr",
     "output_type": "stream",
     "text": [
      " 90%|######### | 18/20 [01:44<00:12,  6.05s/it]"
     ]
    },
    {
     "name": "stdout",
     "output_type": "stream",
     "text": [
      "jt.Var([3.2780457], dtype=float32)\n",
      "<|endoftext|>The food industry has a long history of promoting healthy lifestyles. The food industry has also had a long\n",
      "discrim jt.Var([0.], dtype=float32)\n",
      "Discrim Loss:  jt.Var([0.], dtype=float32)\n",
      "discrim jt.Var([0.], dtype=float32)\n",
      "Discrim Loss:  jt.Var([0.], dtype=float32)\n",
      "discrim jt.Var([0.], dtype=float32)\n",
      "Discrim Loss:  jt.Var([0.], dtype=float32)\n",
      "true discrim loss "
     ]
    },
    {
     "name": "stderr",
     "output_type": "stream",
     "text": [
      " 95%|#########5| 19/20 [01:50<00:06,  6.22s/it]"
     ]
    },
    {
     "name": "stdout",
     "output_type": "stream",
     "text": [
      "jt.Var([3.2381408], dtype=float32)\n",
      "<|endoftext|>The food industry has a long history of promoting healthy lifestyles. The food industry has also had a long history\n",
      "discrim jt.Var([0.], dtype=float32)\n",
      "Discrim Loss:  jt.Var([0.], dtype=float32)\n",
      "discrim jt.Var([0.], dtype=float32)\n",
      "Discrim Loss:  jt.Var([0.], dtype=float32)\n",
      "discrim jt.Var([0.], dtype=float32)\n",
      "Discrim Loss:  jt.Var([0.], dtype=float32)\n"
     ]
    },
    {
     "name": "stderr",
     "output_type": "stream",
     "text": [
      "100%|##########| 20/20 [01:57<00:00,  5.88s/it]"
     ]
    },
    {
     "name": "stdout",
     "output_type": "stream",
     "text": [
      "true discrim loss jt.Var([3.248421], dtype=float32)\n",
      "<|endoftext|>The food industry has a long history of promoting healthy lifestyles. The food industry has also had a long history of\n",
      "================================================================================\n",
      "======================================== Whole sentence (Original)========================================\n",
      "<|endoftext|>The food stamps program is a federal program that allows households to receive food stamps. As of November 2015 under presidential\n",
      "================================================================================\n",
      "======================================== Whole sentence (Perturbed)========================================\n",
      "<|endoftext|>The food industry has a long history of promoting healthy lifestyles. The food industry has also had a long history of\n",
      "================================================================================\n"
     ]
    },
    {
     "name": "stderr",
     "output_type": "stream",
     "text": [
      "\n"
     ]
    }
   ],
   "source": [
    "collect_gen = dict()\n",
    "current_index = 0 \n",
    "for out in seq:\n",
    "\n",
    "    text = enc.decode(out)\n",
    "    print(\"=\" * 40 + \" Prefix of sentence \" + \"=\" * 40)\n",
    "    print(text)\n",
    "    print(\"=\" * 80)\n",
    "\n",
    "    out1, out_perturb, discrim_loss_list, loss_in_time_list = latent_perturb(model=model, args=args, context=out)\n",
    "\n",
    "    text_whole = enc.decode(out1.tolist()[0])\n",
    "\n",
    "    print(\"=\" * 80)\n",
    "    print(\"=\" * 40 + \" Whole sentence (Original)\" + \"=\" * 40)\n",
    "    print(text_whole)\n",
    "    print(\"=\" * 80)\n",
    "\n",
    "    out_perturb_copy = out_perturb\n",
    "\n",
    "    generated = 0\n",
    "    # 干扰后的结果\n",
    "    for out_perturb in out_perturb_copy:\n",
    "        try:\n",
    "            print(\"=\" * 40 + \" Whole sentence (Perturbed)\" + \"=\" * 40)\n",
    "            text_whole = enc.decode(out_perturb.tolist()[0])\n",
    "            print(text_whole)\n",
    "            print(\"=\" * 80)\n",
    "        except:\n",
    "            pass\n",
    "        collect_gen[current_index] = [out, out_perturb, out1]\n",
    "        # Save the prefix, perturbed seq, original seq for each index\n",
    "\n",
    "        current_index = current_index + 1"
   ]
  },
  {
   "cell_type": "code",
   "execution_count": 12,
   "metadata": {},
   "outputs": [],
   "source": [
    "def dist_n(sentences, n, encoded = True):\n",
    "    total = 0\n",
    "    for sen in sentences:\n",
    "        if not encoded:\n",
    "            sen = sen.split()\n",
    "        grams = []\n",
    "        for x in range(0, len(sen)-n+1):\n",
    "            grams.append(tuple(sen[x:(x+n)]))\n",
    "        total += len(set(grams)) / len(grams)\n",
    "    return total / len(sentences)\n"
   ]
  },
  {
   "cell_type": "code",
   "execution_count": 13,
   "metadata": {},
   "outputs": [
    {
     "name": "stdout",
     "output_type": "stream",
     "text": [
      "loss tensor(4.2214, grad_fn=<NllLossBackward0>)\n",
      "loss tensor(2.3847, grad_fn=<NllLossBackward0>)\n"
     ]
    }
   ],
   "source": [
    "origin = []\n",
    "perturb = []\n",
    "for idx in range(current_index):\n",
    "    sen = collect_gen[idx]\n",
    "    origin.append(sen[2].tolist()[0])\n",
    "    perturb.append(sen[1].tolist()[0])\n",
    "    # origin.append(enc.decode(sen[2].tolist()[0]))\n",
    "    # perturb.append(enc.decode(sen[1].tolist()[0]))\n",
    "\n",
    "\n",
    "dist_score1 = dist_n(origin, 1)\n",
    "dist_score2 = dist_n(origin, 2)\n",
    "dist_score3 = dist_n(origin, 3)\n",
    "\n",
    "dist_score1p = dist_n(perturb, 1)\n",
    "dist_score2p = dist_n(perturb, 2)\n",
    "dist_score3p = dist_n(perturb, 3)\n",
    "\n",
    "input1 = torch.tensor(origin)\n",
    "input2 = torch.tensor(perturb)\n",
    "\n",
    "pp1 = torch.exp(copy_model(input1,labels=input1).loss)\n",
    "pp2 = torch.exp(copy_model(input2, labels=input2).loss)"
   ]
  },
  {
   "cell_type": "code",
   "execution_count": 16,
   "metadata": {},
   "outputs": [
    {
     "data": {
      "text/plain": [
       "(0.9456521739130435, 0.9886363636363636, 1.0)"
      ]
     },
     "execution_count": 16,
     "metadata": {},
     "output_type": "execute_result"
    }
   ],
   "source": [
    "dist_score1, dist_score2, dist_score3 #original"
   ]
  },
  {
   "cell_type": "code",
   "execution_count": 17,
   "metadata": {},
   "outputs": [
    {
     "data": {
      "text/plain": [
       "(0.8260869565217391, 0.9431818181818181, 0.9642857142857143)"
      ]
     },
     "execution_count": 17,
     "metadata": {},
     "output_type": "execute_result"
    }
   ],
   "source": [
    "dist_score1p, dist_score2p, dist_score3p #perturbed"
   ]
  },
  {
   "cell_type": "code",
   "execution_count": 18,
   "metadata": {},
   "outputs": [
    {
     "data": {
      "text/plain": [
       "(tensor(68.1288, grad_fn=<ExpBackward0>),\n",
       " tensor(10.8557, grad_fn=<ExpBackward0>))"
      ]
     },
     "execution_count": 18,
     "metadata": {},
     "output_type": "execute_result"
    }
   ],
   "source": [
    "pp1, pp2 #perplexity"
   ]
  }
 ],
 "metadata": {
  "kernelspec": {
   "display_name": "Python 3.10.6 ('pytorch')",
   "language": "python",
   "name": "python3"
  },
  "language_info": {
   "codemirror_mode": {
    "name": "ipython",
    "version": 3
   },
   "file_extension": ".py",
   "mimetype": "text/x-python",
   "name": "python",
   "nbconvert_exporter": "python",
   "pygments_lexer": "ipython3",
   "version": "3.10.6"
  },
  "orig_nbformat": 4,
  "vscode": {
   "interpreter": {
    "hash": "a33602734960edb9a5eb3f41aeb58ca5d38f67f324d8923cc6d284c18999f400"
   }
  }
 },
 "nbformat": 4,
 "nbformat_minor": 2
}
